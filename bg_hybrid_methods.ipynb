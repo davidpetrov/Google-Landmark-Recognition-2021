{
 "cells": [
  {
   "cell_type": "code",
   "id": "initial_id",
   "metadata": {
    "collapsed": true,
    "ExecuteTime": {
     "end_time": "2024-07-03T10:06:58.868235Z",
     "start_time": "2024-07-03T10:06:55.128690Z"
    }
   },
   "source": [
    "import pandas as pd\n",
    "import torchvision.transforms as transforms\n",
    "import torch.nn as nn\n",
    "import torch.optim as optim\n",
    "from torchsummary import summary\n",
    "from tqdm.notebook import tqdm\n",
    "import timm\n",
    "from sklearn.model_selection import train_test_split\n",
    "\n",
    "import  metrics\n",
    "import train_utils\n",
    "import importlib\n",
    "importlib.reload(metrics)\n",
    "importlib.reload(train_utils)"
   ],
   "outputs": [
    {
     "data": {
      "text/plain": [
       "<module 'train_utils' from '/home/david/Repos/FMI/Google-Landmark-Recognition-2021/train_utils.py'>"
      ]
     },
     "execution_count": 1,
     "metadata": {},
     "output_type": "execute_result"
    }
   ],
   "execution_count": 1
  },
  {
   "metadata": {
    "ExecuteTime": {
     "end_time": "2024-07-03T10:06:58.872802Z",
     "start_time": "2024-07-03T10:06:58.869157Z"
    }
   },
   "cell_type": "code",
   "source": [
    "bg_landmarks_ids = pd.read_csv(\"bg_landmarks.csv\", sep='\\t')\n",
    "print(f\"BG has {len(bg_landmarks_ids)} landmarks\")"
   ],
   "id": "e15d09509a717cf4",
   "outputs": [
    {
     "name": "stdout",
     "output_type": "stream",
     "text": [
      "BG has 658 landmarks\n"
     ]
    }
   ],
   "execution_count": 2
  },
  {
   "metadata": {
    "ExecuteTime": {
     "end_time": "2024-07-03T19:16:22.501163Z",
     "start_time": "2024-07-03T19:16:21.914492Z"
    }
   },
   "cell_type": "code",
   "source": [
    "BASE_PATH = \"/home/david/Downloads/landmark-recognition-2021\"\n",
    "\n",
    "train_df = pd.read_csv(BASE_PATH + \"/train.csv\")"
   ],
   "id": "92d6c915938cbc6d",
   "outputs": [],
   "execution_count": 90
  },
  {
   "metadata": {
    "ExecuteTime": {
     "end_time": "2024-07-03T10:07:00.278592Z",
     "start_time": "2024-07-03T10:07:00.260583Z"
    }
   },
   "cell_type": "code",
   "source": "device = train_utils.get_device()",
   "id": "33f10755dc137a8d",
   "outputs": [
    {
     "name": "stdout",
     "output_type": "stream",
     "text": [
      "12.1\n",
      "cuda available: True\n",
      "device: cuda\n"
     ]
    }
   ],
   "execution_count": 4
  },
  {
   "metadata": {
    "ExecuteTime": {
     "end_time": "2024-07-03T10:07:01.650782Z",
     "start_time": "2024-07-03T10:07:01.633901Z"
    }
   },
   "cell_type": "code",
   "source": [
    "bg_train_df = train_df[train_df['landmark_id'].isin(bg_landmarks_ids['landmark_id'])]\n",
    "bg_train_df"
   ],
   "id": "4a459be6967e10d4",
   "outputs": [
    {
     "data": {
      "text/plain": [
       "                       id  landmark_id\n",
       "3959     4db638f8d0dc1ce2          481\n",
       "3960     4e454120ba3bfb36          481\n",
       "3961     69ba8a4a5ecc9c61          481\n",
       "3962     81dc5e647b5e9c8b          481\n",
       "3963     a893e44faf1e9640          481\n",
       "...                   ...          ...\n",
       "1580097  c58c445a89cc7ca9       203034\n",
       "1580098  c9d6a8aa86d1fce5       203034\n",
       "1580099  cc4cfcfce95fc633       203034\n",
       "1580100  e48bf94f91142d96       203034\n",
       "1580101  f8aff963e1fd2246       203034\n",
       "\n",
       "[9418 rows x 2 columns]"
      ],
      "text/html": [
       "<div>\n",
       "<style scoped>\n",
       "    .dataframe tbody tr th:only-of-type {\n",
       "        vertical-align: middle;\n",
       "    }\n",
       "\n",
       "    .dataframe tbody tr th {\n",
       "        vertical-align: top;\n",
       "    }\n",
       "\n",
       "    .dataframe thead th {\n",
       "        text-align: right;\n",
       "    }\n",
       "</style>\n",
       "<table border=\"1\" class=\"dataframe\">\n",
       "  <thead>\n",
       "    <tr style=\"text-align: right;\">\n",
       "      <th></th>\n",
       "      <th>id</th>\n",
       "      <th>landmark_id</th>\n",
       "    </tr>\n",
       "  </thead>\n",
       "  <tbody>\n",
       "    <tr>\n",
       "      <th>3959</th>\n",
       "      <td>4db638f8d0dc1ce2</td>\n",
       "      <td>481</td>\n",
       "    </tr>\n",
       "    <tr>\n",
       "      <th>3960</th>\n",
       "      <td>4e454120ba3bfb36</td>\n",
       "      <td>481</td>\n",
       "    </tr>\n",
       "    <tr>\n",
       "      <th>3961</th>\n",
       "      <td>69ba8a4a5ecc9c61</td>\n",
       "      <td>481</td>\n",
       "    </tr>\n",
       "    <tr>\n",
       "      <th>3962</th>\n",
       "      <td>81dc5e647b5e9c8b</td>\n",
       "      <td>481</td>\n",
       "    </tr>\n",
       "    <tr>\n",
       "      <th>3963</th>\n",
       "      <td>a893e44faf1e9640</td>\n",
       "      <td>481</td>\n",
       "    </tr>\n",
       "    <tr>\n",
       "      <th>...</th>\n",
       "      <td>...</td>\n",
       "      <td>...</td>\n",
       "    </tr>\n",
       "    <tr>\n",
       "      <th>1580097</th>\n",
       "      <td>c58c445a89cc7ca9</td>\n",
       "      <td>203034</td>\n",
       "    </tr>\n",
       "    <tr>\n",
       "      <th>1580098</th>\n",
       "      <td>c9d6a8aa86d1fce5</td>\n",
       "      <td>203034</td>\n",
       "    </tr>\n",
       "    <tr>\n",
       "      <th>1580099</th>\n",
       "      <td>cc4cfcfce95fc633</td>\n",
       "      <td>203034</td>\n",
       "    </tr>\n",
       "    <tr>\n",
       "      <th>1580100</th>\n",
       "      <td>e48bf94f91142d96</td>\n",
       "      <td>203034</td>\n",
       "    </tr>\n",
       "    <tr>\n",
       "      <th>1580101</th>\n",
       "      <td>f8aff963e1fd2246</td>\n",
       "      <td>203034</td>\n",
       "    </tr>\n",
       "  </tbody>\n",
       "</table>\n",
       "<p>9418 rows × 2 columns</p>\n",
       "</div>"
      ]
     },
     "execution_count": 5,
     "metadata": {},
     "output_type": "execute_result"
    }
   ],
   "execution_count": 5
  },
  {
   "metadata": {
    "ExecuteTime": {
     "end_time": "2024-07-03T10:07:03.429922Z",
     "start_time": "2024-07-03T10:07:03.427146Z"
    }
   },
   "cell_type": "code",
   "source": [
    "unique_classes = bg_train_df['landmark_id'].unique()\n",
    "print(f\"Unique classes: {len(unique_classes)}\")"
   ],
   "id": "91dd5967b41f77b6",
   "outputs": [
    {
     "name": "stdout",
     "output_type": "stream",
     "text": [
      "Unique classes: 339\n"
     ]
    }
   ],
   "execution_count": 6
  },
  {
   "metadata": {
    "ExecuteTime": {
     "end_time": "2024-07-03T10:07:04.742259Z",
     "start_time": "2024-07-03T10:07:04.733725Z"
    }
   },
   "cell_type": "code",
   "source": [
    "# The cross entropy loss requires the index of the class instead of the label (for example [0-len(unique_classes)-1]\n",
    "label_to_index = {label: idx for idx, label in enumerate(unique_classes)}\n",
    "\n",
    "bg_train_with_index = pd.DataFrame(bg_train_df)\n",
    "# Apply the mapping to the DataFrame\n",
    "bg_train_with_index['label_index'] = bg_train_with_index['landmark_id'].map(label_to_index)\n",
    "bg_train_df = bg_train_with_index\n",
    "bg_train_df"
   ],
   "id": "9305c59ed4928a97",
   "outputs": [
    {
     "data": {
      "text/plain": [
       "                       id  landmark_id  label_index\n",
       "3959     4db638f8d0dc1ce2          481            0\n",
       "3960     4e454120ba3bfb36          481            0\n",
       "3961     69ba8a4a5ecc9c61          481            0\n",
       "3962     81dc5e647b5e9c8b          481            0\n",
       "3963     a893e44faf1e9640          481            0\n",
       "...                   ...          ...          ...\n",
       "1580097  c58c445a89cc7ca9       203034          338\n",
       "1580098  c9d6a8aa86d1fce5       203034          338\n",
       "1580099  cc4cfcfce95fc633       203034          338\n",
       "1580100  e48bf94f91142d96       203034          338\n",
       "1580101  f8aff963e1fd2246       203034          338\n",
       "\n",
       "[9418 rows x 3 columns]"
      ],
      "text/html": [
       "<div>\n",
       "<style scoped>\n",
       "    .dataframe tbody tr th:only-of-type {\n",
       "        vertical-align: middle;\n",
       "    }\n",
       "\n",
       "    .dataframe tbody tr th {\n",
       "        vertical-align: top;\n",
       "    }\n",
       "\n",
       "    .dataframe thead th {\n",
       "        text-align: right;\n",
       "    }\n",
       "</style>\n",
       "<table border=\"1\" class=\"dataframe\">\n",
       "  <thead>\n",
       "    <tr style=\"text-align: right;\">\n",
       "      <th></th>\n",
       "      <th>id</th>\n",
       "      <th>landmark_id</th>\n",
       "      <th>label_index</th>\n",
       "    </tr>\n",
       "  </thead>\n",
       "  <tbody>\n",
       "    <tr>\n",
       "      <th>3959</th>\n",
       "      <td>4db638f8d0dc1ce2</td>\n",
       "      <td>481</td>\n",
       "      <td>0</td>\n",
       "    </tr>\n",
       "    <tr>\n",
       "      <th>3960</th>\n",
       "      <td>4e454120ba3bfb36</td>\n",
       "      <td>481</td>\n",
       "      <td>0</td>\n",
       "    </tr>\n",
       "    <tr>\n",
       "      <th>3961</th>\n",
       "      <td>69ba8a4a5ecc9c61</td>\n",
       "      <td>481</td>\n",
       "      <td>0</td>\n",
       "    </tr>\n",
       "    <tr>\n",
       "      <th>3962</th>\n",
       "      <td>81dc5e647b5e9c8b</td>\n",
       "      <td>481</td>\n",
       "      <td>0</td>\n",
       "    </tr>\n",
       "    <tr>\n",
       "      <th>3963</th>\n",
       "      <td>a893e44faf1e9640</td>\n",
       "      <td>481</td>\n",
       "      <td>0</td>\n",
       "    </tr>\n",
       "    <tr>\n",
       "      <th>...</th>\n",
       "      <td>...</td>\n",
       "      <td>...</td>\n",
       "      <td>...</td>\n",
       "    </tr>\n",
       "    <tr>\n",
       "      <th>1580097</th>\n",
       "      <td>c58c445a89cc7ca9</td>\n",
       "      <td>203034</td>\n",
       "      <td>338</td>\n",
       "    </tr>\n",
       "    <tr>\n",
       "      <th>1580098</th>\n",
       "      <td>c9d6a8aa86d1fce5</td>\n",
       "      <td>203034</td>\n",
       "      <td>338</td>\n",
       "    </tr>\n",
       "    <tr>\n",
       "      <th>1580099</th>\n",
       "      <td>cc4cfcfce95fc633</td>\n",
       "      <td>203034</td>\n",
       "      <td>338</td>\n",
       "    </tr>\n",
       "    <tr>\n",
       "      <th>1580100</th>\n",
       "      <td>e48bf94f91142d96</td>\n",
       "      <td>203034</td>\n",
       "      <td>338</td>\n",
       "    </tr>\n",
       "    <tr>\n",
       "      <th>1580101</th>\n",
       "      <td>f8aff963e1fd2246</td>\n",
       "      <td>203034</td>\n",
       "      <td>338</td>\n",
       "    </tr>\n",
       "  </tbody>\n",
       "</table>\n",
       "<p>9418 rows × 3 columns</p>\n",
       "</div>"
      ]
     },
     "execution_count": 7,
     "metadata": {},
     "output_type": "execute_result"
    }
   ],
   "execution_count": 7
  },
  {
   "metadata": {
    "ExecuteTime": {
     "end_time": "2024-07-03T10:07:06.829872Z",
     "start_time": "2024-07-03T10:07:06.827484Z"
    }
   },
   "cell_type": "code",
   "source": "index_to_label = {v: k for k, v in label_to_index.items()}",
   "id": "64b76ef4e215de52",
   "outputs": [],
   "execution_count": 8
  },
  {
   "metadata": {
    "ExecuteTime": {
     "end_time": "2024-07-03T10:07:07.212381Z",
     "start_time": "2024-07-03T10:07:07.192812Z"
    }
   },
   "cell_type": "code",
   "source": [
    "train_df, val_df = train_test_split(bg_train_df, test_size=0.1, random_state=42)\n",
    "print(f\"len(train_df)={len(train_df)}, len(val_df)={len(val_df)}\")"
   ],
   "id": "3ca636af16ec4ba6",
   "outputs": [
    {
     "name": "stdout",
     "output_type": "stream",
     "text": [
      "len(train_df)=8476, len(val_df)=942\n"
     ]
    }
   ],
   "execution_count": 9
  },
  {
   "metadata": {
    "ExecuteTime": {
     "end_time": "2024-07-03T10:07:07.990477Z",
     "start_time": "2024-07-03T10:07:07.987599Z"
    }
   },
   "cell_type": "code",
   "source": [
    "unique_classes_train = train_df['label_index'].unique()\n",
    "unique_classes_val = val_df['label_index'].unique()\n",
    "print(f\"Unique classes train: {len(unique_classes_train)}  Unique classes val: {len(unique_classes_val)}\")"
   ],
   "id": "1876fa2005cd5a53",
   "outputs": [
    {
     "name": "stdout",
     "output_type": "stream",
     "text": [
      "Unique classes train: 338  Unique classes val: 244\n"
     ]
    }
   ],
   "execution_count": 10
  },
  {
   "metadata": {
    "ExecuteTime": {
     "end_time": "2024-07-02T18:05:48.086492Z",
     "start_time": "2024-07-02T18:05:48.084457Z"
    }
   },
   "cell_type": "code",
   "source": [
    "transform_to_416 = transforms.Compose([\n",
    "    transforms.Resize((416, 416)),\n",
    "    transforms.ToTensor()\n",
    "])"
   ],
   "id": "8a334d8e8cee4645",
   "outputs": [],
   "execution_count": 11
  },
  {
   "metadata": {
    "ExecuteTime": {
     "end_time": "2024-07-02T18:05:48.353319Z",
     "start_time": "2024-07-02T18:05:48.350894Z"
    }
   },
   "cell_type": "code",
   "source": "train_dataloader, val_dataloader = train_utils.get_dataloaders(train_df,val_df, BASE_PATH, transform_to_416, batch_size=4)",
   "id": "a3fd30819ebc8492",
   "outputs": [],
   "execution_count": 12
  },
  {
   "metadata": {
    "ExecuteTime": {
     "end_time": "2024-07-03T10:07:12.993335Z",
     "start_time": "2024-07-03T10:07:12.990192Z"
    }
   },
   "cell_type": "code",
   "source": [
    "class PretrainedClassifier(nn.Module):\n",
    "    def __init__(self, pretrained_model, out_size, num_classes=53):\n",
    "        super(PretrainedClassifier, self).__init__()\n",
    "        self.base_model = timm.create_model(pretrained_model, pretrained=True)\n",
    "        self.features = nn.Sequential(*list(self.base_model.children())[:-1])\n",
    "        \n",
    "        # # Freeze the base model if specified\n",
    "        # for param in self.base_model.parameters():\n",
    "        #     param.requires_grad = False\n",
    "\n",
    "        #making a classfier\n",
    "        self.classifier = nn.Linear(out_size, num_classes)\n",
    "\n",
    "    def forward(self, x):\n",
    "        x = self.features(x)\n",
    "        output = self.classifier(x)\n",
    "        return output\n",
    "    "
   ],
   "id": "e01f4f3cd47837de",
   "outputs": [],
   "execution_count": 11
  },
  {
   "metadata": {
    "ExecuteTime": {
     "end_time": "2024-07-02T19:36:24.290339Z",
     "start_time": "2024-07-02T19:36:23.552980Z"
    }
   },
   "cell_type": "code",
   "source": [
    "    \n",
    "efficient_net = PretrainedClassifier(num_classes=len(unique_classes), pretrained_model='efficientnet_b5.sw_in12k', out_size=2048)"
   ],
   "id": "50c3763c9f8cb411",
   "outputs": [],
   "execution_count": 37
  },
  {
   "metadata": {
    "ExecuteTime": {
     "end_time": "2024-07-02T19:36:28.627714Z",
     "start_time": "2024-07-02T19:36:28.525797Z"
    }
   },
   "cell_type": "code",
   "source": "summary(efficient_net.to(device), (3, 416, 416))",
   "id": "c9f57fe59848fc00",
   "outputs": [
    {
     "name": "stdout",
     "output_type": "stream",
     "text": [
      "====================================================================================================\n",
      "Layer (type:depth-idx)                             Output Shape              Param #\n",
      "====================================================================================================\n",
      "├─Sequential: 1-1                                  [-1, 2048]                --\n",
      "├─EfficientNet: 1                                  []                        --\n",
      "|    └─Conv2d: 2-1                                 [-1, 48, 208, 208]        1,296\n",
      "├─Sequential: 1                                    []                        --\n",
      "|    └─Conv2d: 2-2                                 [-1, 48, 208, 208]        (recursive)\n",
      "├─EfficientNet: 1                                  []                        --\n",
      "|    └─BatchNormAct2d: 2-3                         [-1, 48, 208, 208]        --\n",
      "├─Sequential: 1                                    []                        --\n",
      "|    └─BatchNormAct2d: 2-4                         [-1, 48, 208, 208]        (recursive)\n",
      "├─EfficientNet: 1                                  []                        --\n",
      "|    |    └─Identity: 3-1                          [-1, 48, 208, 208]        --\n",
      "├─Sequential: 1                                    []                        --\n",
      "|    |    └─Identity: 3-2                          [-1, 48, 208, 208]        --\n",
      "├─EfficientNet: 1                                  []                        --\n",
      "|    |    └─SiLU: 3-3                              [-1, 48, 208, 208]        --\n",
      "├─Sequential: 1                                    []                        --\n",
      "|    |    └─SiLU: 3-4                              [-1, 48, 208, 208]        --\n",
      "├─EfficientNet: 1                                  []                        --\n",
      "|    └─Sequential: 2-5                             [-1, 512, 13, 13]         --\n",
      "├─Sequential: 1                                    []                        --\n",
      "|    └─Sequential: 2-6                             [-1, 512, 13, 13]         (recursive)\n",
      "├─EfficientNet: 1                                  []                        --\n",
      "|    |    └─Sequential: 3-5                        [-1, 24, 208, 208]        5,352\n",
      "├─Sequential: 1                                    []                        --\n",
      "|    |    └─Sequential: 3-6                        [-1, 24, 208, 208]        (recursive)\n",
      "├─EfficientNet: 1                                  []                        --\n",
      "|    |    └─Sequential: 3-7                        [-1, 40, 104, 104]        122,846\n",
      "├─Sequential: 1                                    []                        --\n",
      "|    |    └─Sequential: 3-8                        [-1, 40, 104, 104]        (recursive)\n",
      "├─EfficientNet: 1                                  []                        --\n",
      "|    |    └─Sequential: 3-9                        [-1, 64, 52, 52]          329,514\n",
      "├─Sequential: 1                                    []                        --\n",
      "|    |    └─Sequential: 3-10                       [-1, 64, 52, 52]          (recursive)\n",
      "├─EfficientNet: 1                                  []                        --\n",
      "|    |    └─Sequential: 3-11                       [-1, 128, 26, 26]         1,632,464\n",
      "├─Sequential: 1                                    []                        --\n",
      "|    |    └─Sequential: 3-12                       [-1, 128, 26, 26]         (recursive)\n",
      "├─EfficientNet: 1                                  []                        --\n",
      "|    |    └─Sequential: 3-13                       [-1, 176, 26, 26]         3,286,344\n",
      "├─Sequential: 1                                    []                        --\n",
      "|    |    └─Sequential: 3-14                       [-1, 176, 26, 26]         (recursive)\n",
      "├─EfficientNet: 1                                  []                        --\n",
      "|    |    └─Sequential: 3-15                       [-1, 304, 13, 13]         12,165,292\n",
      "├─Sequential: 1                                    []                        --\n",
      "|    |    └─Sequential: 3-16                       [-1, 304, 13, 13]         (recursive)\n",
      "├─EfficientNet: 1                                  []                        --\n",
      "|    |    └─Sequential: 3-17                       [-1, 512, 13, 13]         9,744,908\n",
      "├─Sequential: 1                                    []                        --\n",
      "|    |    └─Sequential: 3-18                       [-1, 512, 13, 13]         (recursive)\n",
      "├─EfficientNet: 1                                  []                        --\n",
      "|    └─Conv2d: 2-7                                 [-1, 2048, 13, 13]        1,048,576\n",
      "├─Sequential: 1                                    []                        --\n",
      "|    └─Conv2d: 2-8                                 [-1, 2048, 13, 13]        (recursive)\n",
      "├─EfficientNet: 1                                  []                        --\n",
      "|    └─BatchNormAct2d: 2-9                         [-1, 2048, 13, 13]        --\n",
      "├─Sequential: 1                                    []                        --\n",
      "|    └─BatchNormAct2d: 2-10                        [-1, 2048, 13, 13]        (recursive)\n",
      "├─EfficientNet: 1                                  []                        --\n",
      "|    |    └─Identity: 3-19                         [-1, 2048, 13, 13]        --\n",
      "├─Sequential: 1                                    []                        --\n",
      "|    |    └─Identity: 3-20                         [-1, 2048, 13, 13]        --\n",
      "├─EfficientNet: 1                                  []                        --\n",
      "|    |    └─SiLU: 3-21                             [-1, 2048, 13, 13]        --\n",
      "├─Sequential: 1                                    []                        --\n",
      "|    |    └─SiLU: 3-22                             [-1, 2048, 13, 13]        --\n",
      "├─EfficientNet: 1                                  []                        --\n",
      "|    └─SelectAdaptivePool2d: 2-11                  [-1, 2048]                --\n",
      "├─Sequential: 1                                    []                        --\n",
      "|    └─SelectAdaptivePool2d: 2-12                  [-1, 2048]                --\n",
      "├─EfficientNet: 1                                  []                        --\n",
      "|    |    └─AdaptiveAvgPool2d: 3-23                [-1, 2048, 1, 1]          --\n",
      "├─Sequential: 1                                    []                        --\n",
      "|    |    └─AdaptiveAvgPool2d: 3-24                [-1, 2048, 1, 1]          --\n",
      "├─EfficientNet: 1                                  []                        --\n",
      "|    |    └─Flatten: 3-25                          [-1, 2048]                --\n",
      "├─Sequential: 1                                    []                        --\n",
      "|    |    └─Flatten: 3-26                          [-1, 2048]                --\n",
      "├─Linear: 1-2                                      [-1, 339]                 694,611\n",
      "====================================================================================================\n",
      "Total params: 29,031,203\n",
      "Trainable params: 29,031,203\n",
      "Non-trainable params: 0\n",
      "Total mult-adds (M): 658.44\n",
      "====================================================================================================\n",
      "Input size (MB): 1.98\n",
      "Forward/backward pass size (MB): 18.49\n",
      "Params size (MB): 110.75\n",
      "Estimated Total Size (MB): 131.21\n",
      "====================================================================================================\n"
     ]
    },
    {
     "data": {
      "text/plain": [
       "====================================================================================================\n",
       "Layer (type:depth-idx)                             Output Shape              Param #\n",
       "====================================================================================================\n",
       "├─Sequential: 1-1                                  [-1, 2048]                --\n",
       "├─EfficientNet: 1                                  []                        --\n",
       "|    └─Conv2d: 2-1                                 [-1, 48, 208, 208]        1,296\n",
       "├─Sequential: 1                                    []                        --\n",
       "|    └─Conv2d: 2-2                                 [-1, 48, 208, 208]        (recursive)\n",
       "├─EfficientNet: 1                                  []                        --\n",
       "|    └─BatchNormAct2d: 2-3                         [-1, 48, 208, 208]        --\n",
       "├─Sequential: 1                                    []                        --\n",
       "|    └─BatchNormAct2d: 2-4                         [-1, 48, 208, 208]        (recursive)\n",
       "├─EfficientNet: 1                                  []                        --\n",
       "|    |    └─Identity: 3-1                          [-1, 48, 208, 208]        --\n",
       "├─Sequential: 1                                    []                        --\n",
       "|    |    └─Identity: 3-2                          [-1, 48, 208, 208]        --\n",
       "├─EfficientNet: 1                                  []                        --\n",
       "|    |    └─SiLU: 3-3                              [-1, 48, 208, 208]        --\n",
       "├─Sequential: 1                                    []                        --\n",
       "|    |    └─SiLU: 3-4                              [-1, 48, 208, 208]        --\n",
       "├─EfficientNet: 1                                  []                        --\n",
       "|    └─Sequential: 2-5                             [-1, 512, 13, 13]         --\n",
       "├─Sequential: 1                                    []                        --\n",
       "|    └─Sequential: 2-6                             [-1, 512, 13, 13]         (recursive)\n",
       "├─EfficientNet: 1                                  []                        --\n",
       "|    |    └─Sequential: 3-5                        [-1, 24, 208, 208]        5,352\n",
       "├─Sequential: 1                                    []                        --\n",
       "|    |    └─Sequential: 3-6                        [-1, 24, 208, 208]        (recursive)\n",
       "├─EfficientNet: 1                                  []                        --\n",
       "|    |    └─Sequential: 3-7                        [-1, 40, 104, 104]        122,846\n",
       "├─Sequential: 1                                    []                        --\n",
       "|    |    └─Sequential: 3-8                        [-1, 40, 104, 104]        (recursive)\n",
       "├─EfficientNet: 1                                  []                        --\n",
       "|    |    └─Sequential: 3-9                        [-1, 64, 52, 52]          329,514\n",
       "├─Sequential: 1                                    []                        --\n",
       "|    |    └─Sequential: 3-10                       [-1, 64, 52, 52]          (recursive)\n",
       "├─EfficientNet: 1                                  []                        --\n",
       "|    |    └─Sequential: 3-11                       [-1, 128, 26, 26]         1,632,464\n",
       "├─Sequential: 1                                    []                        --\n",
       "|    |    └─Sequential: 3-12                       [-1, 128, 26, 26]         (recursive)\n",
       "├─EfficientNet: 1                                  []                        --\n",
       "|    |    └─Sequential: 3-13                       [-1, 176, 26, 26]         3,286,344\n",
       "├─Sequential: 1                                    []                        --\n",
       "|    |    └─Sequential: 3-14                       [-1, 176, 26, 26]         (recursive)\n",
       "├─EfficientNet: 1                                  []                        --\n",
       "|    |    └─Sequential: 3-15                       [-1, 304, 13, 13]         12,165,292\n",
       "├─Sequential: 1                                    []                        --\n",
       "|    |    └─Sequential: 3-16                       [-1, 304, 13, 13]         (recursive)\n",
       "├─EfficientNet: 1                                  []                        --\n",
       "|    |    └─Sequential: 3-17                       [-1, 512, 13, 13]         9,744,908\n",
       "├─Sequential: 1                                    []                        --\n",
       "|    |    └─Sequential: 3-18                       [-1, 512, 13, 13]         (recursive)\n",
       "├─EfficientNet: 1                                  []                        --\n",
       "|    └─Conv2d: 2-7                                 [-1, 2048, 13, 13]        1,048,576\n",
       "├─Sequential: 1                                    []                        --\n",
       "|    └─Conv2d: 2-8                                 [-1, 2048, 13, 13]        (recursive)\n",
       "├─EfficientNet: 1                                  []                        --\n",
       "|    └─BatchNormAct2d: 2-9                         [-1, 2048, 13, 13]        --\n",
       "├─Sequential: 1                                    []                        --\n",
       "|    └─BatchNormAct2d: 2-10                        [-1, 2048, 13, 13]        (recursive)\n",
       "├─EfficientNet: 1                                  []                        --\n",
       "|    |    └─Identity: 3-19                         [-1, 2048, 13, 13]        --\n",
       "├─Sequential: 1                                    []                        --\n",
       "|    |    └─Identity: 3-20                         [-1, 2048, 13, 13]        --\n",
       "├─EfficientNet: 1                                  []                        --\n",
       "|    |    └─SiLU: 3-21                             [-1, 2048, 13, 13]        --\n",
       "├─Sequential: 1                                    []                        --\n",
       "|    |    └─SiLU: 3-22                             [-1, 2048, 13, 13]        --\n",
       "├─EfficientNet: 1                                  []                        --\n",
       "|    └─SelectAdaptivePool2d: 2-11                  [-1, 2048]                --\n",
       "├─Sequential: 1                                    []                        --\n",
       "|    └─SelectAdaptivePool2d: 2-12                  [-1, 2048]                --\n",
       "├─EfficientNet: 1                                  []                        --\n",
       "|    |    └─AdaptiveAvgPool2d: 3-23                [-1, 2048, 1, 1]          --\n",
       "├─Sequential: 1                                    []                        --\n",
       "|    |    └─AdaptiveAvgPool2d: 3-24                [-1, 2048, 1, 1]          --\n",
       "├─EfficientNet: 1                                  []                        --\n",
       "|    |    └─Flatten: 3-25                          [-1, 2048]                --\n",
       "├─Sequential: 1                                    []                        --\n",
       "|    |    └─Flatten: 3-26                          [-1, 2048]                --\n",
       "├─Linear: 1-2                                      [-1, 339]                 694,611\n",
       "====================================================================================================\n",
       "Total params: 29,031,203\n",
       "Trainable params: 29,031,203\n",
       "Non-trainable params: 0\n",
       "Total mult-adds (M): 658.44\n",
       "====================================================================================================\n",
       "Input size (MB): 1.98\n",
       "Forward/backward pass size (MB): 18.49\n",
       "Params size (MB): 110.75\n",
       "Estimated Total Size (MB): 131.21\n",
       "===================================================================================================="
      ]
     },
     "execution_count": 38,
     "metadata": {},
     "output_type": "execute_result"
    }
   ],
   "execution_count": 38
  },
  {
   "metadata": {
    "ExecuteTime": {
     "end_time": "2024-07-03T10:07:19.248833Z",
     "start_time": "2024-07-03T10:07:19.246677Z"
    }
   },
   "cell_type": "code",
   "source": "criterion = nn.CrossEntropyLoss()",
   "id": "959ae416d413fb2d",
   "outputs": [],
   "execution_count": 12
  },
  {
   "metadata": {
    "ExecuteTime": {
     "end_time": "2024-07-02T19:36:35.222688Z",
     "start_time": "2024-07-02T19:36:35.219428Z"
    }
   },
   "cell_type": "code",
   "source": "optimizer = optim.Adam(efficient_net.parameters(), lr=0.001)",
   "id": "69df1228d00adaff",
   "outputs": [],
   "execution_count": 40
  },
  {
   "metadata": {
    "ExecuteTime": {
     "end_time": "2024-07-02T16:02:19.827754Z",
     "start_time": "2024-07-02T16:02:10.205491Z"
    }
   },
   "cell_type": "code",
   "source": [
    "results = train_utils.train(efficient_net, train_dataloader, val_dataloader, optimizer, criterion, epochs=10,\n",
    "                            train_class_labels=unique_classes_train, checkpoint_path='models/efficientnet_b5.sw_in12k', device=device)"
   ],
   "id": "5c514e0cbb1af099",
   "outputs": [
    {
     "data": {
      "text/plain": [
       "Training loop:   0%|          | 0/2119 [00:00<?, ?it/s]"
      ],
      "application/vnd.jupyter.widget-view+json": {
       "version_major": 2,
       "version_minor": 0,
       "model_id": "c13d4ccbd8e44db28de9d29042e76215"
      }
     },
     "metadata": {},
     "output_type": "display_data"
    },
    {
     "ename": "KeyboardInterrupt",
     "evalue": "",
     "output_type": "error",
     "traceback": [
      "\u001B[0;31m---------------------------------------------------------------------------\u001B[0m",
      "\u001B[0;31mKeyboardInterrupt\u001B[0m                         Traceback (most recent call last)",
      "Cell \u001B[0;32mIn[22], line 1\u001B[0m\n\u001B[0;32m----> 1\u001B[0m results \u001B[38;5;241m=\u001B[39m \u001B[43mtrain_utils\u001B[49m\u001B[38;5;241;43m.\u001B[39;49m\u001B[43mtrain\u001B[49m\u001B[43m(\u001B[49m\u001B[43mefficient_net\u001B[49m\u001B[43m,\u001B[49m\u001B[43m \u001B[49m\u001B[43mtrain_dataloader\u001B[49m\u001B[43m,\u001B[49m\u001B[43m \u001B[49m\u001B[43mval_dataloader\u001B[49m\u001B[43m,\u001B[49m\u001B[43m \u001B[49m\u001B[43moptimizer\u001B[49m\u001B[43m,\u001B[49m\u001B[43m \u001B[49m\u001B[43mcriterion\u001B[49m\u001B[43m,\u001B[49m\u001B[43m \u001B[49m\u001B[43mepochs\u001B[49m\u001B[38;5;241;43m=\u001B[39;49m\u001B[38;5;241;43m10\u001B[39;49m\u001B[43m,\u001B[49m\n\u001B[1;32m      2\u001B[0m \u001B[43m                            \u001B[49m\u001B[43mtrain_class_labels\u001B[49m\u001B[38;5;241;43m=\u001B[39;49m\u001B[43munique_classes_train\u001B[49m\u001B[43m,\u001B[49m\u001B[43m \u001B[49m\u001B[43mcheckpoint_path\u001B[49m\u001B[38;5;241;43m=\u001B[39;49m\u001B[38;5;124;43m'\u001B[39;49m\u001B[38;5;124;43mmodels/efficientnet_b5.sw_in12k\u001B[39;49m\u001B[38;5;124;43m'\u001B[39;49m\u001B[43m,\u001B[49m\u001B[43m \u001B[49m\u001B[43mdevice\u001B[49m\u001B[38;5;241;43m=\u001B[39;49m\u001B[43mdevice\u001B[49m\u001B[43m)\u001B[49m\n",
      "File \u001B[0;32m~/Repos/FMI/Google-Landmark-Recognition-2021/train_utils.py:125\u001B[0m, in \u001B[0;36mtrain\u001B[0;34m(model, train_data_loader, validation_data_loader, optimizer, criterion, epochs, train_class_labels, checkpoint_path, device)\u001B[0m\n\u001B[1;32m    123\u001B[0m     loss\u001B[38;5;241m.\u001B[39mbackward()\n\u001B[1;32m    124\u001B[0m     optimizer\u001B[38;5;241m.\u001B[39mstep()\n\u001B[0;32m--> 125\u001B[0m     running_loss \u001B[38;5;241m+\u001B[39m\u001B[38;5;241m=\u001B[39m \u001B[43mloss\u001B[49m\u001B[38;5;241;43m.\u001B[39;49m\u001B[43mitem\u001B[49m\u001B[43m(\u001B[49m\u001B[43m)\u001B[49m \u001B[38;5;241m*\u001B[39m labels\u001B[38;5;241m.\u001B[39msize(\u001B[38;5;241m0\u001B[39m)\n\u001B[1;32m    126\u001B[0m     metrics\u001B[38;5;241m.\u001B[39mpopulate_confidence(train_confidences, train_labels, train_predictions, labels, outputs)\n\u001B[1;32m    128\u001B[0m train_loss \u001B[38;5;241m=\u001B[39m running_loss \u001B[38;5;241m/\u001B[39m \u001B[38;5;28mlen\u001B[39m(train_data_loader\u001B[38;5;241m.\u001B[39mdataset)\n",
      "\u001B[0;31mKeyboardInterrupt\u001B[0m: "
     ]
    }
   ],
   "execution_count": 22
  },
  {
   "metadata": {
    "ExecuteTime": {
     "end_time": "2024-07-02T15:57:42.972489Z",
     "start_time": "2024-07-02T15:57:42.698668Z"
    }
   },
   "cell_type": "code",
   "source": "train_utils.plot_loss_curves(results)",
   "id": "2bff50d39ed0046f",
   "outputs": [
    {
     "data": {
      "text/plain": [
       "<Figure size 1500x700 with 2 Axes>"
      ],
      "image/png": "[encoded data removed]"
     },
     "metadata": {},
     "output_type": "display_data"
    }
   ],
   "execution_count": 18
  },
  {
   "metadata": {
    "ExecuteTime": {
     "end_time": "2024-07-03T06:31:04.135566Z",
     "start_time": "2024-07-02T19:37:14.996688Z"
    }
   },
   "cell_type": "code",
   "source": [
    "results_50 = train_utils.train(efficient_net, train_dataloader, val_dataloader, optimizer, criterion, epochs=70,\n",
    "                            train_class_labels=unique_classes_train, checkpoint_path='models/efficientnet_b5.sw_in12k_50', device=device)"
   ],
   "id": "bcd9e72d6d1c2402",
   "outputs": [
    {
     "data": {
      "text/plain": [
       "Training loop:   0%|          | 0/2119 [00:00<?, ?it/s]"
      ],
      "application/vnd.jupyter.widget-view+json": {
       "version_major": 2,
       "version_minor": 0,
       "model_id": "e35f8869d90e45af86bbfc6e56797319"
      }
     },
     "metadata": {},
     "output_type": "display_data"
    },
    {
     "data": {
      "text/plain": [
       "Validation loop:   0%|          | 0/236 [00:00<?, ?it/s]"
      ],
      "application/vnd.jupyter.widget-view+json": {
       "version_major": 2,
       "version_minor": 0,
       "model_id": "b77765c1bf21461aa5ccd32f428acffb"
      }
     },
     "metadata": {},
     "output_type": "display_data"
    },
    {
     "name": "stdout",
     "output_type": "stream",
     "text": [
      "Epoch: 1 | train_loss: 5.1832 | train_GAP: 0.0038 | val_loss: 5.2265 | val_GAP: 0.0061 \n",
      "Checkpoint saved at epoch 1 with validation GAP 0.006129425424011949\n"
     ]
    },
    {
     "data": {
      "text/plain": [
       "Training loop:   0%|          | 0/2119 [00:00<?, ?it/s]"
      ],
      "application/vnd.jupyter.widget-view+json": {
       "version_major": 2,
       "version_minor": 0,
       "model_id": "86cca87faea44fdbaaaeb1669aef97c5"
      }
     },
     "metadata": {},
     "output_type": "display_data"
    },
    {
     "data": {
      "text/plain": [
       "Validation loop:   0%|          | 0/236 [00:00<?, ?it/s]"
      ],
      "application/vnd.jupyter.widget-view+json": {
       "version_major": 2,
       "version_minor": 0,
       "model_id": "6b6a57baf9ec4fc09c75800b247fe173"
      }
     },
     "metadata": {},
     "output_type": "display_data"
    },
    {
     "name": "stdout",
     "output_type": "stream",
     "text": [
      "Epoch: 2 | train_loss: 4.7493 | train_GAP: 0.0213 | val_loss: 5.0277 | val_GAP: 0.0189 \n",
      "Checkpoint saved at epoch 2 with validation GAP 0.018900536547250595\n"
     ]
    },
    {
     "data": {
      "text/plain": [
       "Training loop:   0%|          | 0/2119 [00:00<?, ?it/s]"
      ],
      "application/vnd.jupyter.widget-view+json": {
       "version_major": 2,
       "version_minor": 0,
       "model_id": "ed0323191c6d487eb5c0a84aa81b6d86"
      }
     },
     "metadata": {},
     "output_type": "display_data"
    },
    {
     "data": {
      "text/plain": [
       "Validation loop:   0%|          | 0/236 [00:00<?, ?it/s]"
      ],
      "application/vnd.jupyter.widget-view+json": {
       "version_major": 2,
       "version_minor": 0,
       "model_id": "20b2a3bb27d449c1915546c485277406"
      }
     },
     "metadata": {},
     "output_type": "display_data"
    },
    {
     "name": "stdout",
     "output_type": "stream",
     "text": [
      "Epoch: 3 | train_loss: 4.3699 | train_GAP: 0.0422 | val_loss: 4.1723 | val_GAP: 0.0558 \n",
      "Checkpoint saved at epoch 3 with validation GAP 0.05582737322312255\n"
     ]
    },
    {
     "data": {
      "text/plain": [
       "Training loop:   0%|          | 0/2119 [00:00<?, ?it/s]"
      ],
      "application/vnd.jupyter.widget-view+json": {
       "version_major": 2,
       "version_minor": 0,
       "model_id": "0f3b83db3bde4be9adbcb04c86536749"
      }
     },
     "metadata": {},
     "output_type": "display_data"
    },
    {
     "data": {
      "text/plain": [
       "Validation loop:   0%|          | 0/236 [00:00<?, ?it/s]"
      ],
      "application/vnd.jupyter.widget-view+json": {
       "version_major": 2,
       "version_minor": 0,
       "model_id": "c5aa79c78f704807800faae18e583869"
      }
     },
     "metadata": {},
     "output_type": "display_data"
    },
    {
     "name": "stdout",
     "output_type": "stream",
     "text": [
      "Epoch: 4 | train_loss: 3.9977 | train_GAP: 0.0702 | val_loss: 3.9471 | val_GAP: 0.0954 \n",
      "Checkpoint saved at epoch 4 with validation GAP 0.09536103857874438\n"
     ]
    },
    {
     "data": {
      "text/plain": [
       "Training loop:   0%|          | 0/2119 [00:00<?, ?it/s]"
      ],
      "application/vnd.jupyter.widget-view+json": {
       "version_major": 2,
       "version_minor": 0,
       "model_id": "950814a4946949ad95b4e7d5ec6f6286"
      }
     },
     "metadata": {},
     "output_type": "display_data"
    },
    {
     "data": {
      "text/plain": [
       "Validation loop:   0%|          | 0/236 [00:00<?, ?it/s]"
      ],
      "application/vnd.jupyter.widget-view+json": {
       "version_major": 2,
       "version_minor": 0,
       "model_id": "4536293b96774e929862463876587766"
      }
     },
     "metadata": {},
     "output_type": "display_data"
    },
    {
     "name": "stdout",
     "output_type": "stream",
     "text": [
      "Epoch: 5 | train_loss: 3.6717 | train_GAP: 0.1037 | val_loss: 3.5993 | val_GAP: 0.1306 \n",
      "Checkpoint saved at epoch 5 with validation GAP 0.13063759248010498\n"
     ]
    },
    {
     "data": {
      "text/plain": [
       "Training loop:   0%|          | 0/2119 [00:00<?, ?it/s]"
      ],
      "application/vnd.jupyter.widget-view+json": {
       "version_major": 2,
       "version_minor": 0,
       "model_id": "4dcfaa2c479f404abc2fc4771d24b88b"
      }
     },
     "metadata": {},
     "output_type": "display_data"
    },
    {
     "data": {
      "text/plain": [
       "Validation loop:   0%|          | 0/236 [00:00<?, ?it/s]"
      ],
      "application/vnd.jupyter.widget-view+json": {
       "version_major": 2,
       "version_minor": 0,
       "model_id": "52391b7aa96044a694d9e8353ed68cfe"
      }
     },
     "metadata": {},
     "output_type": "display_data"
    },
    {
     "name": "stdout",
     "output_type": "stream",
     "text": [
      "Epoch: 6 | train_loss: 3.3607 | train_GAP: 0.1449 | val_loss: 3.4649 | val_GAP: 0.1603 \n",
      "Checkpoint saved at epoch 6 with validation GAP 0.16030657728466963\n"
     ]
    },
    {
     "data": {
      "text/plain": [
       "Training loop:   0%|          | 0/2119 [00:00<?, ?it/s]"
      ],
      "application/vnd.jupyter.widget-view+json": {
       "version_major": 2,
       "version_minor": 0,
       "model_id": "362b1a4f054d427998a0a78cd22bf800"
      }
     },
     "metadata": {},
     "output_type": "display_data"
    },
    {
     "data": {
      "text/plain": [
       "Validation loop:   0%|          | 0/236 [00:00<?, ?it/s]"
      ],
      "application/vnd.jupyter.widget-view+json": {
       "version_major": 2,
       "version_minor": 0,
       "model_id": "7ff401a115974b6e876a1f87516040ce"
      }
     },
     "metadata": {},
     "output_type": "display_data"
    },
    {
     "name": "stdout",
     "output_type": "stream",
     "text": [
      "Epoch: 7 | train_loss: 3.0870 | train_GAP: 0.1831 | val_loss: 3.1834 | val_GAP: 0.2013 \n",
      "Checkpoint saved at epoch 7 with validation GAP 0.20133580941148155\n"
     ]
    },
    {
     "data": {
      "text/plain": [
       "Training loop:   0%|          | 0/2119 [00:00<?, ?it/s]"
      ],
      "application/vnd.jupyter.widget-view+json": {
       "version_major": 2,
       "version_minor": 0,
       "model_id": "ccac0ba748b2404db842b0184f633298"
      }
     },
     "metadata": {},
     "output_type": "display_data"
    },
    {
     "data": {
      "text/plain": [
       "Validation loop:   0%|          | 0/236 [00:00<?, ?it/s]"
      ],
      "application/vnd.jupyter.widget-view+json": {
       "version_major": 2,
       "version_minor": 0,
       "model_id": "b003d144233b4eb1922c5413cbddb8df"
      }
     },
     "metadata": {},
     "output_type": "display_data"
    },
    {
     "name": "stdout",
     "output_type": "stream",
     "text": [
      "Epoch: 8 | train_loss: 2.8293 | train_GAP: 0.2186 | val_loss: 2.9816 | val_GAP: 0.2437 \n",
      "Checkpoint saved at epoch 8 with validation GAP 0.24374651596661703\n"
     ]
    },
    {
     "data": {
      "text/plain": [
       "Training loop:   0%|          | 0/2119 [00:00<?, ?it/s]"
      ],
      "application/vnd.jupyter.widget-view+json": {
       "version_major": 2,
       "version_minor": 0,
       "model_id": "cfaec91234364ef0a58d41855ce34051"
      }
     },
     "metadata": {},
     "output_type": "display_data"
    },
    {
     "data": {
      "text/plain": [
       "Validation loop:   0%|          | 0/236 [00:00<?, ?it/s]"
      ],
      "application/vnd.jupyter.widget-view+json": {
       "version_major": 2,
       "version_minor": 0,
       "model_id": "035c8f3c46d14aea9171fe07bf3a7424"
      }
     },
     "metadata": {},
     "output_type": "display_data"
    },
    {
     "name": "stdout",
     "output_type": "stream",
     "text": [
      "Epoch: 9 | train_loss: 2.5802 | train_GAP: 0.2676 | val_loss: 2.9089 | val_GAP: 0.2643 \n",
      "Checkpoint saved at epoch 9 with validation GAP 0.2642625439353942\n"
     ]
    },
    {
     "data": {
      "text/plain": [
       "Training loop:   0%|          | 0/2119 [00:00<?, ?it/s]"
      ],
      "application/vnd.jupyter.widget-view+json": {
       "version_major": 2,
       "version_minor": 0,
       "model_id": "1e143f0a9f2a42738873fbfb36ab3694"
      }
     },
     "metadata": {},
     "output_type": "display_data"
    },
    {
     "data": {
      "text/plain": [
       "Validation loop:   0%|          | 0/236 [00:00<?, ?it/s]"
      ],
      "application/vnd.jupyter.widget-view+json": {
       "version_major": 2,
       "version_minor": 0,
       "model_id": "80b7241cef514de1892518735b0ef562"
      }
     },
     "metadata": {},
     "output_type": "display_data"
    },
    {
     "name": "stdout",
     "output_type": "stream",
     "text": [
      "Epoch: 10 | train_loss: 2.3334 | train_GAP: 0.3238 | val_loss: 2.7519 | val_GAP: 0.2941 \n",
      "Checkpoint saved at epoch 10 with validation GAP 0.29412803899085876\n"
     ]
    },
    {
     "data": {
      "text/plain": [
       "Training loop:   0%|          | 0/2119 [00:00<?, ?it/s]"
      ],
      "application/vnd.jupyter.widget-view+json": {
       "version_major": 2,
       "version_minor": 0,
       "model_id": "5a9ab7f27a1e47f78df3d00d6b05ace1"
      }
     },
     "metadata": {},
     "output_type": "display_data"
    },
    {
     "data": {
      "text/plain": [
       "Validation loop:   0%|          | 0/236 [00:00<?, ?it/s]"
      ],
      "application/vnd.jupyter.widget-view+json": {
       "version_major": 2,
       "version_minor": 0,
       "model_id": "7a1ac38922254819b0fd0be1634972ef"
      }
     },
     "metadata": {},
     "output_type": "display_data"
    },
    {
     "name": "stdout",
     "output_type": "stream",
     "text": [
      "Epoch: 11 | train_loss: 2.0982 | train_GAP: 0.3787 | val_loss: 2.7041 | val_GAP: 0.3000 \n",
      "Checkpoint saved at epoch 11 with validation GAP 0.3000151448866569\n"
     ]
    },
    {
     "data": {
      "text/plain": [
       "Training loop:   0%|          | 0/2119 [00:00<?, ?it/s]"
      ],
      "application/vnd.jupyter.widget-view+json": {
       "version_major": 2,
       "version_minor": 0,
       "model_id": "ccc05dc04d004c54899dbde1f39c6ee6"
      }
     },
     "metadata": {},
     "output_type": "display_data"
    },
    {
     "data": {
      "text/plain": [
       "Validation loop:   0%|          | 0/236 [00:00<?, ?it/s]"
      ],
      "application/vnd.jupyter.widget-view+json": {
       "version_major": 2,
       "version_minor": 0,
       "model_id": "5c7e86d2b2a545749c93bd2eacbf5b7c"
      }
     },
     "metadata": {},
     "output_type": "display_data"
    },
    {
     "name": "stdout",
     "output_type": "stream",
     "text": [
      "Epoch: 12 | train_loss: 1.9201 | train_GAP: 0.4253 | val_loss: 2.6958 | val_GAP: 0.3343 \n",
      "Checkpoint saved at epoch 12 with validation GAP 0.3342784843624193\n"
     ]
    },
    {
     "data": {
      "text/plain": [
       "Training loop:   0%|          | 0/2119 [00:00<?, ?it/s]"
      ],
      "application/vnd.jupyter.widget-view+json": {
       "version_major": 2,
       "version_minor": 0,
       "model_id": "e0ac357aa4b64447828155f7bc46797e"
      }
     },
     "metadata": {},
     "output_type": "display_data"
    },
    {
     "data": {
      "text/plain": [
       "Validation loop:   0%|          | 0/236 [00:00<?, ?it/s]"
      ],
      "application/vnd.jupyter.widget-view+json": {
       "version_major": 2,
       "version_minor": 0,
       "model_id": "dbf3573a6f4947c6bdd157e5332392c0"
      }
     },
     "metadata": {},
     "output_type": "display_data"
    },
    {
     "name": "stdout",
     "output_type": "stream",
     "text": [
      "Epoch: 13 | train_loss: 1.7166 | train_GAP: 0.4787 | val_loss: 2.5096 | val_GAP: 0.3756 \n",
      "Checkpoint saved at epoch 13 with validation GAP 0.37561934283701404\n"
     ]
    },
    {
     "data": {
      "text/plain": [
       "Training loop:   0%|          | 0/2119 [00:00<?, ?it/s]"
      ],
      "application/vnd.jupyter.widget-view+json": {
       "version_major": 2,
       "version_minor": 0,
       "model_id": "7985543ad6eb4acd807c832b28996f0e"
      }
     },
     "metadata": {},
     "output_type": "display_data"
    },
    {
     "data": {
      "text/plain": [
       "Validation loop:   0%|          | 0/236 [00:00<?, ?it/s]"
      ],
      "application/vnd.jupyter.widget-view+json": {
       "version_major": 2,
       "version_minor": 0,
       "model_id": "399c2f160f8d4a0091cba7aa0d6986a0"
      }
     },
     "metadata": {},
     "output_type": "display_data"
    },
    {
     "name": "stdout",
     "output_type": "stream",
     "text": [
      "Epoch: 14 | train_loss: 1.5295 | train_GAP: 0.5223 | val_loss: 2.5274 | val_GAP: 0.3878 \n",
      "Checkpoint saved at epoch 14 with validation GAP 0.38779316963605\n"
     ]
    },
    {
     "data": {
      "text/plain": [
       "Training loop:   0%|          | 0/2119 [00:00<?, ?it/s]"
      ],
      "application/vnd.jupyter.widget-view+json": {
       "version_major": 2,
       "version_minor": 0,
       "model_id": "80418821595f4fcd8927b1a6132f97ad"
      }
     },
     "metadata": {},
     "output_type": "display_data"
    },
    {
     "data": {
      "text/plain": [
       "Validation loop:   0%|          | 0/236 [00:00<?, ?it/s]"
      ],
      "application/vnd.jupyter.widget-view+json": {
       "version_major": 2,
       "version_minor": 0,
       "model_id": "e8b1b400c5bc498eadcf30910c02aa4c"
      }
     },
     "metadata": {},
     "output_type": "display_data"
    },
    {
     "name": "stdout",
     "output_type": "stream",
     "text": [
      "Epoch: 15 | train_loss: 1.3721 | train_GAP: 0.5670 | val_loss: 2.5284 | val_GAP: 0.3948 \n",
      "Checkpoint saved at epoch 15 with validation GAP 0.3948334478555648\n"
     ]
    },
    {
     "data": {
      "text/plain": [
       "Training loop:   0%|          | 0/2119 [00:00<?, ?it/s]"
      ],
      "application/vnd.jupyter.widget-view+json": {
       "version_major": 2,
       "version_minor": 0,
       "model_id": "c58bcabbd6cc46d9baac2ea1521afd27"
      }
     },
     "metadata": {},
     "output_type": "display_data"
    },
    {
     "data": {
      "text/plain": [
       "Validation loop:   0%|          | 0/236 [00:00<?, ?it/s]"
      ],
      "application/vnd.jupyter.widget-view+json": {
       "version_major": 2,
       "version_minor": 0,
       "model_id": "030be77d267b4c90b866311c29e1aa36"
      }
     },
     "metadata": {},
     "output_type": "display_data"
    },
    {
     "name": "stdout",
     "output_type": "stream",
     "text": [
      "Epoch: 16 | train_loss: 1.1938 | train_GAP: 0.6133 | val_loss: 2.5228 | val_GAP: 0.3938 \n"
     ]
    },
    {
     "data": {
      "text/plain": [
       "Training loop:   0%|          | 0/2119 [00:00<?, ?it/s]"
      ],
      "application/vnd.jupyter.widget-view+json": {
       "version_major": 2,
       "version_minor": 0,
       "model_id": "95e9c5e335084cd59f32318f19c01939"
      }
     },
     "metadata": {},
     "output_type": "display_data"
    },
    {
     "data": {
      "text/plain": [
       "Validation loop:   0%|          | 0/236 [00:00<?, ?it/s]"
      ],
      "application/vnd.jupyter.widget-view+json": {
       "version_major": 2,
       "version_minor": 0,
       "model_id": "ac5f3913804441f0b0c46023380f9c4a"
      }
     },
     "metadata": {},
     "output_type": "display_data"
    },
    {
     "name": "stdout",
     "output_type": "stream",
     "text": [
      "Epoch: 17 | train_loss: 1.0670 | train_GAP: 0.6576 | val_loss: 2.5733 | val_GAP: 0.4128 \n",
      "Checkpoint saved at epoch 17 with validation GAP 0.4128245628349317\n"
     ]
    },
    {
     "data": {
      "text/plain": [
       "Training loop:   0%|          | 0/2119 [00:00<?, ?it/s]"
      ],
      "application/vnd.jupyter.widget-view+json": {
       "version_major": 2,
       "version_minor": 0,
       "model_id": "daa875ba7b13411aaf4f1ed831c0f08c"
      }
     },
     "metadata": {},
     "output_type": "display_data"
    },
    {
     "data": {
      "text/plain": [
       "Validation loop:   0%|          | 0/236 [00:00<?, ?it/s]"
      ],
      "application/vnd.jupyter.widget-view+json": {
       "version_major": 2,
       "version_minor": 0,
       "model_id": "cf5d87fa2c4c496686ba71816616624a"
      }
     },
     "metadata": {},
     "output_type": "display_data"
    },
    {
     "name": "stdout",
     "output_type": "stream",
     "text": [
      "Epoch: 18 | train_loss: 0.9390 | train_GAP: 0.6946 | val_loss: 2.6219 | val_GAP: 0.4091 \n"
     ]
    },
    {
     "data": {
      "text/plain": [
       "Training loop:   0%|          | 0/2119 [00:00<?, ?it/s]"
      ],
      "application/vnd.jupyter.widget-view+json": {
       "version_major": 2,
       "version_minor": 0,
       "model_id": "5ab91c9bf93143b48b663f44878256b0"
      }
     },
     "metadata": {},
     "output_type": "display_data"
    },
    {
     "data": {
      "text/plain": [
       "Validation loop:   0%|          | 0/236 [00:00<?, ?it/s]"
      ],
      "application/vnd.jupyter.widget-view+json": {
       "version_major": 2,
       "version_minor": 0,
       "model_id": "cc93741661764015af66d6c604d3720b"
      }
     },
     "metadata": {},
     "output_type": "display_data"
    },
    {
     "name": "stdout",
     "output_type": "stream",
     "text": [
      "Epoch: 19 | train_loss: 0.7980 | train_GAP: 0.7374 | val_loss: 2.7771 | val_GAP: 0.4030 \n"
     ]
    },
    {
     "data": {
      "text/plain": [
       "Training loop:   0%|          | 0/2119 [00:00<?, ?it/s]"
      ],
      "application/vnd.jupyter.widget-view+json": {
       "version_major": 2,
       "version_minor": 0,
       "model_id": "af8eb6f9207e43798f3148e5cc8b3e32"
      }
     },
     "metadata": {},
     "output_type": "display_data"
    },
    {
     "data": {
      "text/plain": [
       "Validation loop:   0%|          | 0/236 [00:00<?, ?it/s]"
      ],
      "application/vnd.jupyter.widget-view+json": {
       "version_major": 2,
       "version_minor": 0,
       "model_id": "7f87e40e3df44cb581c4808377df9829"
      }
     },
     "metadata": {},
     "output_type": "display_data"
    },
    {
     "name": "stdout",
     "output_type": "stream",
     "text": [
      "Epoch: 20 | train_loss: 0.6891 | train_GAP: 0.7720 | val_loss: 2.7648 | val_GAP: 0.4299 \n",
      "Checkpoint saved at epoch 20 with validation GAP 0.4299314199544657\n"
     ]
    },
    {
     "data": {
      "text/plain": [
       "Training loop:   0%|          | 0/2119 [00:00<?, ?it/s]"
      ],
      "application/vnd.jupyter.widget-view+json": {
       "version_major": 2,
       "version_minor": 0,
       "model_id": "f6ecdc5796de4445b1f898b3931c2b18"
      }
     },
     "metadata": {},
     "output_type": "display_data"
    },
    {
     "data": {
      "text/plain": [
       "Validation loop:   0%|          | 0/236 [00:00<?, ?it/s]"
      ],
      "application/vnd.jupyter.widget-view+json": {
       "version_major": 2,
       "version_minor": 0,
       "model_id": "9b9630486b8849ff948251e9223f03f7"
      }
     },
     "metadata": {},
     "output_type": "display_data"
    },
    {
     "name": "stdout",
     "output_type": "stream",
     "text": [
      "Epoch: 21 | train_loss: 0.5988 | train_GAP: 0.7966 | val_loss: 2.6984 | val_GAP: 0.4194 \n"
     ]
    },
    {
     "data": {
      "text/plain": [
       "Training loop:   0%|          | 0/2119 [00:00<?, ?it/s]"
      ],
      "application/vnd.jupyter.widget-view+json": {
       "version_major": 2,
       "version_minor": 0,
       "model_id": "114b2b86f9bd4910a409ee393ec4eb29"
      }
     },
     "metadata": {},
     "output_type": "display_data"
    },
    {
     "data": {
      "text/plain": [
       "Validation loop:   0%|          | 0/236 [00:00<?, ?it/s]"
      ],
      "application/vnd.jupyter.widget-view+json": {
       "version_major": 2,
       "version_minor": 0,
       "model_id": "3f711e5500c74bbca6f5fc08b401c077"
      }
     },
     "metadata": {},
     "output_type": "display_data"
    },
    {
     "name": "stdout",
     "output_type": "stream",
     "text": [
      "Epoch: 22 | train_loss: 0.5515 | train_GAP: 0.8155 | val_loss: 2.7129 | val_GAP: 0.4346 \n",
      "Checkpoint saved at epoch 22 with validation GAP 0.4346008666185787\n"
     ]
    },
    {
     "data": {
      "text/plain": [
       "Training loop:   0%|          | 0/2119 [00:00<?, ?it/s]"
      ],
      "application/vnd.jupyter.widget-view+json": {
       "version_major": 2,
       "version_minor": 0,
       "model_id": "b9ffbda9f8ac4c14935e83197bb22566"
      }
     },
     "metadata": {},
     "output_type": "display_data"
    },
    {
     "data": {
      "text/plain": [
       "Validation loop:   0%|          | 0/236 [00:00<?, ?it/s]"
      ],
      "application/vnd.jupyter.widget-view+json": {
       "version_major": 2,
       "version_minor": 0,
       "model_id": "3cd137b1da364f50b811fb73edafc560"
      }
     },
     "metadata": {},
     "output_type": "display_data"
    },
    {
     "name": "stdout",
     "output_type": "stream",
     "text": [
      "Epoch: 23 | train_loss: 0.4663 | train_GAP: 0.8467 | val_loss: 2.8220 | val_GAP: 0.4157 \n"
     ]
    },
    {
     "data": {
      "text/plain": [
       "Training loop:   0%|          | 0/2119 [00:00<?, ?it/s]"
      ],
      "application/vnd.jupyter.widget-view+json": {
       "version_major": 2,
       "version_minor": 0,
       "model_id": "e22e0706a9a54f4aac302b23d4fd6fcb"
      }
     },
     "metadata": {},
     "output_type": "display_data"
    },
    {
     "data": {
      "text/plain": [
       "Validation loop:   0%|          | 0/236 [00:00<?, ?it/s]"
      ],
      "application/vnd.jupyter.widget-view+json": {
       "version_major": 2,
       "version_minor": 0,
       "model_id": "61e2939d15b04b76a5050250606b3a15"
      }
     },
     "metadata": {},
     "output_type": "display_data"
    },
    {
     "name": "stdout",
     "output_type": "stream",
     "text": [
      "Epoch: 24 | train_loss: 0.4106 | train_GAP: 0.8602 | val_loss: 2.8696 | val_GAP: 0.4366 \n",
      "Checkpoint saved at epoch 24 with validation GAP 0.43662362737546545\n"
     ]
    },
    {
     "data": {
      "text/plain": [
       "Training loop:   0%|          | 0/2119 [00:00<?, ?it/s]"
      ],
      "application/vnd.jupyter.widget-view+json": {
       "version_major": 2,
       "version_minor": 0,
       "model_id": "92869ca7dbb3467ba0cb20e277b18147"
      }
     },
     "metadata": {},
     "output_type": "display_data"
    },
    {
     "data": {
      "text/plain": [
       "Validation loop:   0%|          | 0/236 [00:00<?, ?it/s]"
      ],
      "application/vnd.jupyter.widget-view+json": {
       "version_major": 2,
       "version_minor": 0,
       "model_id": "9aa7c9698e78496bb6342454e5a684b8"
      }
     },
     "metadata": {},
     "output_type": "display_data"
    },
    {
     "name": "stdout",
     "output_type": "stream",
     "text": [
      "Epoch: 25 | train_loss: 0.3874 | train_GAP: 0.8720 | val_loss: 3.0934 | val_GAP: 0.3746 \n"
     ]
    },
    {
     "data": {
      "text/plain": [
       "Training loop:   0%|          | 0/2119 [00:00<?, ?it/s]"
      ],
      "application/vnd.jupyter.widget-view+json": {
       "version_major": 2,
       "version_minor": 0,
       "model_id": "fa8bd160a60f4f488b1b3cfbff5a6cf7"
      }
     },
     "metadata": {},
     "output_type": "display_data"
    },
    {
     "data": {
      "text/plain": [
       "Validation loop:   0%|          | 0/236 [00:00<?, ?it/s]"
      ],
      "application/vnd.jupyter.widget-view+json": {
       "version_major": 2,
       "version_minor": 0,
       "model_id": "8aacf17126014421a374718750742ae8"
      }
     },
     "metadata": {},
     "output_type": "display_data"
    },
    {
     "name": "stdout",
     "output_type": "stream",
     "text": [
      "Epoch: 26 | train_loss: 0.3307 | train_GAP: 0.8923 | val_loss: 3.0062 | val_GAP: 0.4313 \n"
     ]
    },
    {
     "data": {
      "text/plain": [
       "Training loop:   0%|          | 0/2119 [00:00<?, ?it/s]"
      ],
      "application/vnd.jupyter.widget-view+json": {
       "version_major": 2,
       "version_minor": 0,
       "model_id": "a1d653f7a65744fe938a2ec6b871be28"
      }
     },
     "metadata": {},
     "output_type": "display_data"
    },
    {
     "data": {
      "text/plain": [
       "Validation loop:   0%|          | 0/236 [00:00<?, ?it/s]"
      ],
      "application/vnd.jupyter.widget-view+json": {
       "version_major": 2,
       "version_minor": 0,
       "model_id": "932ea96d179b48ffa5fa2bc83cb15098"
      }
     },
     "metadata": {},
     "output_type": "display_data"
    },
    {
     "name": "stdout",
     "output_type": "stream",
     "text": [
      "Epoch: 27 | train_loss: 0.3083 | train_GAP: 0.8988 | val_loss: 2.9475 | val_GAP: 0.4115 \n"
     ]
    },
    {
     "data": {
      "text/plain": [
       "Training loop:   0%|          | 0/2119 [00:00<?, ?it/s]"
      ],
      "application/vnd.jupyter.widget-view+json": {
       "version_major": 2,
       "version_minor": 0,
       "model_id": "4c948c1906e345aaaa390f8fef13bf82"
      }
     },
     "metadata": {},
     "output_type": "display_data"
    },
    {
     "data": {
      "text/plain": [
       "Validation loop:   0%|          | 0/236 [00:00<?, ?it/s]"
      ],
      "application/vnd.jupyter.widget-view+json": {
       "version_major": 2,
       "version_minor": 0,
       "model_id": "7a0d175e8b7148e089b71cf5243b17ac"
      }
     },
     "metadata": {},
     "output_type": "display_data"
    },
    {
     "name": "stdout",
     "output_type": "stream",
     "text": [
      "Epoch: 28 | train_loss: 0.2969 | train_GAP: 0.9007 | val_loss: 2.9267 | val_GAP: 0.4381 \n",
      "Checkpoint saved at epoch 28 with validation GAP 0.4381073065220297\n"
     ]
    },
    {
     "data": {
      "text/plain": [
       "Training loop:   0%|          | 0/2119 [00:00<?, ?it/s]"
      ],
      "application/vnd.jupyter.widget-view+json": {
       "version_major": 2,
       "version_minor": 0,
       "model_id": "ff00b8dc6696478b81cff9eaeb7d6202"
      }
     },
     "metadata": {},
     "output_type": "display_data"
    },
    {
     "data": {
      "text/plain": [
       "Validation loop:   0%|          | 0/236 [00:00<?, ?it/s]"
      ],
      "application/vnd.jupyter.widget-view+json": {
       "version_major": 2,
       "version_minor": 0,
       "model_id": "9530433c9e4447ada7748736e900c6b1"
      }
     },
     "metadata": {},
     "output_type": "display_data"
    },
    {
     "name": "stdout",
     "output_type": "stream",
     "text": [
      "Epoch: 29 | train_loss: 0.2533 | train_GAP: 0.9165 | val_loss: 3.1146 | val_GAP: 0.4158 \n"
     ]
    },
    {
     "data": {
      "text/plain": [
       "Training loop:   0%|          | 0/2119 [00:00<?, ?it/s]"
      ],
      "application/vnd.jupyter.widget-view+json": {
       "version_major": 2,
       "version_minor": 0,
       "model_id": "15d5382a758c40aa851fc28ab3566be1"
      }
     },
     "metadata": {},
     "output_type": "display_data"
    },
    {
     "data": {
      "text/plain": [
       "Validation loop:   0%|          | 0/236 [00:00<?, ?it/s]"
      ],
      "application/vnd.jupyter.widget-view+json": {
       "version_major": 2,
       "version_minor": 0,
       "model_id": "52b69080eec840919f1828b0457bf7aa"
      }
     },
     "metadata": {},
     "output_type": "display_data"
    },
    {
     "name": "stdout",
     "output_type": "stream",
     "text": [
      "Epoch: 30 | train_loss: 0.2237 | train_GAP: 0.9273 | val_loss: 3.3238 | val_GAP: 0.4004 \n"
     ]
    },
    {
     "data": {
      "text/plain": [
       "Training loop:   0%|          | 0/2119 [00:00<?, ?it/s]"
      ],
      "application/vnd.jupyter.widget-view+json": {
       "version_major": 2,
       "version_minor": 0,
       "model_id": "3b7534bc1bfc41c7a30f21af1234f64e"
      }
     },
     "metadata": {},
     "output_type": "display_data"
    },
    {
     "data": {
      "text/plain": [
       "Validation loop:   0%|          | 0/236 [00:00<?, ?it/s]"
      ],
      "application/vnd.jupyter.widget-view+json": {
       "version_major": 2,
       "version_minor": 0,
       "model_id": "d26bfa34d7f54f969473bf0dca58c554"
      }
     },
     "metadata": {},
     "output_type": "display_data"
    },
    {
     "name": "stdout",
     "output_type": "stream",
     "text": [
      "Epoch: 31 | train_loss: 0.2380 | train_GAP: 0.9221 | val_loss: 3.0245 | val_GAP: 0.4282 \n"
     ]
    },
    {
     "data": {
      "text/plain": [
       "Training loop:   0%|          | 0/2119 [00:00<?, ?it/s]"
      ],
      "application/vnd.jupyter.widget-view+json": {
       "version_major": 2,
       "version_minor": 0,
       "model_id": "c83c3cc67c3e4ac8b1d85e28797cc19d"
      }
     },
     "metadata": {},
     "output_type": "display_data"
    },
    {
     "data": {
      "text/plain": [
       "Validation loop:   0%|          | 0/236 [00:00<?, ?it/s]"
      ],
      "application/vnd.jupyter.widget-view+json": {
       "version_major": 2,
       "version_minor": 0,
       "model_id": "8f494624282a4f75898ff7c38d875cd8"
      }
     },
     "metadata": {},
     "output_type": "display_data"
    },
    {
     "name": "stdout",
     "output_type": "stream",
     "text": [
      "Epoch: 32 | train_loss: 0.1931 | train_GAP: 0.9392 | val_loss: 3.1289 | val_GAP: 0.4340 \n"
     ]
    },
    {
     "data": {
      "text/plain": [
       "Training loop:   0%|          | 0/2119 [00:00<?, ?it/s]"
      ],
      "application/vnd.jupyter.widget-view+json": {
       "version_major": 2,
       "version_minor": 0,
       "model_id": "97aff6351c1b459995ab90ce93dba622"
      }
     },
     "metadata": {},
     "output_type": "display_data"
    },
    {
     "data": {
      "text/plain": [
       "Validation loop:   0%|          | 0/236 [00:00<?, ?it/s]"
      ],
      "application/vnd.jupyter.widget-view+json": {
       "version_major": 2,
       "version_minor": 0,
       "model_id": "9654f3831fb6408c90e4f4d3ce8921f5"
      }
     },
     "metadata": {},
     "output_type": "display_data"
    },
    {
     "name": "stdout",
     "output_type": "stream",
     "text": [
      "Epoch: 33 | train_loss: 0.2099 | train_GAP: 0.9300 | val_loss: 3.1858 | val_GAP: 0.4214 \n"
     ]
    },
    {
     "data": {
      "text/plain": [
       "Training loop:   0%|          | 0/2119 [00:00<?, ?it/s]"
      ],
      "application/vnd.jupyter.widget-view+json": {
       "version_major": 2,
       "version_minor": 0,
       "model_id": "be1f008f3794473aa1ff9e2178921a59"
      }
     },
     "metadata": {},
     "output_type": "display_data"
    },
    {
     "data": {
      "text/plain": [
       "Validation loop:   0%|          | 0/236 [00:00<?, ?it/s]"
      ],
      "application/vnd.jupyter.widget-view+json": {
       "version_major": 2,
       "version_minor": 0,
       "model_id": "06f1025d68934f9b9496d2f9760602c7"
      }
     },
     "metadata": {},
     "output_type": "display_data"
    },
    {
     "name": "stdout",
     "output_type": "stream",
     "text": [
      "Epoch: 34 | train_loss: 0.1665 | train_GAP: 0.9478 | val_loss: 3.2416 | val_GAP: 0.4272 \n"
     ]
    },
    {
     "data": {
      "text/plain": [
       "Training loop:   0%|          | 0/2119 [00:00<?, ?it/s]"
      ],
      "application/vnd.jupyter.widget-view+json": {
       "version_major": 2,
       "version_minor": 0,
       "model_id": "c7233cbafbaa4fbb9b5f0c4a767b7258"
      }
     },
     "metadata": {},
     "output_type": "display_data"
    },
    {
     "data": {
      "text/plain": [
       "Validation loop:   0%|          | 0/236 [00:00<?, ?it/s]"
      ],
      "application/vnd.jupyter.widget-view+json": {
       "version_major": 2,
       "version_minor": 0,
       "model_id": "8c4bde65d3744e7384f933cd163c8a3f"
      }
     },
     "metadata": {},
     "output_type": "display_data"
    },
    {
     "name": "stdout",
     "output_type": "stream",
     "text": [
      "Epoch: 35 | train_loss: 0.1703 | train_GAP: 0.9446 | val_loss: 3.1916 | val_GAP: 0.4269 \n"
     ]
    },
    {
     "data": {
      "text/plain": [
       "Training loop:   0%|          | 0/2119 [00:00<?, ?it/s]"
      ],
      "application/vnd.jupyter.widget-view+json": {
       "version_major": 2,
       "version_minor": 0,
       "model_id": "73f6fb904d5342159f59deeb75bc86de"
      }
     },
     "metadata": {},
     "output_type": "display_data"
    },
    {
     "data": {
      "text/plain": [
       "Validation loop:   0%|          | 0/236 [00:00<?, ?it/s]"
      ],
      "application/vnd.jupyter.widget-view+json": {
       "version_major": 2,
       "version_minor": 0,
       "model_id": "9e7cda68022d4894bc657dffb23a4449"
      }
     },
     "metadata": {},
     "output_type": "display_data"
    },
    {
     "name": "stdout",
     "output_type": "stream",
     "text": [
      "Epoch: 36 | train_loss: 0.1660 | train_GAP: 0.9462 | val_loss: 3.1749 | val_GAP: 0.4404 \n",
      "Checkpoint saved at epoch 36 with validation GAP 0.44041837015765506\n"
     ]
    },
    {
     "data": {
      "text/plain": [
       "Training loop:   0%|          | 0/2119 [00:00<?, ?it/s]"
      ],
      "application/vnd.jupyter.widget-view+json": {
       "version_major": 2,
       "version_minor": 0,
       "model_id": "336e18b0e211451cbc3f880760facd8b"
      }
     },
     "metadata": {},
     "output_type": "display_data"
    },
    {
     "data": {
      "text/plain": [
       "Validation loop:   0%|          | 0/236 [00:00<?, ?it/s]"
      ],
      "application/vnd.jupyter.widget-view+json": {
       "version_major": 2,
       "version_minor": 0,
       "model_id": "f6b35b93828a4d7fa8f04af553330b8e"
      }
     },
     "metadata": {},
     "output_type": "display_data"
    },
    {
     "name": "stdout",
     "output_type": "stream",
     "text": [
      "Epoch: 37 | train_loss: 0.1502 | train_GAP: 0.9485 | val_loss: 3.3766 | val_GAP: 0.3884 \n"
     ]
    },
    {
     "data": {
      "text/plain": [
       "Training loop:   0%|          | 0/2119 [00:00<?, ?it/s]"
      ],
      "application/vnd.jupyter.widget-view+json": {
       "version_major": 2,
       "version_minor": 0,
       "model_id": "74b45c73cc4541679d86f6b5ad441168"
      }
     },
     "metadata": {},
     "output_type": "display_data"
    },
    {
     "data": {
      "text/plain": [
       "Validation loop:   0%|          | 0/236 [00:00<?, ?it/s]"
      ],
      "application/vnd.jupyter.widget-view+json": {
       "version_major": 2,
       "version_minor": 0,
       "model_id": "c0cf3fa615b34c05842fa41d3cb2e301"
      }
     },
     "metadata": {},
     "output_type": "display_data"
    },
    {
     "name": "stdout",
     "output_type": "stream",
     "text": [
      "Epoch: 38 | train_loss: 0.1472 | train_GAP: 0.9528 | val_loss: 3.1488 | val_GAP: 0.4568 \n",
      "Checkpoint saved at epoch 38 with validation GAP 0.45679541851876115\n"
     ]
    },
    {
     "data": {
      "text/plain": [
       "Training loop:   0%|          | 0/2119 [00:00<?, ?it/s]"
      ],
      "application/vnd.jupyter.widget-view+json": {
       "version_major": 2,
       "version_minor": 0,
       "model_id": "b1657ff6b5c84a18b72b1f2c2fc2f398"
      }
     },
     "metadata": {},
     "output_type": "display_data"
    },
    {
     "data": {
      "text/plain": [
       "Validation loop:   0%|          | 0/236 [00:00<?, ?it/s]"
      ],
      "application/vnd.jupyter.widget-view+json": {
       "version_major": 2,
       "version_minor": 0,
       "model_id": "1b7f6d49453a449c923447d941a2033e"
      }
     },
     "metadata": {},
     "output_type": "display_data"
    },
    {
     "name": "stdout",
     "output_type": "stream",
     "text": [
      "Epoch: 39 | train_loss: 0.1377 | train_GAP: 0.9564 | val_loss: 3.4597 | val_GAP: 0.4094 \n"
     ]
    },
    {
     "data": {
      "text/plain": [
       "Training loop:   0%|          | 0/2119 [00:00<?, ?it/s]"
      ],
      "application/vnd.jupyter.widget-view+json": {
       "version_major": 2,
       "version_minor": 0,
       "model_id": "463c79e43dc043a299fd6ec5ea9da645"
      }
     },
     "metadata": {},
     "output_type": "display_data"
    },
    {
     "data": {
      "text/plain": [
       "Validation loop:   0%|          | 0/236 [00:00<?, ?it/s]"
      ],
      "application/vnd.jupyter.widget-view+json": {
       "version_major": 2,
       "version_minor": 0,
       "model_id": "1f36b52c0c8f4b6099b8a615c44c7e6e"
      }
     },
     "metadata": {},
     "output_type": "display_data"
    },
    {
     "name": "stdout",
     "output_type": "stream",
     "text": [
      "Epoch: 40 | train_loss: 0.1425 | train_GAP: 0.9552 | val_loss: 3.2473 | val_GAP: 0.4450 \n"
     ]
    },
    {
     "data": {
      "text/plain": [
       "Training loop:   0%|          | 0/2119 [00:00<?, ?it/s]"
      ],
      "application/vnd.jupyter.widget-view+json": {
       "version_major": 2,
       "version_minor": 0,
       "model_id": "7dccb20377874f8a9f2bc2e41c8a9a06"
      }
     },
     "metadata": {},
     "output_type": "display_data"
    },
    {
     "data": {
      "text/plain": [
       "Validation loop:   0%|          | 0/236 [00:00<?, ?it/s]"
      ],
      "application/vnd.jupyter.widget-view+json": {
       "version_major": 2,
       "version_minor": 0,
       "model_id": "ee8ca9a7083b4ea58c2a4e6b7fb6a3df"
      }
     },
     "metadata": {},
     "output_type": "display_data"
    },
    {
     "name": "stdout",
     "output_type": "stream",
     "text": [
      "Epoch: 41 | train_loss: 0.1365 | train_GAP: 0.9572 | val_loss: 3.2298 | val_GAP: 0.4408 \n"
     ]
    },
    {
     "data": {
      "text/plain": [
       "Training loop:   0%|          | 0/2119 [00:00<?, ?it/s]"
      ],
      "application/vnd.jupyter.widget-view+json": {
       "version_major": 2,
       "version_minor": 0,
       "model_id": "b29a6cbcafaa4054994e1b2da2f2e3e1"
      }
     },
     "metadata": {},
     "output_type": "display_data"
    },
    {
     "data": {
      "text/plain": [
       "Validation loop:   0%|          | 0/236 [00:00<?, ?it/s]"
      ],
      "application/vnd.jupyter.widget-view+json": {
       "version_major": 2,
       "version_minor": 0,
       "model_id": "a485843a5e7b4411b8cb55a9af41df83"
      }
     },
     "metadata": {},
     "output_type": "display_data"
    },
    {
     "name": "stdout",
     "output_type": "stream",
     "text": [
      "Epoch: 42 | train_loss: 0.1250 | train_GAP: 0.9598 | val_loss: 3.4510 | val_GAP: 0.4099 \n"
     ]
    },
    {
     "data": {
      "text/plain": [
       "Training loop:   0%|          | 0/2119 [00:00<?, ?it/s]"
      ],
      "application/vnd.jupyter.widget-view+json": {
       "version_major": 2,
       "version_minor": 0,
       "model_id": "620ae54201e84881a89aca1a36629fcd"
      }
     },
     "metadata": {},
     "output_type": "display_data"
    },
    {
     "data": {
      "text/plain": [
       "Validation loop:   0%|          | 0/236 [00:00<?, ?it/s]"
      ],
      "application/vnd.jupyter.widget-view+json": {
       "version_major": 2,
       "version_minor": 0,
       "model_id": "811e9dae68624961b81c781fda9bfe60"
      }
     },
     "metadata": {},
     "output_type": "display_data"
    },
    {
     "name": "stdout",
     "output_type": "stream",
     "text": [
      "Epoch: 43 | train_loss: 0.1071 | train_GAP: 0.9651 | val_loss: 3.4758 | val_GAP: 0.4020 \n"
     ]
    },
    {
     "data": {
      "text/plain": [
       "Training loop:   0%|          | 0/2119 [00:00<?, ?it/s]"
      ],
      "application/vnd.jupyter.widget-view+json": {
       "version_major": 2,
       "version_minor": 0,
       "model_id": "b44e5671d1404fb6a43d6c8ccb9d84e1"
      }
     },
     "metadata": {},
     "output_type": "display_data"
    },
    {
     "data": {
      "text/plain": [
       "Validation loop:   0%|          | 0/236 [00:00<?, ?it/s]"
      ],
      "application/vnd.jupyter.widget-view+json": {
       "version_major": 2,
       "version_minor": 0,
       "model_id": "ef6658061b6e47c2bc91cf01ac6a288c"
      }
     },
     "metadata": {},
     "output_type": "display_data"
    },
    {
     "name": "stdout",
     "output_type": "stream",
     "text": [
      "Epoch: 44 | train_loss: 0.1127 | train_GAP: 0.9631 | val_loss: 3.3933 | val_GAP: 0.4142 \n"
     ]
    },
    {
     "data": {
      "text/plain": [
       "Training loop:   0%|          | 0/2119 [00:00<?, ?it/s]"
      ],
      "application/vnd.jupyter.widget-view+json": {
       "version_major": 2,
       "version_minor": 0,
       "model_id": "a5bc87be77bb4f8b9050c2bf7648dabc"
      }
     },
     "metadata": {},
     "output_type": "display_data"
    },
    {
     "data": {
      "text/plain": [
       "Validation loop:   0%|          | 0/236 [00:00<?, ?it/s]"
      ],
      "application/vnd.jupyter.widget-view+json": {
       "version_major": 2,
       "version_minor": 0,
       "model_id": "3468b8e408a642a0928a86d95a461296"
      }
     },
     "metadata": {},
     "output_type": "display_data"
    },
    {
     "name": "stdout",
     "output_type": "stream",
     "text": [
      "Epoch: 45 | train_loss: 0.1085 | train_GAP: 0.9653 | val_loss: 3.4164 | val_GAP: 0.4090 \n"
     ]
    },
    {
     "data": {
      "text/plain": [
       "Training loop:   0%|          | 0/2119 [00:00<?, ?it/s]"
      ],
      "application/vnd.jupyter.widget-view+json": {
       "version_major": 2,
       "version_minor": 0,
       "model_id": "31aa1f715dfb4c6e9c78d7e831def1fa"
      }
     },
     "metadata": {},
     "output_type": "display_data"
    },
    {
     "data": {
      "text/plain": [
       "Validation loop:   0%|          | 0/236 [00:00<?, ?it/s]"
      ],
      "application/vnd.jupyter.widget-view+json": {
       "version_major": 2,
       "version_minor": 0,
       "model_id": "cf7c2d0fc4604c37b48411b2ce52ccf8"
      }
     },
     "metadata": {},
     "output_type": "display_data"
    },
    {
     "name": "stdout",
     "output_type": "stream",
     "text": [
      "Epoch: 46 | train_loss: 0.1090 | train_GAP: 0.9657 | val_loss: 3.4962 | val_GAP: 0.4022 \n"
     ]
    },
    {
     "data": {
      "text/plain": [
       "Training loop:   0%|          | 0/2119 [00:00<?, ?it/s]"
      ],
      "application/vnd.jupyter.widget-view+json": {
       "version_major": 2,
       "version_minor": 0,
       "model_id": "292c92a2170a4314af3d38747649c650"
      }
     },
     "metadata": {},
     "output_type": "display_data"
    },
    {
     "data": {
      "text/plain": [
       "Validation loop:   0%|          | 0/236 [00:00<?, ?it/s]"
      ],
      "application/vnd.jupyter.widget-view+json": {
       "version_major": 2,
       "version_minor": 0,
       "model_id": "1fca27d3afd54a17b8bbace0756fb2ff"
      }
     },
     "metadata": {},
     "output_type": "display_data"
    },
    {
     "name": "stdout",
     "output_type": "stream",
     "text": [
      "Epoch: 47 | train_loss: 0.1003 | train_GAP: 0.9679 | val_loss: 3.5123 | val_GAP: 0.4005 \n"
     ]
    },
    {
     "data": {
      "text/plain": [
       "Training loop:   0%|          | 0/2119 [00:00<?, ?it/s]"
      ],
      "application/vnd.jupyter.widget-view+json": {
       "version_major": 2,
       "version_minor": 0,
       "model_id": "1cbe82ce86cd4079a755a35e10b59cec"
      }
     },
     "metadata": {},
     "output_type": "display_data"
    },
    {
     "data": {
      "text/plain": [
       "Validation loop:   0%|          | 0/236 [00:00<?, ?it/s]"
      ],
      "application/vnd.jupyter.widget-view+json": {
       "version_major": 2,
       "version_minor": 0,
       "model_id": "6c8a86ce3ee24480b40ca2a2c74c3116"
      }
     },
     "metadata": {},
     "output_type": "display_data"
    },
    {
     "name": "stdout",
     "output_type": "stream",
     "text": [
      "Epoch: 48 | train_loss: 0.0952 | train_GAP: 0.9695 | val_loss: 3.3182 | val_GAP: 0.4471 \n"
     ]
    },
    {
     "data": {
      "text/plain": [
       "Training loop:   0%|          | 0/2119 [00:00<?, ?it/s]"
      ],
      "application/vnd.jupyter.widget-view+json": {
       "version_major": 2,
       "version_minor": 0,
       "model_id": "f9e98deebad246569a6fb1c8819f340b"
      }
     },
     "metadata": {},
     "output_type": "display_data"
    },
    {
     "data": {
      "text/plain": [
       "Validation loop:   0%|          | 0/236 [00:00<?, ?it/s]"
      ],
      "application/vnd.jupyter.widget-view+json": {
       "version_major": 2,
       "version_minor": 0,
       "model_id": "73a740d7d37b4b36863274a8c030c704"
      }
     },
     "metadata": {},
     "output_type": "display_data"
    },
    {
     "name": "stdout",
     "output_type": "stream",
     "text": [
      "Epoch: 49 | train_loss: 0.1073 | train_GAP: 0.9646 | val_loss: 3.4928 | val_GAP: 0.4252 \n"
     ]
    },
    {
     "data": {
      "text/plain": [
       "Training loop:   0%|          | 0/2119 [00:00<?, ?it/s]"
      ],
      "application/vnd.jupyter.widget-view+json": {
       "version_major": 2,
       "version_minor": 0,
       "model_id": "a0195d092b2b4b4c818233eb3e7fb32f"
      }
     },
     "metadata": {},
     "output_type": "display_data"
    },
    {
     "data": {
      "text/plain": [
       "Validation loop:   0%|          | 0/236 [00:00<?, ?it/s]"
      ],
      "application/vnd.jupyter.widget-view+json": {
       "version_major": 2,
       "version_minor": 0,
       "model_id": "bb0d282c15904480a3454e241403feea"
      }
     },
     "metadata": {},
     "output_type": "display_data"
    },
    {
     "name": "stdout",
     "output_type": "stream",
     "text": [
      "Epoch: 50 | train_loss: 0.0886 | train_GAP: 0.9712 | val_loss: 3.5148 | val_GAP: 0.4137 \n"
     ]
    },
    {
     "data": {
      "text/plain": [
       "Training loop:   0%|          | 0/2119 [00:00<?, ?it/s]"
      ],
      "application/vnd.jupyter.widget-view+json": {
       "version_major": 2,
       "version_minor": 0,
       "model_id": "f99b3f2ead1444ed9e3cdd453f03955d"
      }
     },
     "metadata": {},
     "output_type": "display_data"
    },
    {
     "data": {
      "text/plain": [
       "Validation loop:   0%|          | 0/236 [00:00<?, ?it/s]"
      ],
      "application/vnd.jupyter.widget-view+json": {
       "version_major": 2,
       "version_minor": 0,
       "model_id": "8d4cc500125d46f0bd01cbeaa2e62ab3"
      }
     },
     "metadata": {},
     "output_type": "display_data"
    },
    {
     "name": "stdout",
     "output_type": "stream",
     "text": [
      "Epoch: 51 | train_loss: 0.0915 | train_GAP: 0.9716 | val_loss: 3.6414 | val_GAP: 0.4137 \n"
     ]
    },
    {
     "data": {
      "text/plain": [
       "Training loop:   0%|          | 0/2119 [00:00<?, ?it/s]"
      ],
      "application/vnd.jupyter.widget-view+json": {
       "version_major": 2,
       "version_minor": 0,
       "model_id": "aaedc4bb79c040a388bbcb8a4a856e10"
      }
     },
     "metadata": {},
     "output_type": "display_data"
    },
    {
     "data": {
      "text/plain": [
       "Validation loop:   0%|          | 0/236 [00:00<?, ?it/s]"
      ],
      "application/vnd.jupyter.widget-view+json": {
       "version_major": 2,
       "version_minor": 0,
       "model_id": "a358e5cf98ab49c5b53ca9170b233efe"
      }
     },
     "metadata": {},
     "output_type": "display_data"
    },
    {
     "name": "stdout",
     "output_type": "stream",
     "text": [
      "Epoch: 52 | train_loss: 0.0882 | train_GAP: 0.9725 | val_loss: 3.5551 | val_GAP: 0.4114 \n"
     ]
    },
    {
     "data": {
      "text/plain": [
       "Training loop:   0%|          | 0/2119 [00:00<?, ?it/s]"
      ],
      "application/vnd.jupyter.widget-view+json": {
       "version_major": 2,
       "version_minor": 0,
       "model_id": "1211f0fda44e4f6e9144e1fa47a215a3"
      }
     },
     "metadata": {},
     "output_type": "display_data"
    },
    {
     "data": {
      "text/plain": [
       "Validation loop:   0%|          | 0/236 [00:00<?, ?it/s]"
      ],
      "application/vnd.jupyter.widget-view+json": {
       "version_major": 2,
       "version_minor": 0,
       "model_id": "2d8f0cea85864dd492a0cea9f68c4dfa"
      }
     },
     "metadata": {},
     "output_type": "display_data"
    },
    {
     "name": "stdout",
     "output_type": "stream",
     "text": [
      "Epoch: 53 | train_loss: 0.0906 | train_GAP: 0.9699 | val_loss: 3.5020 | val_GAP: 0.4388 \n"
     ]
    },
    {
     "data": {
      "text/plain": [
       "Training loop:   0%|          | 0/2119 [00:00<?, ?it/s]"
      ],
      "application/vnd.jupyter.widget-view+json": {
       "version_major": 2,
       "version_minor": 0,
       "model_id": "e9553d4c8a084cef973ae89f4016af46"
      }
     },
     "metadata": {},
     "output_type": "display_data"
    },
    {
     "data": {
      "text/plain": [
       "Validation loop:   0%|          | 0/236 [00:00<?, ?it/s]"
      ],
      "application/vnd.jupyter.widget-view+json": {
       "version_major": 2,
       "version_minor": 0,
       "model_id": "b1b827c3c45649ec9b9f2d8813c5f982"
      }
     },
     "metadata": {},
     "output_type": "display_data"
    },
    {
     "name": "stdout",
     "output_type": "stream",
     "text": [
      "Epoch: 54 | train_loss: 0.0742 | train_GAP: 0.9785 | val_loss: 3.8105 | val_GAP: 0.4049 \n"
     ]
    },
    {
     "data": {
      "text/plain": [
       "Training loop:   0%|          | 0/2119 [00:00<?, ?it/s]"
      ],
      "application/vnd.jupyter.widget-view+json": {
       "version_major": 2,
       "version_minor": 0,
       "model_id": "733324441216440d98d24eebcb9895c3"
      }
     },
     "metadata": {},
     "output_type": "display_data"
    },
    {
     "data": {
      "text/plain": [
       "Validation loop:   0%|          | 0/236 [00:00<?, ?it/s]"
      ],
      "application/vnd.jupyter.widget-view+json": {
       "version_major": 2,
       "version_minor": 0,
       "model_id": "ac70d530616f440781a713c7b6dd0591"
      }
     },
     "metadata": {},
     "output_type": "display_data"
    },
    {
     "name": "stdout",
     "output_type": "stream",
     "text": [
      "Epoch: 55 | train_loss: 0.0900 | train_GAP: 0.9715 | val_loss: 3.6316 | val_GAP: 0.4076 \n"
     ]
    },
    {
     "data": {
      "text/plain": [
       "Training loop:   0%|          | 0/2119 [00:00<?, ?it/s]"
      ],
      "application/vnd.jupyter.widget-view+json": {
       "version_major": 2,
       "version_minor": 0,
       "model_id": "4574a15e62db49528c1869f7fd3adaeb"
      }
     },
     "metadata": {},
     "output_type": "display_data"
    },
    {
     "data": {
      "text/plain": [
       "Validation loop:   0%|          | 0/236 [00:00<?, ?it/s]"
      ],
      "application/vnd.jupyter.widget-view+json": {
       "version_major": 2,
       "version_minor": 0,
       "model_id": "aa1769be819145c49eb204839fa67254"
      }
     },
     "metadata": {},
     "output_type": "display_data"
    },
    {
     "name": "stdout",
     "output_type": "stream",
     "text": [
      "Epoch: 56 | train_loss: 0.0752 | train_GAP: 0.9771 | val_loss: 3.4805 | val_GAP: 0.4527 \n"
     ]
    },
    {
     "data": {
      "text/plain": [
       "Training loop:   0%|          | 0/2119 [00:00<?, ?it/s]"
      ],
      "application/vnd.jupyter.widget-view+json": {
       "version_major": 2,
       "version_minor": 0,
       "model_id": "254113da85ae4a5e95ae27279f6d2ce4"
      }
     },
     "metadata": {},
     "output_type": "display_data"
    },
    {
     "data": {
      "text/plain": [
       "Validation loop:   0%|          | 0/236 [00:00<?, ?it/s]"
      ],
      "application/vnd.jupyter.widget-view+json": {
       "version_major": 2,
       "version_minor": 0,
       "model_id": "f9793d79137246dbb4bb18843eeeaa90"
      }
     },
     "metadata": {},
     "output_type": "display_data"
    },
    {
     "name": "stdout",
     "output_type": "stream",
     "text": [
      "Epoch: 57 | train_loss: 0.0753 | train_GAP: 0.9775 | val_loss: 3.6610 | val_GAP: 0.4405 \n"
     ]
    },
    {
     "data": {
      "text/plain": [
       "Training loop:   0%|          | 0/2119 [00:00<?, ?it/s]"
      ],
      "application/vnd.jupyter.widget-view+json": {
       "version_major": 2,
       "version_minor": 0,
       "model_id": "f8d4eff829ba4bcdbf5936fe68b2fdf7"
      }
     },
     "metadata": {},
     "output_type": "display_data"
    },
    {
     "data": {
      "text/plain": [
       "Validation loop:   0%|          | 0/236 [00:00<?, ?it/s]"
      ],
      "application/vnd.jupyter.widget-view+json": {
       "version_major": 2,
       "version_minor": 0,
       "model_id": "618300a96f4e4c028e6362d543ef4be4"
      }
     },
     "metadata": {},
     "output_type": "display_data"
    },
    {
     "name": "stdout",
     "output_type": "stream",
     "text": [
      "Epoch: 58 | train_loss: 0.0824 | train_GAP: 0.9747 | val_loss: 3.4325 | val_GAP: 0.4502 \n"
     ]
    },
    {
     "data": {
      "text/plain": [
       "Training loop:   0%|          | 0/2119 [00:00<?, ?it/s]"
      ],
      "application/vnd.jupyter.widget-view+json": {
       "version_major": 2,
       "version_minor": 0,
       "model_id": "c291ecb7560e4cca955973a150a1e376"
      }
     },
     "metadata": {},
     "output_type": "display_data"
    },
    {
     "data": {
      "text/plain": [
       "Validation loop:   0%|          | 0/236 [00:00<?, ?it/s]"
      ],
      "application/vnd.jupyter.widget-view+json": {
       "version_major": 2,
       "version_minor": 0,
       "model_id": "92a55577f5074710869b62c0b354427d"
      }
     },
     "metadata": {},
     "output_type": "display_data"
    },
    {
     "name": "stdout",
     "output_type": "stream",
     "text": [
      "Epoch: 59 | train_loss: 0.0603 | train_GAP: 0.9820 | val_loss: 3.5218 | val_GAP: 0.4593 \n",
      "Checkpoint saved at epoch 59 with validation GAP 0.45930099570921973\n"
     ]
    },
    {
     "data": {
      "text/plain": [
       "Training loop:   0%|          | 0/2119 [00:00<?, ?it/s]"
      ],
      "application/vnd.jupyter.widget-view+json": {
       "version_major": 2,
       "version_minor": 0,
       "model_id": "441286a050fe4f3daf3be8e5b44d9208"
      }
     },
     "metadata": {},
     "output_type": "display_data"
    },
    {
     "data": {
      "text/plain": [
       "Validation loop:   0%|          | 0/236 [00:00<?, ?it/s]"
      ],
      "application/vnd.jupyter.widget-view+json": {
       "version_major": 2,
       "version_minor": 0,
       "model_id": "f94dcf303512495aa588f04fdf7e7aef"
      }
     },
     "metadata": {},
     "output_type": "display_data"
    },
    {
     "name": "stdout",
     "output_type": "stream",
     "text": [
      "Epoch: 60 | train_loss: 0.0833 | train_GAP: 0.9719 | val_loss: 3.4633 | val_GAP: 0.4487 \n"
     ]
    },
    {
     "data": {
      "text/plain": [
       "Training loop:   0%|          | 0/2119 [00:00<?, ?it/s]"
      ],
      "application/vnd.jupyter.widget-view+json": {
       "version_major": 2,
       "version_minor": 0,
       "model_id": "888a2acb43f4439698a691e364ff24a8"
      }
     },
     "metadata": {},
     "output_type": "display_data"
    },
    {
     "data": {
      "text/plain": [
       "Validation loop:   0%|          | 0/236 [00:00<?, ?it/s]"
      ],
      "application/vnd.jupyter.widget-view+json": {
       "version_major": 2,
       "version_minor": 0,
       "model_id": "aa2634fe471048199965f392d214f756"
      }
     },
     "metadata": {},
     "output_type": "display_data"
    },
    {
     "name": "stdout",
     "output_type": "stream",
     "text": [
      "Epoch: 61 | train_loss: 0.0710 | train_GAP: 0.9774 | val_loss: 3.7874 | val_GAP: 0.3877 \n"
     ]
    },
    {
     "data": {
      "text/plain": [
       "Training loop:   0%|          | 0/2119 [00:00<?, ?it/s]"
      ],
      "application/vnd.jupyter.widget-view+json": {
       "version_major": 2,
       "version_minor": 0,
       "model_id": "8a96f457d7144f8498e93ded0a03fb1d"
      }
     },
     "metadata": {},
     "output_type": "display_data"
    },
    {
     "data": {
      "text/plain": [
       "Validation loop:   0%|          | 0/236 [00:00<?, ?it/s]"
      ],
      "application/vnd.jupyter.widget-view+json": {
       "version_major": 2,
       "version_minor": 0,
       "model_id": "a8921be7a04d44a695ad803acf7a9fc4"
      }
     },
     "metadata": {},
     "output_type": "display_data"
    },
    {
     "name": "stdout",
     "output_type": "stream",
     "text": [
      "Epoch: 62 | train_loss: 0.0737 | train_GAP: 0.9783 | val_loss: 3.4861 | val_GAP: 0.4558 \n"
     ]
    },
    {
     "data": {
      "text/plain": [
       "Training loop:   0%|          | 0/2119 [00:00<?, ?it/s]"
      ],
      "application/vnd.jupyter.widget-view+json": {
       "version_major": 2,
       "version_minor": 0,
       "model_id": "10d2c4d537a149af856a68747e680012"
      }
     },
     "metadata": {},
     "output_type": "display_data"
    },
    {
     "data": {
      "text/plain": [
       "Validation loop:   0%|          | 0/236 [00:00<?, ?it/s]"
      ],
      "application/vnd.jupyter.widget-view+json": {
       "version_major": 2,
       "version_minor": 0,
       "model_id": "d74eb646b30c4e71814e2c3d971efb99"
      }
     },
     "metadata": {},
     "output_type": "display_data"
    },
    {
     "name": "stdout",
     "output_type": "stream",
     "text": [
      "Epoch: 63 | train_loss: 0.0647 | train_GAP: 0.9781 | val_loss: 3.6786 | val_GAP: 0.4537 \n"
     ]
    },
    {
     "data": {
      "text/plain": [
       "Training loop:   0%|          | 0/2119 [00:00<?, ?it/s]"
      ],
      "application/vnd.jupyter.widget-view+json": {
       "version_major": 2,
       "version_minor": 0,
       "model_id": "50cf6cbdd852475e8ca7a98e5cbf8458"
      }
     },
     "metadata": {},
     "output_type": "display_data"
    },
    {
     "data": {
      "text/plain": [
       "Validation loop:   0%|          | 0/236 [00:00<?, ?it/s]"
      ],
      "application/vnd.jupyter.widget-view+json": {
       "version_major": 2,
       "version_minor": 0,
       "model_id": "4ae0885b86c94384b1041c492a7eb638"
      }
     },
     "metadata": {},
     "output_type": "display_data"
    },
    {
     "name": "stdout",
     "output_type": "stream",
     "text": [
      "Epoch: 64 | train_loss: 0.0704 | train_GAP: 0.9775 | val_loss: 3.5461 | val_GAP: 0.4475 \n"
     ]
    },
    {
     "data": {
      "text/plain": [
       "Training loop:   0%|          | 0/2119 [00:00<?, ?it/s]"
      ],
      "application/vnd.jupyter.widget-view+json": {
       "version_major": 2,
       "version_minor": 0,
       "model_id": "cf1d29e628884e08be267b6452f42cf4"
      }
     },
     "metadata": {},
     "output_type": "display_data"
    },
    {
     "data": {
      "text/plain": [
       "Validation loop:   0%|          | 0/236 [00:00<?, ?it/s]"
      ],
      "application/vnd.jupyter.widget-view+json": {
       "version_major": 2,
       "version_minor": 0,
       "model_id": "12be66c2334a427698e1209fbc2f28d0"
      }
     },
     "metadata": {},
     "output_type": "display_data"
    },
    {
     "name": "stdout",
     "output_type": "stream",
     "text": [
      "Epoch: 65 | train_loss: 0.0602 | train_GAP: 0.9818 | val_loss: 3.6003 | val_GAP: 0.4254 \n"
     ]
    },
    {
     "data": {
      "text/plain": [
       "Training loop:   0%|          | 0/2119 [00:00<?, ?it/s]"
      ],
      "application/vnd.jupyter.widget-view+json": {
       "version_major": 2,
       "version_minor": 0,
       "model_id": "3d300dd7633e48f6add9dc419dc070b1"
      }
     },
     "metadata": {},
     "output_type": "display_data"
    },
    {
     "data": {
      "text/plain": [
       "Validation loop:   0%|          | 0/236 [00:00<?, ?it/s]"
      ],
      "application/vnd.jupyter.widget-view+json": {
       "version_major": 2,
       "version_minor": 0,
       "model_id": "d5bfad2f217f49bfba0a8b242dcb7ed8"
      }
     },
     "metadata": {},
     "output_type": "display_data"
    },
    {
     "name": "stdout",
     "output_type": "stream",
     "text": [
      "Epoch: 66 | train_loss: 0.0543 | train_GAP: 0.9831 | val_loss: 3.5610 | val_GAP: 0.4391 \n"
     ]
    },
    {
     "data": {
      "text/plain": [
       "Training loop:   0%|          | 0/2119 [00:00<?, ?it/s]"
      ],
      "application/vnd.jupyter.widget-view+json": {
       "version_major": 2,
       "version_minor": 0,
       "model_id": "5e4a2e211b5f45f99f3c73c9d95e8cde"
      }
     },
     "metadata": {},
     "output_type": "display_data"
    },
    {
     "data": {
      "text/plain": [
       "Validation loop:   0%|          | 0/236 [00:00<?, ?it/s]"
      ],
      "application/vnd.jupyter.widget-view+json": {
       "version_major": 2,
       "version_minor": 0,
       "model_id": "c79475a5db81459087170d90a65d52b8"
      }
     },
     "metadata": {},
     "output_type": "display_data"
    },
    {
     "name": "stdout",
     "output_type": "stream",
     "text": [
      "Epoch: 67 | train_loss: 0.0679 | train_GAP: 0.9768 | val_loss: 3.6193 | val_GAP: 0.4339 \n"
     ]
    },
    {
     "data": {
      "text/plain": [
       "Training loop:   0%|          | 0/2119 [00:00<?, ?it/s]"
      ],
      "application/vnd.jupyter.widget-view+json": {
       "version_major": 2,
       "version_minor": 0,
       "model_id": "5f4cb2652f934737bc08a70f59647db3"
      }
     },
     "metadata": {},
     "output_type": "display_data"
    },
    {
     "data": {
      "text/plain": [
       "Validation loop:   0%|          | 0/236 [00:00<?, ?it/s]"
      ],
      "application/vnd.jupyter.widget-view+json": {
       "version_major": 2,
       "version_minor": 0,
       "model_id": "71ccb2bbf71345c5ab5529a4db45d64d"
      }
     },
     "metadata": {},
     "output_type": "display_data"
    },
    {
     "name": "stdout",
     "output_type": "stream",
     "text": [
      "Epoch: 68 | train_loss: 0.0539 | train_GAP: 0.9833 | val_loss: 3.7288 | val_GAP: 0.4535 \n"
     ]
    },
    {
     "data": {
      "text/plain": [
       "Training loop:   0%|          | 0/2119 [00:00<?, ?it/s]"
      ],
      "application/vnd.jupyter.widget-view+json": {
       "version_major": 2,
       "version_minor": 0,
       "model_id": "094c23a1537e4272bfa74cdaaa5c71b7"
      }
     },
     "metadata": {},
     "output_type": "display_data"
    },
    {
     "data": {
      "text/plain": [
       "Validation loop:   0%|          | 0/236 [00:00<?, ?it/s]"
      ],
      "application/vnd.jupyter.widget-view+json": {
       "version_major": 2,
       "version_minor": 0,
       "model_id": "0822b9e24647435cbaf2a85c4ce478a4"
      }
     },
     "metadata": {},
     "output_type": "display_data"
    },
    {
     "name": "stdout",
     "output_type": "stream",
     "text": [
      "Epoch: 69 | train_loss: 0.0672 | train_GAP: 0.9793 | val_loss: 3.5885 | val_GAP: 0.4506 \n"
     ]
    },
    {
     "data": {
      "text/plain": [
       "Training loop:   0%|          | 0/2119 [00:00<?, ?it/s]"
      ],
      "application/vnd.jupyter.widget-view+json": {
       "version_major": 2,
       "version_minor": 0,
       "model_id": "6e7ad849a2124ac59ee9e392ffc38681"
      }
     },
     "metadata": {},
     "output_type": "display_data"
    },
    {
     "data": {
      "text/plain": [
       "Validation loop:   0%|          | 0/236 [00:00<?, ?it/s]"
      ],
      "application/vnd.jupyter.widget-view+json": {
       "version_major": 2,
       "version_minor": 0,
       "model_id": "1ebda05d300f495c9d349acdefeb976b"
      }
     },
     "metadata": {},
     "output_type": "display_data"
    },
    {
     "name": "stdout",
     "output_type": "stream",
     "text": [
      "Epoch: 70 | train_loss: 0.0577 | train_GAP: 0.9821 | val_loss: 3.6167 | val_GAP: 0.4454 \n"
     ]
    }
   ],
   "execution_count": 41
  },
  {
   "metadata": {
    "ExecuteTime": {
     "end_time": "2024-07-03T06:45:48.316351Z",
     "start_time": "2024-07-03T06:45:48.050004Z"
    }
   },
   "cell_type": "code",
   "source": "train_utils.plot_loss_curves(results_50)",
   "id": "fe4e68a0a2b423d0",
   "outputs": [
    {
     "data": {
      "text/plain": [
       "<Figure size 1500x700 with 2 Axes>"
      ],
      "image/png": "[encoded data removed]"
     },
     "metadata": {},
     "output_type": "display_data"
    }
   ],
   "execution_count": 43
  },
  {
   "metadata": {
    "ExecuteTime": {
     "end_time": "2024-07-03T14:08:05.788146Z",
     "start_time": "2024-07-03T14:08:05.066134Z"
    }
   },
   "cell_type": "code",
   "source": [
    "# Different efficient net versions\n",
    "\n",
    "efficientnet_b1 = PretrainedClassifier(num_classes=len(unique_classes), pretrained_model='efficientnet_b3', out_size=1536)"
   ],
   "id": "56ef4aa031f6e2c",
   "outputs": [
    {
     "name": "stderr",
     "output_type": "stream",
     "text": [
      "INFO:timm.models._builder:Loading pretrained weights from Hugging Face hub (timm/efficientnet_b3.ra2_in1k)\n",
      "INFO:timm.models._hub:[timm/efficientnet_b3.ra2_in1k] Safe alternative available for 'pytorch_model.bin' (as 'model.safetensors'). Loading weights using safetensors.\n"
     ]
    }
   ],
   "execution_count": 36
  },
  {
   "metadata": {
    "ExecuteTime": {
     "end_time": "2024-07-03T14:08:07.853444Z",
     "start_time": "2024-07-03T14:08:07.849804Z"
    }
   },
   "cell_type": "code",
   "source": "optimizer_b1 = optim.Adam(efficientnet_b1.parameters(), lr=0.001)",
   "id": "662a9b8d48dd182e",
   "outputs": [],
   "execution_count": 37
  },
  {
   "metadata": {},
   "cell_type": "markdown",
   "source": "",
   "id": "8f3ae434e71eaf5d"
  },
  {
   "metadata": {
    "ExecuteTime": {
     "end_time": "2024-07-03T11:49:39.461786Z",
     "start_time": "2024-07-03T11:49:39.362934Z"
    }
   },
   "cell_type": "code",
   "source": "summary(efficientnet_b1.to(device), (3, 300, 300))",
   "id": "b919791db53bab1a",
   "outputs": [
    {
     "name": "stdout",
     "output_type": "stream",
     "text": [
      "====================================================================================================\n",
      "Layer (type:depth-idx)                             Output Shape              Param #\n",
      "====================================================================================================\n",
      "├─Sequential: 1-1                                  [-1, 1536]                --\n",
      "├─EfficientNet: 1                                  []                        --\n",
      "|    └─Conv2d: 2-1                                 [-1, 40, 150, 150]        1,080\n",
      "├─Sequential: 1                                    []                        --\n",
      "|    └─Conv2d: 2-2                                 [-1, 40, 150, 150]        (recursive)\n",
      "├─EfficientNet: 1                                  []                        --\n",
      "|    └─BatchNormAct2d: 2-3                         [-1, 40, 150, 150]        --\n",
      "├─Sequential: 1                                    []                        --\n",
      "|    └─BatchNormAct2d: 2-4                         [-1, 40, 150, 150]        (recursive)\n",
      "├─EfficientNet: 1                                  []                        --\n",
      "|    |    └─Identity: 3-1                          [-1, 40, 150, 150]        --\n",
      "├─Sequential: 1                                    []                        --\n",
      "|    |    └─Identity: 3-2                          [-1, 40, 150, 150]        --\n",
      "├─EfficientNet: 1                                  []                        --\n",
      "|    |    └─SiLU: 3-3                              [-1, 40, 150, 150]        --\n",
      "├─Sequential: 1                                    []                        --\n",
      "|    |    └─SiLU: 3-4                              [-1, 40, 150, 150]        --\n",
      "├─EfficientNet: 1                                  []                        --\n",
      "|    └─Sequential: 2-5                             [-1, 384, 10, 10]         --\n",
      "├─Sequential: 1                                    []                        --\n",
      "|    └─Sequential: 2-6                             [-1, 384, 10, 10]         (recursive)\n",
      "├─EfficientNet: 1                                  []                        --\n",
      "|    |    └─Sequential: 3-5                        [-1, 24, 150, 150]        3,504\n",
      "├─Sequential: 1                                    []                        --\n",
      "|    |    └─Sequential: 3-6                        [-1, 24, 150, 150]        (recursive)\n",
      "├─EfficientNet: 1                                  []                        --\n",
      "|    |    └─Sequential: 3-7                        [-1, 32, 75, 75]          48,118\n",
      "├─Sequential: 1                                    []                        --\n",
      "|    |    └─Sequential: 3-8                        [-1, 32, 75, 75]          (recursive)\n",
      "├─EfficientNet: 1                                  []                        --\n",
      "|    |    └─Sequential: 3-9                        [-1, 48, 38, 38]          110,912\n",
      "├─Sequential: 1                                    []                        --\n",
      "|    |    └─Sequential: 3-10                       [-1, 48, 38, 38]          (recursive)\n",
      "├─EfficientNet: 1                                  []                        --\n",
      "|    |    └─Sequential: 3-11                       [-1, 96, 19, 19]          638,700\n",
      "├─Sequential: 1                                    []                        --\n",
      "|    |    └─Sequential: 3-12                       [-1, 96, 19, 19]          (recursive)\n",
      "├─EfficientNet: 1                                  []                        --\n",
      "|    |    └─Sequential: 3-13                       [-1, 136, 19, 19]         1,387,760\n",
      "├─Sequential: 1                                    []                        --\n",
      "|    |    └─Sequential: 3-14                       [-1, 136, 19, 19]         (recursive)\n",
      "├─EfficientNet: 1                                  []                        --\n",
      "|    |    └─Sequential: 3-15                       [-1, 232, 10, 10]         4,628,964\n",
      "├─Sequential: 1                                    []                        --\n",
      "|    |    └─Sequential: 3-16                       [-1, 232, 10, 10]         (recursive)\n",
      "├─EfficientNet: 1                                  []                        --\n",
      "|    |    └─Sequential: 3-17                       [-1, 384, 10, 10]         3,284,218\n",
      "├─Sequential: 1                                    []                        --\n",
      "|    |    └─Sequential: 3-18                       [-1, 384, 10, 10]         (recursive)\n",
      "├─EfficientNet: 1                                  []                        --\n",
      "|    └─Conv2d: 2-7                                 [-1, 1536, 10, 10]        589,824\n",
      "├─Sequential: 1                                    []                        --\n",
      "|    └─Conv2d: 2-8                                 [-1, 1536, 10, 10]        (recursive)\n",
      "├─EfficientNet: 1                                  []                        --\n",
      "|    └─BatchNormAct2d: 2-9                         [-1, 1536, 10, 10]        --\n",
      "├─Sequential: 1                                    []                        --\n",
      "|    └─BatchNormAct2d: 2-10                        [-1, 1536, 10, 10]        (recursive)\n",
      "├─EfficientNet: 1                                  []                        --\n",
      "|    |    └─Identity: 3-19                         [-1, 1536, 10, 10]        --\n",
      "├─Sequential: 1                                    []                        --\n",
      "|    |    └─Identity: 3-20                         [-1, 1536, 10, 10]        --\n",
      "├─EfficientNet: 1                                  []                        --\n",
      "|    |    └─SiLU: 3-21                             [-1, 1536, 10, 10]        --\n",
      "├─Sequential: 1                                    []                        --\n",
      "|    |    └─SiLU: 3-22                             [-1, 1536, 10, 10]        --\n",
      "├─EfficientNet: 1                                  []                        --\n",
      "|    └─SelectAdaptivePool2d: 2-11                  [-1, 1536]                --\n",
      "├─Sequential: 1                                    []                        --\n",
      "|    └─SelectAdaptivePool2d: 2-12                  [-1, 1536]                --\n",
      "├─EfficientNet: 1                                  []                        --\n",
      "|    |    └─AdaptiveAvgPool2d: 3-23                [-1, 1536, 1, 1]          --\n",
      "├─Sequential: 1                                    []                        --\n",
      "|    |    └─AdaptiveAvgPool2d: 3-24                [-1, 1536, 1, 1]          --\n",
      "├─EfficientNet: 1                                  []                        --\n",
      "|    |    └─Flatten: 3-25                          [-1, 1536]                --\n",
      "├─Sequential: 1                                    []                        --\n",
      "|    |    └─Flatten: 3-26                          [-1, 1536]                --\n",
      "├─Linear: 1-2                                      [-1, 339]                 521,043\n",
      "====================================================================================================\n",
      "Total params: 11,214,123\n",
      "Trainable params: 11,214,123\n",
      "Non-trainable params: 0\n",
      "Total mult-adds (M): 237.96\n",
      "====================================================================================================\n",
      "Input size (MB): 1.03\n",
      "Forward/backward pass size (MB): 8.04\n",
      "Params size (MB): 42.78\n",
      "Estimated Total Size (MB): 51.85\n",
      "====================================================================================================\n"
     ]
    },
    {
     "data": {
      "text/plain": [
       "====================================================================================================\n",
       "Layer (type:depth-idx)                             Output Shape              Param #\n",
       "====================================================================================================\n",
       "├─Sequential: 1-1                                  [-1, 1536]                --\n",
       "├─EfficientNet: 1                                  []                        --\n",
       "|    └─Conv2d: 2-1                                 [-1, 40, 150, 150]        1,080\n",
       "├─Sequential: 1                                    []                        --\n",
       "|    └─Conv2d: 2-2                                 [-1, 40, 150, 150]        (recursive)\n",
       "├─EfficientNet: 1                                  []                        --\n",
       "|    └─BatchNormAct2d: 2-3                         [-1, 40, 150, 150]        --\n",
       "├─Sequential: 1                                    []                        --\n",
       "|    └─BatchNormAct2d: 2-4                         [-1, 40, 150, 150]        (recursive)\n",
       "├─EfficientNet: 1                                  []                        --\n",
       "|    |    └─Identity: 3-1                          [-1, 40, 150, 150]        --\n",
       "├─Sequential: 1                                    []                        --\n",
       "|    |    └─Identity: 3-2                          [-1, 40, 150, 150]        --\n",
       "├─EfficientNet: 1                                  []                        --\n",
       "|    |    └─SiLU: 3-3                              [-1, 40, 150, 150]        --\n",
       "├─Sequential: 1                                    []                        --\n",
       "|    |    └─SiLU: 3-4                              [-1, 40, 150, 150]        --\n",
       "├─EfficientNet: 1                                  []                        --\n",
       "|    └─Sequential: 2-5                             [-1, 384, 10, 10]         --\n",
       "├─Sequential: 1                                    []                        --\n",
       "|    └─Sequential: 2-6                             [-1, 384, 10, 10]         (recursive)\n",
       "├─EfficientNet: 1                                  []                        --\n",
       "|    |    └─Sequential: 3-5                        [-1, 24, 150, 150]        3,504\n",
       "├─Sequential: 1                                    []                        --\n",
       "|    |    └─Sequential: 3-6                        [-1, 24, 150, 150]        (recursive)\n",
       "├─EfficientNet: 1                                  []                        --\n",
       "|    |    └─Sequential: 3-7                        [-1, 32, 75, 75]          48,118\n",
       "├─Sequential: 1                                    []                        --\n",
       "|    |    └─Sequential: 3-8                        [-1, 32, 75, 75]          (recursive)\n",
       "├─EfficientNet: 1                                  []                        --\n",
       "|    |    └─Sequential: 3-9                        [-1, 48, 38, 38]          110,912\n",
       "├─Sequential: 1                                    []                        --\n",
       "|    |    └─Sequential: 3-10                       [-1, 48, 38, 38]          (recursive)\n",
       "├─EfficientNet: 1                                  []                        --\n",
       "|    |    └─Sequential: 3-11                       [-1, 96, 19, 19]          638,700\n",
       "├─Sequential: 1                                    []                        --\n",
       "|    |    └─Sequential: 3-12                       [-1, 96, 19, 19]          (recursive)\n",
       "├─EfficientNet: 1                                  []                        --\n",
       "|    |    └─Sequential: 3-13                       [-1, 136, 19, 19]         1,387,760\n",
       "├─Sequential: 1                                    []                        --\n",
       "|    |    └─Sequential: 3-14                       [-1, 136, 19, 19]         (recursive)\n",
       "├─EfficientNet: 1                                  []                        --\n",
       "|    |    └─Sequential: 3-15                       [-1, 232, 10, 10]         4,628,964\n",
       "├─Sequential: 1                                    []                        --\n",
       "|    |    └─Sequential: 3-16                       [-1, 232, 10, 10]         (recursive)\n",
       "├─EfficientNet: 1                                  []                        --\n",
       "|    |    └─Sequential: 3-17                       [-1, 384, 10, 10]         3,284,218\n",
       "├─Sequential: 1                                    []                        --\n",
       "|    |    └─Sequential: 3-18                       [-1, 384, 10, 10]         (recursive)\n",
       "├─EfficientNet: 1                                  []                        --\n",
       "|    └─Conv2d: 2-7                                 [-1, 1536, 10, 10]        589,824\n",
       "├─Sequential: 1                                    []                        --\n",
       "|    └─Conv2d: 2-8                                 [-1, 1536, 10, 10]        (recursive)\n",
       "├─EfficientNet: 1                                  []                        --\n",
       "|    └─BatchNormAct2d: 2-9                         [-1, 1536, 10, 10]        --\n",
       "├─Sequential: 1                                    []                        --\n",
       "|    └─BatchNormAct2d: 2-10                        [-1, 1536, 10, 10]        (recursive)\n",
       "├─EfficientNet: 1                                  []                        --\n",
       "|    |    └─Identity: 3-19                         [-1, 1536, 10, 10]        --\n",
       "├─Sequential: 1                                    []                        --\n",
       "|    |    └─Identity: 3-20                         [-1, 1536, 10, 10]        --\n",
       "├─EfficientNet: 1                                  []                        --\n",
       "|    |    └─SiLU: 3-21                             [-1, 1536, 10, 10]        --\n",
       "├─Sequential: 1                                    []                        --\n",
       "|    |    └─SiLU: 3-22                             [-1, 1536, 10, 10]        --\n",
       "├─EfficientNet: 1                                  []                        --\n",
       "|    └─SelectAdaptivePool2d: 2-11                  [-1, 1536]                --\n",
       "├─Sequential: 1                                    []                        --\n",
       "|    └─SelectAdaptivePool2d: 2-12                  [-1, 1536]                --\n",
       "├─EfficientNet: 1                                  []                        --\n",
       "|    |    └─AdaptiveAvgPool2d: 3-23                [-1, 1536, 1, 1]          --\n",
       "├─Sequential: 1                                    []                        --\n",
       "|    |    └─AdaptiveAvgPool2d: 3-24                [-1, 1536, 1, 1]          --\n",
       "├─EfficientNet: 1                                  []                        --\n",
       "|    |    └─Flatten: 3-25                          [-1, 1536]                --\n",
       "├─Sequential: 1                                    []                        --\n",
       "|    |    └─Flatten: 3-26                          [-1, 1536]                --\n",
       "├─Linear: 1-2                                      [-1, 339]                 521,043\n",
       "====================================================================================================\n",
       "Total params: 11,214,123\n",
       "Trainable params: 11,214,123\n",
       "Non-trainable params: 0\n",
       "Total mult-adds (M): 237.96\n",
       "====================================================================================================\n",
       "Input size (MB): 1.03\n",
       "Forward/backward pass size (MB): 8.04\n",
       "Params size (MB): 42.78\n",
       "Estimated Total Size (MB): 51.85\n",
       "===================================================================================================="
      ]
     },
     "execution_count": 29,
     "metadata": {},
     "output_type": "execute_result"
    }
   ],
   "execution_count": 29
  },
  {
   "metadata": {
    "ExecuteTime": {
     "end_time": "2024-07-03T10:07:37.032906Z",
     "start_time": "2024-07-03T10:07:37.030145Z"
    }
   },
   "cell_type": "code",
   "source": [
    "transform_to_192 = transforms.Compose([\n",
    "    transforms.Resize((300, 300)),\n",
    "    transforms.ToTensor()\n",
    "])"
   ],
   "id": "3cad9ca696cdf086",
   "outputs": [],
   "execution_count": 16
  },
  {
   "metadata": {
    "ExecuteTime": {
     "end_time": "2024-07-03T14:07:26.291618Z",
     "start_time": "2024-07-03T14:07:26.288539Z"
    }
   },
   "cell_type": "code",
   "source": "train_dataloader_b1, val_dataloader_b1 = train_utils.get_dataloaders(train_df,val_df, BASE_PATH, transform_to_192, batch_size=16)\n",
   "id": "3aaf777aefad5e4c",
   "outputs": [],
   "execution_count": 33
  },
  {
   "metadata": {
    "ExecuteTime": {
     "end_time": "2024-07-02T18:38:08.175780Z",
     "start_time": "2024-07-02T18:06:12.381413Z"
    }
   },
   "cell_type": "code",
   "source": [
    "results_b1 = train_utils.train(efficientnet_b1, train_dataloader_b1, val_dataloader_b1, optimizer_b1, criterion, epochs=20,\n",
    "                            train_class_labels=unique_classes_train, checkpoint_path='models/bg_efficientnet_b1', device=device)"
   ],
   "id": "b0f9c67323ad8243",
   "outputs": [
    {
     "data": {
      "text/plain": [
       "Training loop:   0%|          | 0/265 [00:00<?, ?it/s]"
      ],
      "application/vnd.jupyter.widget-view+json": {
       "version_major": 2,
       "version_minor": 0,
       "model_id": "5e703b9f6cf8454fa41f89d7bab85180"
      }
     },
     "metadata": {},
     "output_type": "display_data"
    },
    {
     "data": {
      "text/plain": [
       "Validation loop:   0%|          | 0/30 [00:00<?, ?it/s]"
      ],
      "application/vnd.jupyter.widget-view+json": {
       "version_major": 2,
       "version_minor": 0,
       "model_id": "3e70db331f684d078aefcc913aabcfa3"
      }
     },
     "metadata": {},
     "output_type": "display_data"
    },
    {
     "name": "stdout",
     "output_type": "stream",
     "text": [
      "Epoch: 1 | train_loss: 2.5146 | train_GAP: 0.4560 | val_loss: 1.3337 | val_GAP: 0.6604 \n",
      "Checkpoint saved at epoch 1 with validation GAP 0.6603928456110881\n"
     ]
    },
    {
     "data": {
      "text/plain": [
       "Training loop:   0%|          | 0/265 [00:00<?, ?it/s]"
      ],
      "application/vnd.jupyter.widget-view+json": {
       "version_major": 2,
       "version_minor": 0,
       "model_id": "898ba1a6af7b4907a6f00663d7aae23a"
      }
     },
     "metadata": {},
     "output_type": "display_data"
    },
    {
     "data": {
      "text/plain": [
       "Validation loop:   0%|          | 0/30 [00:00<?, ?it/s]"
      ],
      "application/vnd.jupyter.widget-view+json": {
       "version_major": 2,
       "version_minor": 0,
       "model_id": "bafccf246412411c87afa06a8629b754"
      }
     },
     "metadata": {},
     "output_type": "display_data"
    },
    {
     "name": "stdout",
     "output_type": "stream",
     "text": [
      "Epoch: 2 | train_loss: 0.6556 | train_GAP: 0.8234 | val_loss: 0.9109 | val_GAP: 0.7734 \n",
      "Checkpoint saved at epoch 2 with validation GAP 0.7734172811429072\n"
     ]
    },
    {
     "data": {
      "text/plain": [
       "Training loop:   0%|          | 0/265 [00:00<?, ?it/s]"
      ],
      "application/vnd.jupyter.widget-view+json": {
       "version_major": 2,
       "version_minor": 0,
       "model_id": "17b9961767464673bd9ba4c9fc694a7c"
      }
     },
     "metadata": {},
     "output_type": "display_data"
    },
    {
     "data": {
      "text/plain": [
       "Validation loop:   0%|          | 0/30 [00:00<?, ?it/s]"
      ],
      "application/vnd.jupyter.widget-view+json": {
       "version_major": 2,
       "version_minor": 0,
       "model_id": "147f6782dae841969c34f9bbd603d023"
      }
     },
     "metadata": {},
     "output_type": "display_data"
    },
    {
     "name": "stdout",
     "output_type": "stream",
     "text": [
      "Epoch: 3 | train_loss: 0.2110 | train_GAP: 0.9402 | val_loss: 0.7888 | val_GAP: 0.8065 \n",
      "Checkpoint saved at epoch 3 with validation GAP 0.8065322182844074\n"
     ]
    },
    {
     "data": {
      "text/plain": [
       "Training loop:   0%|          | 0/265 [00:00<?, ?it/s]"
      ],
      "application/vnd.jupyter.widget-view+json": {
       "version_major": 2,
       "version_minor": 0,
       "model_id": "e3fb264df4374f8097c6636dfe510ba7"
      }
     },
     "metadata": {},
     "output_type": "display_data"
    },
    {
     "data": {
      "text/plain": [
       "Validation loop:   0%|          | 0/30 [00:00<?, ?it/s]"
      ],
      "application/vnd.jupyter.widget-view+json": {
       "version_major": 2,
       "version_minor": 0,
       "model_id": "b055d85f6d854410bcbd1077210bf280"
      }
     },
     "metadata": {},
     "output_type": "display_data"
    },
    {
     "name": "stdout",
     "output_type": "stream",
     "text": [
      "Epoch: 4 | train_loss: 0.1332 | train_GAP: 0.9629 | val_loss: 0.8270 | val_GAP: 0.7903 \n"
     ]
    },
    {
     "data": {
      "text/plain": [
       "Training loop:   0%|          | 0/265 [00:00<?, ?it/s]"
      ],
      "application/vnd.jupyter.widget-view+json": {
       "version_major": 2,
       "version_minor": 0,
       "model_id": "16a43cca39ef4136a7f6ff12e2d46c84"
      }
     },
     "metadata": {},
     "output_type": "display_data"
    },
    {
     "data": {
      "text/plain": [
       "Validation loop:   0%|          | 0/30 [00:00<?, ?it/s]"
      ],
      "application/vnd.jupyter.widget-view+json": {
       "version_major": 2,
       "version_minor": 0,
       "model_id": "879e04dfd5624130976fae8851563b0f"
      }
     },
     "metadata": {},
     "output_type": "display_data"
    },
    {
     "name": "stdout",
     "output_type": "stream",
     "text": [
      "Epoch: 5 | train_loss: 0.1293 | train_GAP: 0.9627 | val_loss: 0.9102 | val_GAP: 0.7811 \n"
     ]
    },
    {
     "data": {
      "text/plain": [
       "Training loop:   0%|          | 0/265 [00:00<?, ?it/s]"
      ],
      "application/vnd.jupyter.widget-view+json": {
       "version_major": 2,
       "version_minor": 0,
       "model_id": "271c70831ddb467ab50021972f432e35"
      }
     },
     "metadata": {},
     "output_type": "display_data"
    },
    {
     "data": {
      "text/plain": [
       "Validation loop:   0%|          | 0/30 [00:00<?, ?it/s]"
      ],
      "application/vnd.jupyter.widget-view+json": {
       "version_major": 2,
       "version_minor": 0,
       "model_id": "1f663c1864194c87a99b32618c489803"
      }
     },
     "metadata": {},
     "output_type": "display_data"
    },
    {
     "name": "stdout",
     "output_type": "stream",
     "text": [
      "Epoch: 6 | train_loss: 0.1663 | train_GAP: 0.9500 | val_loss: 0.9901 | val_GAP: 0.7563 \n"
     ]
    },
    {
     "data": {
      "text/plain": [
       "Training loop:   0%|          | 0/265 [00:00<?, ?it/s]"
      ],
      "application/vnd.jupyter.widget-view+json": {
       "version_major": 2,
       "version_minor": 0,
       "model_id": "fd27fa1b3ec44ee787a1e4b3f9016a46"
      }
     },
     "metadata": {},
     "output_type": "display_data"
    },
    {
     "data": {
      "text/plain": [
       "Validation loop:   0%|          | 0/30 [00:00<?, ?it/s]"
      ],
      "application/vnd.jupyter.widget-view+json": {
       "version_major": 2,
       "version_minor": 0,
       "model_id": "a8b95fec2c6542009ec341d3d8179299"
      }
     },
     "metadata": {},
     "output_type": "display_data"
    },
    {
     "name": "stdout",
     "output_type": "stream",
     "text": [
      "Epoch: 7 | train_loss: 0.1659 | train_GAP: 0.9511 | val_loss: 1.1492 | val_GAP: 0.7223 \n"
     ]
    },
    {
     "data": {
      "text/plain": [
       "Training loop:   0%|          | 0/265 [00:00<?, ?it/s]"
      ],
      "application/vnd.jupyter.widget-view+json": {
       "version_major": 2,
       "version_minor": 0,
       "model_id": "c7f9a7b6b8124f65a1c17493a56c657e"
      }
     },
     "metadata": {},
     "output_type": "display_data"
    },
    {
     "data": {
      "text/plain": [
       "Validation loop:   0%|          | 0/30 [00:00<?, ?it/s]"
      ],
      "application/vnd.jupyter.widget-view+json": {
       "version_major": 2,
       "version_minor": 0,
       "model_id": "539789c7d8e34c398a70ed1f8c4ca4ae"
      }
     },
     "metadata": {},
     "output_type": "display_data"
    },
    {
     "name": "stdout",
     "output_type": "stream",
     "text": [
      "Epoch: 8 | train_loss: 0.1377 | train_GAP: 0.9569 | val_loss: 0.9008 | val_GAP: 0.7799 \n"
     ]
    },
    {
     "data": {
      "text/plain": [
       "Training loop:   0%|          | 0/265 [00:00<?, ?it/s]"
      ],
      "application/vnd.jupyter.widget-view+json": {
       "version_major": 2,
       "version_minor": 0,
       "model_id": "7a0c9040b893475a998f629468343498"
      }
     },
     "metadata": {},
     "output_type": "display_data"
    },
    {
     "data": {
      "text/plain": [
       "Validation loop:   0%|          | 0/30 [00:00<?, ?it/s]"
      ],
      "application/vnd.jupyter.widget-view+json": {
       "version_major": 2,
       "version_minor": 0,
       "model_id": "7d3acbf61b3c487b836f4ae0431466b8"
      }
     },
     "metadata": {},
     "output_type": "display_data"
    },
    {
     "name": "stdout",
     "output_type": "stream",
     "text": [
      "Epoch: 9 | train_loss: 0.0758 | train_GAP: 0.9783 | val_loss: 0.8710 | val_GAP: 0.8017 \n"
     ]
    },
    {
     "data": {
      "text/plain": [
       "Training loop:   0%|          | 0/265 [00:00<?, ?it/s]"
      ],
      "application/vnd.jupyter.widget-view+json": {
       "version_major": 2,
       "version_minor": 0,
       "model_id": "f00a9ca94d704ee8924bba90bf2bfc10"
      }
     },
     "metadata": {},
     "output_type": "display_data"
    },
    {
     "data": {
      "text/plain": [
       "Validation loop:   0%|          | 0/30 [00:00<?, ?it/s]"
      ],
      "application/vnd.jupyter.widget-view+json": {
       "version_major": 2,
       "version_minor": 0,
       "model_id": "d46750fc83a8492a9f1f4f7d4a21f6de"
      }
     },
     "metadata": {},
     "output_type": "display_data"
    },
    {
     "name": "stdout",
     "output_type": "stream",
     "text": [
      "Epoch: 10 | train_loss: 0.0626 | train_GAP: 0.9834 | val_loss: 0.9862 | val_GAP: 0.7807 \n"
     ]
    },
    {
     "data": {
      "text/plain": [
       "Training loop:   0%|          | 0/265 [00:00<?, ?it/s]"
      ],
      "application/vnd.jupyter.widget-view+json": {
       "version_major": 2,
       "version_minor": 0,
       "model_id": "b94c7389b99d4546bc40d48e9ed68fdb"
      }
     },
     "metadata": {},
     "output_type": "display_data"
    },
    {
     "data": {
      "text/plain": [
       "Validation loop:   0%|          | 0/30 [00:00<?, ?it/s]"
      ],
      "application/vnd.jupyter.widget-view+json": {
       "version_major": 2,
       "version_minor": 0,
       "model_id": "5321866615dc43639ddb62b565db0649"
      }
     },
     "metadata": {},
     "output_type": "display_data"
    },
    {
     "name": "stdout",
     "output_type": "stream",
     "text": [
      "Epoch: 11 | train_loss: 0.0901 | train_GAP: 0.9750 | val_loss: 1.0498 | val_GAP: 0.7837 \n"
     ]
    },
    {
     "data": {
      "text/plain": [
       "Training loop:   0%|          | 0/265 [00:00<?, ?it/s]"
      ],
      "application/vnd.jupyter.widget-view+json": {
       "version_major": 2,
       "version_minor": 0,
       "model_id": "4d5b7270267f4af8871f427d309475c3"
      }
     },
     "metadata": {},
     "output_type": "display_data"
    },
    {
     "data": {
      "text/plain": [
       "Validation loop:   0%|          | 0/30 [00:00<?, ?it/s]"
      ],
      "application/vnd.jupyter.widget-view+json": {
       "version_major": 2,
       "version_minor": 0,
       "model_id": "f3756c3af6cc4aa0ab4f0db9cdc621b4"
      }
     },
     "metadata": {},
     "output_type": "display_data"
    },
    {
     "name": "stdout",
     "output_type": "stream",
     "text": [
      "Epoch: 12 | train_loss: 0.1028 | train_GAP: 0.9686 | val_loss: 0.9700 | val_GAP: 0.7926 \n"
     ]
    },
    {
     "data": {
      "text/plain": [
       "Training loop:   0%|          | 0/265 [00:00<?, ?it/s]"
      ],
      "application/vnd.jupyter.widget-view+json": {
       "version_major": 2,
       "version_minor": 0,
       "model_id": "dafd5d15c622460f8cb0f3901afa8f06"
      }
     },
     "metadata": {},
     "output_type": "display_data"
    },
    {
     "data": {
      "text/plain": [
       "Validation loop:   0%|          | 0/30 [00:00<?, ?it/s]"
      ],
      "application/vnd.jupyter.widget-view+json": {
       "version_major": 2,
       "version_minor": 0,
       "model_id": "be76c6aa1dec4714b7d578159f4eaccf"
      }
     },
     "metadata": {},
     "output_type": "display_data"
    },
    {
     "name": "stdout",
     "output_type": "stream",
     "text": [
      "Epoch: 13 | train_loss: 0.1085 | train_GAP: 0.9657 | val_loss: 0.9977 | val_GAP: 0.7755 \n"
     ]
    },
    {
     "data": {
      "text/plain": [
       "Training loop:   0%|          | 0/265 [00:00<?, ?it/s]"
      ],
      "application/vnd.jupyter.widget-view+json": {
       "version_major": 2,
       "version_minor": 0,
       "model_id": "ffa28adeb89e479e9e77221da4261c73"
      }
     },
     "metadata": {},
     "output_type": "display_data"
    },
    {
     "data": {
      "text/plain": [
       "Validation loop:   0%|          | 0/30 [00:00<?, ?it/s]"
      ],
      "application/vnd.jupyter.widget-view+json": {
       "version_major": 2,
       "version_minor": 0,
       "model_id": "cfc789eddc0849c198e0ff70e612b29d"
      }
     },
     "metadata": {},
     "output_type": "display_data"
    },
    {
     "name": "stdout",
     "output_type": "stream",
     "text": [
      "Epoch: 14 | train_loss: 0.0919 | train_GAP: 0.9741 | val_loss: 0.9764 | val_GAP: 0.7853 \n"
     ]
    },
    {
     "data": {
      "text/plain": [
       "Training loop:   0%|          | 0/265 [00:00<?, ?it/s]"
      ],
      "application/vnd.jupyter.widget-view+json": {
       "version_major": 2,
       "version_minor": 0,
       "model_id": "47521b3050834a9984c556d8c3df4823"
      }
     },
     "metadata": {},
     "output_type": "display_data"
    },
    {
     "data": {
      "text/plain": [
       "Validation loop:   0%|          | 0/30 [00:00<?, ?it/s]"
      ],
      "application/vnd.jupyter.widget-view+json": {
       "version_major": 2,
       "version_minor": 0,
       "model_id": "f21cdfb56dc84e3183bd4a4d8e6f7e33"
      }
     },
     "metadata": {},
     "output_type": "display_data"
    },
    {
     "name": "stdout",
     "output_type": "stream",
     "text": [
      "Epoch: 15 | train_loss: 0.0708 | train_GAP: 0.9782 | val_loss: 0.9723 | val_GAP: 0.7814 \n"
     ]
    },
    {
     "data": {
      "text/plain": [
       "Training loop:   0%|          | 0/265 [00:00<?, ?it/s]"
      ],
      "application/vnd.jupyter.widget-view+json": {
       "version_major": 2,
       "version_minor": 0,
       "model_id": "d86f51d6329f44bc853902e5bef9555f"
      }
     },
     "metadata": {},
     "output_type": "display_data"
    },
    {
     "data": {
      "text/plain": [
       "Validation loop:   0%|          | 0/30 [00:00<?, ?it/s]"
      ],
      "application/vnd.jupyter.widget-view+json": {
       "version_major": 2,
       "version_minor": 0,
       "model_id": "bfde85ac83a54602971c7e912e5416d3"
      }
     },
     "metadata": {},
     "output_type": "display_data"
    },
    {
     "name": "stdout",
     "output_type": "stream",
     "text": [
      "Epoch: 16 | train_loss: 0.0751 | train_GAP: 0.9789 | val_loss: 0.9091 | val_GAP: 0.7976 \n"
     ]
    },
    {
     "data": {
      "text/plain": [
       "Training loop:   0%|          | 0/265 [00:00<?, ?it/s]"
      ],
      "application/vnd.jupyter.widget-view+json": {
       "version_major": 2,
       "version_minor": 0,
       "model_id": "a9ee7d3ef7b643e0821acfb2c2c77097"
      }
     },
     "metadata": {},
     "output_type": "display_data"
    },
    {
     "data": {
      "text/plain": [
       "Validation loop:   0%|          | 0/30 [00:00<?, ?it/s]"
      ],
      "application/vnd.jupyter.widget-view+json": {
       "version_major": 2,
       "version_minor": 0,
       "model_id": "6f87ad60aa544d4c9f7102534530e3a5"
      }
     },
     "metadata": {},
     "output_type": "display_data"
    },
    {
     "name": "stdout",
     "output_type": "stream",
     "text": [
      "Epoch: 17 | train_loss: 0.0682 | train_GAP: 0.9799 | val_loss: 0.9412 | val_GAP: 0.7971 \n"
     ]
    },
    {
     "data": {
      "text/plain": [
       "Training loop:   0%|          | 0/265 [00:00<?, ?it/s]"
      ],
      "application/vnd.jupyter.widget-view+json": {
       "version_major": 2,
       "version_minor": 0,
       "model_id": "cd2288e83f124feda13cec9f88bc44f0"
      }
     },
     "metadata": {},
     "output_type": "display_data"
    },
    {
     "data": {
      "text/plain": [
       "Validation loop:   0%|          | 0/30 [00:00<?, ?it/s]"
      ],
      "application/vnd.jupyter.widget-view+json": {
       "version_major": 2,
       "version_minor": 0,
       "model_id": "4ced7357f5d240ebb2c0072089941dee"
      }
     },
     "metadata": {},
     "output_type": "display_data"
    },
    {
     "name": "stdout",
     "output_type": "stream",
     "text": [
      "Epoch: 18 | train_loss: 0.0598 | train_GAP: 0.9828 | val_loss: 0.8706 | val_GAP: 0.8057 \n"
     ]
    },
    {
     "data": {
      "text/plain": [
       "Training loop:   0%|          | 0/265 [00:00<?, ?it/s]"
      ],
      "application/vnd.jupyter.widget-view+json": {
       "version_major": 2,
       "version_minor": 0,
       "model_id": "2bf299c7de5d407ab31354b73921017b"
      }
     },
     "metadata": {},
     "output_type": "display_data"
    },
    {
     "data": {
      "text/plain": [
       "Validation loop:   0%|          | 0/30 [00:00<?, ?it/s]"
      ],
      "application/vnd.jupyter.widget-view+json": {
       "version_major": 2,
       "version_minor": 0,
       "model_id": "c7ca0064c94a43309eb001ab94844108"
      }
     },
     "metadata": {},
     "output_type": "display_data"
    },
    {
     "name": "stdout",
     "output_type": "stream",
     "text": [
      "Epoch: 19 | train_loss: 0.0541 | train_GAP: 0.9846 | val_loss: 0.8932 | val_GAP: 0.8111 \n",
      "Checkpoint saved at epoch 19 with validation GAP 0.8111425923550928\n"
     ]
    },
    {
     "data": {
      "text/plain": [
       "Training loop:   0%|          | 0/265 [00:00<?, ?it/s]"
      ],
      "application/vnd.jupyter.widget-view+json": {
       "version_major": 2,
       "version_minor": 0,
       "model_id": "fcdc477d99734ed89a720f92341eb029"
      }
     },
     "metadata": {},
     "output_type": "display_data"
    },
    {
     "data": {
      "text/plain": [
       "Validation loop:   0%|          | 0/30 [00:00<?, ?it/s]"
      ],
      "application/vnd.jupyter.widget-view+json": {
       "version_major": 2,
       "version_minor": 0,
       "model_id": "6a3b1a3b08bc4489a377f6a8a00e1c97"
      }
     },
     "metadata": {},
     "output_type": "display_data"
    },
    {
     "name": "stdout",
     "output_type": "stream",
     "text": [
      "Epoch: 20 | train_loss: 0.0676 | train_GAP: 0.9805 | val_loss: 1.0018 | val_GAP: 0.7790 \n"
     ]
    }
   ],
   "execution_count": 20
  },
  {
   "metadata": {
    "ExecuteTime": {
     "end_time": "2024-07-02T18:45:17.587301Z",
     "start_time": "2024-07-02T18:45:17.310937Z"
    }
   },
   "cell_type": "code",
   "source": [
    "#Plot for b1 model 192x192\n",
    "train_utils.plot_loss_curves(results_b1)"
   ],
   "id": "dd9a5d498138aedb",
   "outputs": [
    {
     "data": {
      "text/plain": [
       "<Figure size 1500x700 with 2 Axes>"
      ],
      "image/png": "[encoded data removed]"
     },
     "metadata": {},
     "output_type": "display_data"
    }
   ],
   "execution_count": 21
  },
  {
   "metadata": {
    "ExecuteTime": {
     "end_time": "2024-07-02T19:23:55.270344Z",
     "start_time": "2024-07-02T18:49:03.296403Z"
    }
   },
   "cell_type": "code",
   "source": [
    "results_b1 = train_utils.train(efficientnet_b1, train_dataloader_b1, val_dataloader_b1, optimizer_b1, criterion, epochs=20,\n",
    "                            train_class_labels=unique_classes_train, checkpoint_path='models/bg_efficientnet_b2', device=device)"
   ],
   "id": "af2ad24664a82bd9",
   "outputs": [
    {
     "data": {
      "text/plain": [
       "Training loop:   0%|          | 0/265 [00:00<?, ?it/s]"
      ],
      "application/vnd.jupyter.widget-view+json": {
       "version_major": 2,
       "version_minor": 0,
       "model_id": "2745809650d84a00a2b8dd96cb594b75"
      }
     },
     "metadata": {},
     "output_type": "display_data"
    },
    {
     "data": {
      "text/plain": [
       "Validation loop:   0%|          | 0/30 [00:00<?, ?it/s]"
      ],
      "application/vnd.jupyter.widget-view+json": {
       "version_major": 2,
       "version_minor": 0,
       "model_id": "ca38918c44d6498fa7a93f6700be6450"
      }
     },
     "metadata": {},
     "output_type": "display_data"
    },
    {
     "name": "stdout",
     "output_type": "stream",
     "text": [
      "Epoch: 1 | train_loss: 2.7118 | train_GAP: 0.3976 | val_loss: 1.5839 | val_GAP: 0.5985 \n",
      "Checkpoint saved at epoch 1 with validation GAP 0.5985369854832622\n"
     ]
    },
    {
     "data": {
      "text/plain": [
       "Training loop:   0%|          | 0/265 [00:00<?, ?it/s]"
      ],
      "application/vnd.jupyter.widget-view+json": {
       "version_major": 2,
       "version_minor": 0,
       "model_id": "e4e4f91cfed04b54a075a05f49f7cf9a"
      }
     },
     "metadata": {},
     "output_type": "display_data"
    },
    {
     "data": {
      "text/plain": [
       "Validation loop:   0%|          | 0/30 [00:00<?, ?it/s]"
      ],
      "application/vnd.jupyter.widget-view+json": {
       "version_major": 2,
       "version_minor": 0,
       "model_id": "ced18243b96748ca870ebba7b78fe31b"
      }
     },
     "metadata": {},
     "output_type": "display_data"
    },
    {
     "name": "stdout",
     "output_type": "stream",
     "text": [
      "Epoch: 2 | train_loss: 0.8305 | train_GAP: 0.7669 | val_loss: 1.0927 | val_GAP: 0.6991 \n",
      "Checkpoint saved at epoch 2 with validation GAP 0.6990537958626211\n"
     ]
    },
    {
     "data": {
      "text/plain": [
       "Training loop:   0%|          | 0/265 [00:00<?, ?it/s]"
      ],
      "application/vnd.jupyter.widget-view+json": {
       "version_major": 2,
       "version_minor": 0,
       "model_id": "7137f2fa0ab94346bbc29419ac0477b7"
      }
     },
     "metadata": {},
     "output_type": "display_data"
    },
    {
     "data": {
      "text/plain": [
       "Validation loop:   0%|          | 0/30 [00:00<?, ?it/s]"
      ],
      "application/vnd.jupyter.widget-view+json": {
       "version_major": 2,
       "version_minor": 0,
       "model_id": "e4cf267555ad46d88c7f55b2e4ba4f3b"
      }
     },
     "metadata": {},
     "output_type": "display_data"
    },
    {
     "name": "stdout",
     "output_type": "stream",
     "text": [
      "Epoch: 3 | train_loss: 0.3526 | train_GAP: 0.8900 | val_loss: 0.9430 | val_GAP: 0.7543 \n",
      "Checkpoint saved at epoch 3 with validation GAP 0.7543190037067902\n"
     ]
    },
    {
     "data": {
      "text/plain": [
       "Training loop:   0%|          | 0/265 [00:00<?, ?it/s]"
      ],
      "application/vnd.jupyter.widget-view+json": {
       "version_major": 2,
       "version_minor": 0,
       "model_id": "475145c12cf34b9384556cf279538835"
      }
     },
     "metadata": {},
     "output_type": "display_data"
    },
    {
     "data": {
      "text/plain": [
       "Validation loop:   0%|          | 0/30 [00:00<?, ?it/s]"
      ],
      "application/vnd.jupyter.widget-view+json": {
       "version_major": 2,
       "version_minor": 0,
       "model_id": "128848c399dc4e118f48bd3671fed85a"
      }
     },
     "metadata": {},
     "output_type": "display_data"
    },
    {
     "name": "stdout",
     "output_type": "stream",
     "text": [
      "Epoch: 4 | train_loss: 0.2196 | train_GAP: 0.9354 | val_loss: 0.8928 | val_GAP: 0.7771 \n",
      "Checkpoint saved at epoch 4 with validation GAP 0.7771223256597249\n"
     ]
    },
    {
     "data": {
      "text/plain": [
       "Training loop:   0%|          | 0/265 [00:00<?, ?it/s]"
      ],
      "application/vnd.jupyter.widget-view+json": {
       "version_major": 2,
       "version_minor": 0,
       "model_id": "5db3a7d4216d4c6db656a0ee51b10e16"
      }
     },
     "metadata": {},
     "output_type": "display_data"
    },
    {
     "data": {
      "text/plain": [
       "Validation loop:   0%|          | 0/30 [00:00<?, ?it/s]"
      ],
      "application/vnd.jupyter.widget-view+json": {
       "version_major": 2,
       "version_minor": 0,
       "model_id": "b5a3d04168d74540b6dadb3120de0071"
      }
     },
     "metadata": {},
     "output_type": "display_data"
    },
    {
     "name": "stdout",
     "output_type": "stream",
     "text": [
      "Epoch: 5 | train_loss: 0.1789 | train_GAP: 0.9448 | val_loss: 1.0401 | val_GAP: 0.7356 \n"
     ]
    },
    {
     "data": {
      "text/plain": [
       "Training loop:   0%|          | 0/265 [00:00<?, ?it/s]"
      ],
      "application/vnd.jupyter.widget-view+json": {
       "version_major": 2,
       "version_minor": 0,
       "model_id": "84715a2555354aed878271ab4308c8ca"
      }
     },
     "metadata": {},
     "output_type": "display_data"
    },
    {
     "data": {
      "text/plain": [
       "Validation loop:   0%|          | 0/30 [00:00<?, ?it/s]"
      ],
      "application/vnd.jupyter.widget-view+json": {
       "version_major": 2,
       "version_minor": 0,
       "model_id": "c74149114fe348a483b88456a59c6722"
      }
     },
     "metadata": {},
     "output_type": "display_data"
    },
    {
     "name": "stdout",
     "output_type": "stream",
     "text": [
      "Epoch: 6 | train_loss: 0.1716 | train_GAP: 0.9471 | val_loss: 0.8970 | val_GAP: 0.7829 \n",
      "Checkpoint saved at epoch 6 with validation GAP 0.7828832440152252\n"
     ]
    },
    {
     "data": {
      "text/plain": [
       "Training loop:   0%|          | 0/265 [00:00<?, ?it/s]"
      ],
      "application/vnd.jupyter.widget-view+json": {
       "version_major": 2,
       "version_minor": 0,
       "model_id": "0511c46ea25f4de0a0c72ecb807094c4"
      }
     },
     "metadata": {},
     "output_type": "display_data"
    },
    {
     "data": {
      "text/plain": [
       "Validation loop:   0%|          | 0/30 [00:00<?, ?it/s]"
      ],
      "application/vnd.jupyter.widget-view+json": {
       "version_major": 2,
       "version_minor": 0,
       "model_id": "8a7cea75492f4465b9d57f148e0ba7e0"
      }
     },
     "metadata": {},
     "output_type": "display_data"
    },
    {
     "name": "stdout",
     "output_type": "stream",
     "text": [
      "Epoch: 7 | train_loss: 0.1218 | train_GAP: 0.9641 | val_loss: 0.9771 | val_GAP: 0.7586 \n"
     ]
    },
    {
     "data": {
      "text/plain": [
       "Training loop:   0%|          | 0/265 [00:00<?, ?it/s]"
      ],
      "application/vnd.jupyter.widget-view+json": {
       "version_major": 2,
       "version_minor": 0,
       "model_id": "407d45a3c4504dc29f7dcffb6909a701"
      }
     },
     "metadata": {},
     "output_type": "display_data"
    },
    {
     "data": {
      "text/plain": [
       "Validation loop:   0%|          | 0/30 [00:00<?, ?it/s]"
      ],
      "application/vnd.jupyter.widget-view+json": {
       "version_major": 2,
       "version_minor": 0,
       "model_id": "6a67bbc844564225a8f6688ad22dcc47"
      }
     },
     "metadata": {},
     "output_type": "display_data"
    },
    {
     "name": "stdout",
     "output_type": "stream",
     "text": [
      "Epoch: 8 | train_loss: 0.1897 | train_GAP: 0.9402 | val_loss: 1.1276 | val_GAP: 0.7177 \n"
     ]
    },
    {
     "data": {
      "text/plain": [
       "Training loop:   0%|          | 0/265 [00:00<?, ?it/s]"
      ],
      "application/vnd.jupyter.widget-view+json": {
       "version_major": 2,
       "version_minor": 0,
       "model_id": "d2891576ecb84fcd94fcf2e4e7e1918f"
      }
     },
     "metadata": {},
     "output_type": "display_data"
    },
    {
     "data": {
      "text/plain": [
       "Validation loop:   0%|          | 0/30 [00:00<?, ?it/s]"
      ],
      "application/vnd.jupyter.widget-view+json": {
       "version_major": 2,
       "version_minor": 0,
       "model_id": "d227fd8473f742c89ee4341f1e5b1b1d"
      }
     },
     "metadata": {},
     "output_type": "display_data"
    },
    {
     "name": "stdout",
     "output_type": "stream",
     "text": [
      "Epoch: 9 | train_loss: 0.1637 | train_GAP: 0.9512 | val_loss: 0.9433 | val_GAP: 0.7643 \n"
     ]
    },
    {
     "data": {
      "text/plain": [
       "Training loop:   0%|          | 0/265 [00:00<?, ?it/s]"
      ],
      "application/vnd.jupyter.widget-view+json": {
       "version_major": 2,
       "version_minor": 0,
       "model_id": "6fba6e59ef25431b85cdfc62098471c0"
      }
     },
     "metadata": {},
     "output_type": "display_data"
    },
    {
     "data": {
      "text/plain": [
       "Validation loop:   0%|          | 0/30 [00:00<?, ?it/s]"
      ],
      "application/vnd.jupyter.widget-view+json": {
       "version_major": 2,
       "version_minor": 0,
       "model_id": "220a610eebd349049fc0878ff2cd5452"
      }
     },
     "metadata": {},
     "output_type": "display_data"
    },
    {
     "name": "stdout",
     "output_type": "stream",
     "text": [
      "Epoch: 10 | train_loss: 0.0806 | train_GAP: 0.9764 | val_loss: 0.8614 | val_GAP: 0.7957 \n",
      "Checkpoint saved at epoch 10 with validation GAP 0.7957101247242893\n"
     ]
    },
    {
     "data": {
      "text/plain": [
       "Training loop:   0%|          | 0/265 [00:00<?, ?it/s]"
      ],
      "application/vnd.jupyter.widget-view+json": {
       "version_major": 2,
       "version_minor": 0,
       "model_id": "dd20102218c5452e8bdfe01432f7af54"
      }
     },
     "metadata": {},
     "output_type": "display_data"
    },
    {
     "data": {
      "text/plain": [
       "Validation loop:   0%|          | 0/30 [00:00<?, ?it/s]"
      ],
      "application/vnd.jupyter.widget-view+json": {
       "version_major": 2,
       "version_minor": 0,
       "model_id": "26b1344d928f4044b0be7127b7182df6"
      }
     },
     "metadata": {},
     "output_type": "display_data"
    },
    {
     "name": "stdout",
     "output_type": "stream",
     "text": [
      "Epoch: 11 | train_loss: 0.0750 | train_GAP: 0.9763 | val_loss: 0.9209 | val_GAP: 0.7880 \n"
     ]
    },
    {
     "data": {
      "text/plain": [
       "Training loop:   0%|          | 0/265 [00:00<?, ?it/s]"
      ],
      "application/vnd.jupyter.widget-view+json": {
       "version_major": 2,
       "version_minor": 0,
       "model_id": "0c178db369894758a7d545744a2e61b8"
      }
     },
     "metadata": {},
     "output_type": "display_data"
    },
    {
     "data": {
      "text/plain": [
       "Validation loop:   0%|          | 0/30 [00:00<?, ?it/s]"
      ],
      "application/vnd.jupyter.widget-view+json": {
       "version_major": 2,
       "version_minor": 0,
       "model_id": "dceaa8ca9daf41e3b5f1a4a2d437d227"
      }
     },
     "metadata": {},
     "output_type": "display_data"
    },
    {
     "name": "stdout",
     "output_type": "stream",
     "text": [
      "Epoch: 12 | train_loss: 0.1099 | train_GAP: 0.9675 | val_loss: 1.0592 | val_GAP: 0.7582 \n"
     ]
    },
    {
     "data": {
      "text/plain": [
       "Training loop:   0%|          | 0/265 [00:00<?, ?it/s]"
      ],
      "application/vnd.jupyter.widget-view+json": {
       "version_major": 2,
       "version_minor": 0,
       "model_id": "27c697a7f74a4bf29ca7cd73445a9315"
      }
     },
     "metadata": {},
     "output_type": "display_data"
    },
    {
     "data": {
      "text/plain": [
       "Validation loop:   0%|          | 0/30 [00:00<?, ?it/s]"
      ],
      "application/vnd.jupyter.widget-view+json": {
       "version_major": 2,
       "version_minor": 0,
       "model_id": "b58c0e2a13c74573a5a2cb1d259d9c55"
      }
     },
     "metadata": {},
     "output_type": "display_data"
    },
    {
     "name": "stdout",
     "output_type": "stream",
     "text": [
      "Epoch: 13 | train_loss: 0.1373 | train_GAP: 0.9583 | val_loss: 1.0735 | val_GAP: 0.7454 \n"
     ]
    },
    {
     "data": {
      "text/plain": [
       "Training loop:   0%|          | 0/265 [00:00<?, ?it/s]"
      ],
      "application/vnd.jupyter.widget-view+json": {
       "version_major": 2,
       "version_minor": 0,
       "model_id": "a4ad00d4de5b44c58528f0b8c7c195b8"
      }
     },
     "metadata": {},
     "output_type": "display_data"
    },
    {
     "data": {
      "text/plain": [
       "Validation loop:   0%|          | 0/30 [00:00<?, ?it/s]"
      ],
      "application/vnd.jupyter.widget-view+json": {
       "version_major": 2,
       "version_minor": 0,
       "model_id": "dd73472abe6b4422b82f0bb88127e963"
      }
     },
     "metadata": {},
     "output_type": "display_data"
    },
    {
     "name": "stdout",
     "output_type": "stream",
     "text": [
      "Epoch: 14 | train_loss: 0.1154 | train_GAP: 0.9642 | val_loss: 1.1541 | val_GAP: 0.7525 \n"
     ]
    },
    {
     "data": {
      "text/plain": [
       "Training loop:   0%|          | 0/265 [00:00<?, ?it/s]"
      ],
      "application/vnd.jupyter.widget-view+json": {
       "version_major": 2,
       "version_minor": 0,
       "model_id": "7c0c6c2edb674c3a8ad604ae9f9df9d1"
      }
     },
     "metadata": {},
     "output_type": "display_data"
    },
    {
     "data": {
      "text/plain": [
       "Validation loop:   0%|          | 0/30 [00:00<?, ?it/s]"
      ],
      "application/vnd.jupyter.widget-view+json": {
       "version_major": 2,
       "version_minor": 0,
       "model_id": "b958778c6623420c99a03db045476072"
      }
     },
     "metadata": {},
     "output_type": "display_data"
    },
    {
     "name": "stdout",
     "output_type": "stream",
     "text": [
      "Epoch: 15 | train_loss: 0.0836 | train_GAP: 0.9739 | val_loss: 0.9621 | val_GAP: 0.8002 \n",
      "Checkpoint saved at epoch 15 with validation GAP 0.8001632329444511\n"
     ]
    },
    {
     "data": {
      "text/plain": [
       "Training loop:   0%|          | 0/265 [00:00<?, ?it/s]"
      ],
      "application/vnd.jupyter.widget-view+json": {
       "version_major": 2,
       "version_minor": 0,
       "model_id": "be37d9a62e49443d897d18569eed255f"
      }
     },
     "metadata": {},
     "output_type": "display_data"
    },
    {
     "data": {
      "text/plain": [
       "Validation loop:   0%|          | 0/30 [00:00<?, ?it/s]"
      ],
      "application/vnd.jupyter.widget-view+json": {
       "version_major": 2,
       "version_minor": 0,
       "model_id": "5168034e601a4ea58b517a3659cc5554"
      }
     },
     "metadata": {},
     "output_type": "display_data"
    },
    {
     "name": "stdout",
     "output_type": "stream",
     "text": [
      "Epoch: 16 | train_loss: 0.0851 | train_GAP: 0.9730 | val_loss: 1.1152 | val_GAP: 0.7435 \n"
     ]
    },
    {
     "data": {
      "text/plain": [
       "Training loop:   0%|          | 0/265 [00:00<?, ?it/s]"
      ],
      "application/vnd.jupyter.widget-view+json": {
       "version_major": 2,
       "version_minor": 0,
       "model_id": "502424715cf543e4a17a98c9cd1eeaae"
      }
     },
     "metadata": {},
     "output_type": "display_data"
    },
    {
     "data": {
      "text/plain": [
       "Validation loop:   0%|          | 0/30 [00:00<?, ?it/s]"
      ],
      "application/vnd.jupyter.widget-view+json": {
       "version_major": 2,
       "version_minor": 0,
       "model_id": "7f96c4cd1ca74453b87b2944772d98b8"
      }
     },
     "metadata": {},
     "output_type": "display_data"
    },
    {
     "name": "stdout",
     "output_type": "stream",
     "text": [
      "Epoch: 17 | train_loss: 0.0859 | train_GAP: 0.9738 | val_loss: 0.9489 | val_GAP: 0.8031 \n",
      "Checkpoint saved at epoch 17 with validation GAP 0.803131117644574\n"
     ]
    },
    {
     "data": {
      "text/plain": [
       "Training loop:   0%|          | 0/265 [00:00<?, ?it/s]"
      ],
      "application/vnd.jupyter.widget-view+json": {
       "version_major": 2,
       "version_minor": 0,
       "model_id": "2b03d8fa4863433b85f2753ca7a3c425"
      }
     },
     "metadata": {},
     "output_type": "display_data"
    },
    {
     "data": {
      "text/plain": [
       "Validation loop:   0%|          | 0/30 [00:00<?, ?it/s]"
      ],
      "application/vnd.jupyter.widget-view+json": {
       "version_major": 2,
       "version_minor": 0,
       "model_id": "6ed4416a3db24707bd136ef3dce4aecf"
      }
     },
     "metadata": {},
     "output_type": "display_data"
    },
    {
     "name": "stdout",
     "output_type": "stream",
     "text": [
      "Epoch: 18 | train_loss: 0.0547 | train_GAP: 0.9834 | val_loss: 1.0600 | val_GAP: 0.7861 \n"
     ]
    },
    {
     "data": {
      "text/plain": [
       "Training loop:   0%|          | 0/265 [00:00<?, ?it/s]"
      ],
      "application/vnd.jupyter.widget-view+json": {
       "version_major": 2,
       "version_minor": 0,
       "model_id": "114eeffa39854a0b8699a60cf39423d1"
      }
     },
     "metadata": {},
     "output_type": "display_data"
    },
    {
     "data": {
      "text/plain": [
       "Validation loop:   0%|          | 0/30 [00:00<?, ?it/s]"
      ],
      "application/vnd.jupyter.widget-view+json": {
       "version_major": 2,
       "version_minor": 0,
       "model_id": "fd84be0a865546c5b242e89912192882"
      }
     },
     "metadata": {},
     "output_type": "display_data"
    },
    {
     "name": "stdout",
     "output_type": "stream",
     "text": [
      "Epoch: 19 | train_loss: 0.1080 | train_GAP: 0.9695 | val_loss: 1.0359 | val_GAP: 0.7719 \n"
     ]
    },
    {
     "data": {
      "text/plain": [
       "Training loop:   0%|          | 0/265 [00:00<?, ?it/s]"
      ],
      "application/vnd.jupyter.widget-view+json": {
       "version_major": 2,
       "version_minor": 0,
       "model_id": "0653ec4348b6468b95186e8f7e3b6c58"
      }
     },
     "metadata": {},
     "output_type": "display_data"
    },
    {
     "data": {
      "text/plain": [
       "Validation loop:   0%|          | 0/30 [00:00<?, ?it/s]"
      ],
      "application/vnd.jupyter.widget-view+json": {
       "version_major": 2,
       "version_minor": 0,
       "model_id": "ffe79571796545e0ae6a5fb394276c9c"
      }
     },
     "metadata": {},
     "output_type": "display_data"
    },
    {
     "name": "stdout",
     "output_type": "stream",
     "text": [
      "Epoch: 20 | train_loss: 0.0883 | train_GAP: 0.9739 | val_loss: 1.1167 | val_GAP: 0.7756 \n"
     ]
    }
   ],
   "execution_count": 30
  },
  {
   "metadata": {
    "ExecuteTime": {
     "end_time": "2024-07-03T08:50:48.504563Z",
     "start_time": "2024-07-03T08:50:48.229140Z"
    }
   },
   "cell_type": "code",
   "source": [
    "#Plot for b2 model 260x260\n",
    "train_utils.plot_loss_curves(results_b1)"
   ],
   "id": "7170c90bf07c3adf",
   "outputs": [
    {
     "data": {
      "text/plain": [
       "<Figure size 1500x700 with 2 Axes>"
      ],
      "image/png": "[encoded data removed]"
     },
     "metadata": {},
     "output_type": "display_data"
    }
   ],
   "execution_count": 44
  },
  {
   "metadata": {
    "ExecuteTime": {
     "end_time": "2024-07-03T11:12:52.161561Z",
     "start_time": "2024-07-03T10:07:47.374024Z"
    }
   },
   "cell_type": "code",
   "source": [
    "results_b3 = train_utils.train(efficientnet_b1, train_dataloader_b1, val_dataloader_b1, optimizer_b1, criterion, epochs=20,\n",
    "                            train_class_labels=unique_classes_train, checkpoint_path='models/bg_efficientnet_b3', device=device)"
   ],
   "id": "e3d706f18129f48f",
   "outputs": [
    {
     "data": {
      "text/plain": [
       "Training loop:   0%|          | 0/530 [00:00<?, ?it/s]"
      ],
      "application/vnd.jupyter.widget-view+json": {
       "version_major": 2,
       "version_minor": 0,
       "model_id": "935368e9033e4ecea2fd8767474541c9"
      }
     },
     "metadata": {},
     "output_type": "display_data"
    },
    {
     "data": {
      "text/plain": [
       "Validation loop:   0%|          | 0/59 [00:00<?, ?it/s]"
      ],
      "application/vnd.jupyter.widget-view+json": {
       "version_major": 2,
       "version_minor": 0,
       "model_id": "24f5077436834d4797ab66f7ea4313cf"
      }
     },
     "metadata": {},
     "output_type": "display_data"
    },
    {
     "name": "stdout",
     "output_type": "stream",
     "text": [
      "Epoch: 1 | train_loss: 2.5268 | train_GAP: 0.4301 | val_loss: 1.3092 | val_GAP: 0.6546 \n",
      "Checkpoint saved at epoch 1 with validation GAP 0.6545955398955706\n"
     ]
    },
    {
     "data": {
      "text/plain": [
       "Training loop:   0%|          | 0/530 [00:00<?, ?it/s]"
      ],
      "application/vnd.jupyter.widget-view+json": {
       "version_major": 2,
       "version_minor": 0,
       "model_id": "51a61fe248724c6096e7dd97906224cb"
      }
     },
     "metadata": {},
     "output_type": "display_data"
    },
    {
     "data": {
      "text/plain": [
       "Validation loop:   0%|          | 0/59 [00:00<?, ?it/s]"
      ],
      "application/vnd.jupyter.widget-view+json": {
       "version_major": 2,
       "version_minor": 0,
       "model_id": "d5a839e9025f4754a9c7a0e0515befcc"
      }
     },
     "metadata": {},
     "output_type": "display_data"
    },
    {
     "name": "stdout",
     "output_type": "stream",
     "text": [
      "Epoch: 2 | train_loss: 0.7379 | train_GAP: 0.7861 | val_loss: 0.8721 | val_GAP: 0.7779 \n",
      "Checkpoint saved at epoch 2 with validation GAP 0.777861638584158\n"
     ]
    },
    {
     "data": {
      "text/plain": [
       "Training loop:   0%|          | 0/530 [00:00<?, ?it/s]"
      ],
      "application/vnd.jupyter.widget-view+json": {
       "version_major": 2,
       "version_minor": 0,
       "model_id": "fcad53bb20c84beaae929785242fd686"
      }
     },
     "metadata": {},
     "output_type": "display_data"
    },
    {
     "data": {
      "text/plain": [
       "Validation loop:   0%|          | 0/59 [00:00<?, ?it/s]"
      ],
      "application/vnd.jupyter.widget-view+json": {
       "version_major": 2,
       "version_minor": 0,
       "model_id": "8f8e10c7f5b2415395f9ebc6ccc89cfe"
      }
     },
     "metadata": {},
     "output_type": "display_data"
    },
    {
     "name": "stdout",
     "output_type": "stream",
     "text": [
      "Epoch: 3 | train_loss: 0.3469 | train_GAP: 0.8921 | val_loss: 0.7452 | val_GAP: 0.8041 \n",
      "Checkpoint saved at epoch 3 with validation GAP 0.8040577387209855\n"
     ]
    },
    {
     "data": {
      "text/plain": [
       "Training loop:   0%|          | 0/530 [00:00<?, ?it/s]"
      ],
      "application/vnd.jupyter.widget-view+json": {
       "version_major": 2,
       "version_minor": 0,
       "model_id": "d4c0e43541fe41339053ab4fe7d91af3"
      }
     },
     "metadata": {},
     "output_type": "display_data"
    },
    {
     "data": {
      "text/plain": [
       "Validation loop:   0%|          | 0/59 [00:00<?, ?it/s]"
      ],
      "application/vnd.jupyter.widget-view+json": {
       "version_major": 2,
       "version_minor": 0,
       "model_id": "718a1f95229449978bee5efdb09b973b"
      }
     },
     "metadata": {},
     "output_type": "display_data"
    },
    {
     "name": "stdout",
     "output_type": "stream",
     "text": [
      "Epoch: 4 | train_loss: 0.2044 | train_GAP: 0.9374 | val_loss: 0.7635 | val_GAP: 0.8039 \n"
     ]
    },
    {
     "data": {
      "text/plain": [
       "Training loop:   0%|          | 0/530 [00:00<?, ?it/s]"
      ],
      "application/vnd.jupyter.widget-view+json": {
       "version_major": 2,
       "version_minor": 0,
       "model_id": "a618d45eb7bc4c8ea62c38945a623326"
      }
     },
     "metadata": {},
     "output_type": "display_data"
    },
    {
     "data": {
      "text/plain": [
       "Validation loop:   0%|          | 0/59 [00:00<?, ?it/s]"
      ],
      "application/vnd.jupyter.widget-view+json": {
       "version_major": 2,
       "version_minor": 0,
       "model_id": "20b48915c766418cab8ec7dfc810b6f2"
      }
     },
     "metadata": {},
     "output_type": "display_data"
    },
    {
     "name": "stdout",
     "output_type": "stream",
     "text": [
      "Epoch: 5 | train_loss: 0.1818 | train_GAP: 0.9433 | val_loss: 0.8073 | val_GAP: 0.8103 \n",
      "Checkpoint saved at epoch 5 with validation GAP 0.8103128789774717\n"
     ]
    },
    {
     "data": {
      "text/plain": [
       "Training loop:   0%|          | 0/530 [00:00<?, ?it/s]"
      ],
      "application/vnd.jupyter.widget-view+json": {
       "version_major": 2,
       "version_minor": 0,
       "model_id": "58d9ad552c814ce587578b42ea4b6841"
      }
     },
     "metadata": {},
     "output_type": "display_data"
    },
    {
     "data": {
      "text/plain": [
       "Validation loop:   0%|          | 0/59 [00:00<?, ?it/s]"
      ],
      "application/vnd.jupyter.widget-view+json": {
       "version_major": 2,
       "version_minor": 0,
       "model_id": "8e9a628fcfaa4939b13346e770f78b5a"
      }
     },
     "metadata": {},
     "output_type": "display_data"
    },
    {
     "name": "stdout",
     "output_type": "stream",
     "text": [
      "Epoch: 6 | train_loss: 0.1906 | train_GAP: 0.9421 | val_loss: 0.8517 | val_GAP: 0.7972 \n"
     ]
    },
    {
     "data": {
      "text/plain": [
       "Training loop:   0%|          | 0/530 [00:00<?, ?it/s]"
      ],
      "application/vnd.jupyter.widget-view+json": {
       "version_major": 2,
       "version_minor": 0,
       "model_id": "2cb284f1bea548008bbe2291d1ced31d"
      }
     },
     "metadata": {},
     "output_type": "display_data"
    },
    {
     "data": {
      "text/plain": [
       "Validation loop:   0%|          | 0/59 [00:00<?, ?it/s]"
      ],
      "application/vnd.jupyter.widget-view+json": {
       "version_major": 2,
       "version_minor": 0,
       "model_id": "600bc2eb06d44fb385cf961138da4e74"
      }
     },
     "metadata": {},
     "output_type": "display_data"
    },
    {
     "name": "stdout",
     "output_type": "stream",
     "text": [
      "Epoch: 7 | train_loss: 0.1513 | train_GAP: 0.9539 | val_loss: 0.7634 | val_GAP: 0.8114 \n",
      "Checkpoint saved at epoch 7 with validation GAP 0.8113755584879941\n"
     ]
    },
    {
     "data": {
      "text/plain": [
       "Training loop:   0%|          | 0/530 [00:00<?, ?it/s]"
      ],
      "application/vnd.jupyter.widget-view+json": {
       "version_major": 2,
       "version_minor": 0,
       "model_id": "6b467f936dae4ad28da019eb8aa8b9d8"
      }
     },
     "metadata": {},
     "output_type": "display_data"
    },
    {
     "data": {
      "text/plain": [
       "Validation loop:   0%|          | 0/59 [00:00<?, ?it/s]"
      ],
      "application/vnd.jupyter.widget-view+json": {
       "version_major": 2,
       "version_minor": 0,
       "model_id": "c6bd658a18004e68a1fa690539e61cf8"
      }
     },
     "metadata": {},
     "output_type": "display_data"
    },
    {
     "name": "stdout",
     "output_type": "stream",
     "text": [
      "Epoch: 8 | train_loss: 0.1307 | train_GAP: 0.9605 | val_loss: 0.6903 | val_GAP: 0.8405 \n",
      "Checkpoint saved at epoch 8 with validation GAP 0.8404771351106077\n"
     ]
    },
    {
     "data": {
      "text/plain": [
       "Training loop:   0%|          | 0/530 [00:00<?, ?it/s]"
      ],
      "application/vnd.jupyter.widget-view+json": {
       "version_major": 2,
       "version_minor": 0,
       "model_id": "667c29f1752642599a5b369d8d2ec7ad"
      }
     },
     "metadata": {},
     "output_type": "display_data"
    },
    {
     "data": {
      "text/plain": [
       "Validation loop:   0%|          | 0/59 [00:00<?, ?it/s]"
      ],
      "application/vnd.jupyter.widget-view+json": {
       "version_major": 2,
       "version_minor": 0,
       "model_id": "187c2adede2049c197c7de820e1cadc9"
      }
     },
     "metadata": {},
     "output_type": "display_data"
    },
    {
     "name": "stdout",
     "output_type": "stream",
     "text": [
      "Epoch: 9 | train_loss: 0.1276 | train_GAP: 0.9586 | val_loss: 0.7961 | val_GAP: 0.8129 \n"
     ]
    },
    {
     "data": {
      "text/plain": [
       "Training loop:   0%|          | 0/530 [00:00<?, ?it/s]"
      ],
      "application/vnd.jupyter.widget-view+json": {
       "version_major": 2,
       "version_minor": 0,
       "model_id": "f36c502a61264bccb7fad20f42dbbfe6"
      }
     },
     "metadata": {},
     "output_type": "display_data"
    },
    {
     "data": {
      "text/plain": [
       "Validation loop:   0%|          | 0/59 [00:00<?, ?it/s]"
      ],
      "application/vnd.jupyter.widget-view+json": {
       "version_major": 2,
       "version_minor": 0,
       "model_id": "3ac0592ca9ec4fb6b5379ad44b158e30"
      }
     },
     "metadata": {},
     "output_type": "display_data"
    },
    {
     "name": "stdout",
     "output_type": "stream",
     "text": [
      "Epoch: 10 | train_loss: 0.1011 | train_GAP: 0.9688 | val_loss: 0.8588 | val_GAP: 0.8167 \n"
     ]
    },
    {
     "data": {
      "text/plain": [
       "Training loop:   0%|          | 0/530 [00:00<?, ?it/s]"
      ],
      "application/vnd.jupyter.widget-view+json": {
       "version_major": 2,
       "version_minor": 0,
       "model_id": "1beab11f02e24c508852f7b228753785"
      }
     },
     "metadata": {},
     "output_type": "display_data"
    },
    {
     "data": {
      "text/plain": [
       "Validation loop:   0%|          | 0/59 [00:00<?, ?it/s]"
      ],
      "application/vnd.jupyter.widget-view+json": {
       "version_major": 2,
       "version_minor": 0,
       "model_id": "f080ab851ccc4881a1d4a80c507f486e"
      }
     },
     "metadata": {},
     "output_type": "display_data"
    },
    {
     "name": "stdout",
     "output_type": "stream",
     "text": [
      "Epoch: 11 | train_loss: 0.1027 | train_GAP: 0.9693 | val_loss: 0.9539 | val_GAP: 0.7710 \n"
     ]
    },
    {
     "data": {
      "text/plain": [
       "Training loop:   0%|          | 0/530 [00:00<?, ?it/s]"
      ],
      "application/vnd.jupyter.widget-view+json": {
       "version_major": 2,
       "version_minor": 0,
       "model_id": "c89674a6b1ee4bcd80eae2a34a9317e6"
      }
     },
     "metadata": {},
     "output_type": "display_data"
    },
    {
     "data": {
      "text/plain": [
       "Validation loop:   0%|          | 0/59 [00:00<?, ?it/s]"
      ],
      "application/vnd.jupyter.widget-view+json": {
       "version_major": 2,
       "version_minor": 0,
       "model_id": "295ad4e2b55d43ee9af1fa2c788b7343"
      }
     },
     "metadata": {},
     "output_type": "display_data"
    },
    {
     "name": "stdout",
     "output_type": "stream",
     "text": [
      "Epoch: 12 | train_loss: 0.1178 | train_GAP: 0.9616 | val_loss: 0.6815 | val_GAP: 0.8529 \n",
      "Checkpoint saved at epoch 12 with validation GAP 0.8529361576586243\n"
     ]
    },
    {
     "data": {
      "text/plain": [
       "Training loop:   0%|          | 0/530 [00:00<?, ?it/s]"
      ],
      "application/vnd.jupyter.widget-view+json": {
       "version_major": 2,
       "version_minor": 0,
       "model_id": "3bc2808161cc41ffa8ef9cd204e3370a"
      }
     },
     "metadata": {},
     "output_type": "display_data"
    },
    {
     "data": {
      "text/plain": [
       "Validation loop:   0%|          | 0/59 [00:00<?, ?it/s]"
      ],
      "application/vnd.jupyter.widget-view+json": {
       "version_major": 2,
       "version_minor": 0,
       "model_id": "8cbec75b40f741ec91be22b3be1c16ee"
      }
     },
     "metadata": {},
     "output_type": "display_data"
    },
    {
     "name": "stdout",
     "output_type": "stream",
     "text": [
      "Epoch: 13 | train_loss: 0.1093 | train_GAP: 0.9670 | val_loss: 0.8102 | val_GAP: 0.8217 \n"
     ]
    },
    {
     "data": {
      "text/plain": [
       "Training loop:   0%|          | 0/530 [00:00<?, ?it/s]"
      ],
      "application/vnd.jupyter.widget-view+json": {
       "version_major": 2,
       "version_minor": 0,
       "model_id": "2a55a0fa8c9c49cc938ae09bee49f336"
      }
     },
     "metadata": {},
     "output_type": "display_data"
    },
    {
     "data": {
      "text/plain": [
       "Validation loop:   0%|          | 0/59 [00:00<?, ?it/s]"
      ],
      "application/vnd.jupyter.widget-view+json": {
       "version_major": 2,
       "version_minor": 0,
       "model_id": "7ffa893b688543adb6eb8bb8019a1e26"
      }
     },
     "metadata": {},
     "output_type": "display_data"
    },
    {
     "name": "stdout",
     "output_type": "stream",
     "text": [
      "Epoch: 14 | train_loss: 0.1009 | train_GAP: 0.9707 | val_loss: 0.7706 | val_GAP: 0.8325 \n"
     ]
    },
    {
     "data": {
      "text/plain": [
       "Training loop:   0%|          | 0/530 [00:00<?, ?it/s]"
      ],
      "application/vnd.jupyter.widget-view+json": {
       "version_major": 2,
       "version_minor": 0,
       "model_id": "07e4ac7373534301a762d9cb6c508aa4"
      }
     },
     "metadata": {},
     "output_type": "display_data"
    },
    {
     "data": {
      "text/plain": [
       "Validation loop:   0%|          | 0/59 [00:00<?, ?it/s]"
      ],
      "application/vnd.jupyter.widget-view+json": {
       "version_major": 2,
       "version_minor": 0,
       "model_id": "826b06b6a0e8485098f5ed992deec984"
      }
     },
     "metadata": {},
     "output_type": "display_data"
    },
    {
     "name": "stdout",
     "output_type": "stream",
     "text": [
      "Epoch: 15 | train_loss: 0.0567 | train_GAP: 0.9819 | val_loss: 0.7397 | val_GAP: 0.8523 \n"
     ]
    },
    {
     "data": {
      "text/plain": [
       "Training loop:   0%|          | 0/530 [00:00<?, ?it/s]"
      ],
      "application/vnd.jupyter.widget-view+json": {
       "version_major": 2,
       "version_minor": 0,
       "model_id": "110e26bd5b034db0bdd264e012c8d2af"
      }
     },
     "metadata": {},
     "output_type": "display_data"
    },
    {
     "data": {
      "text/plain": [
       "Validation loop:   0%|          | 0/59 [00:00<?, ?it/s]"
      ],
      "application/vnd.jupyter.widget-view+json": {
       "version_major": 2,
       "version_minor": 0,
       "model_id": "13f2067b6e704da08475687382064ce4"
      }
     },
     "metadata": {},
     "output_type": "display_data"
    },
    {
     "name": "stdout",
     "output_type": "stream",
     "text": [
      "Epoch: 16 | train_loss: 0.0857 | train_GAP: 0.9750 | val_loss: 0.9037 | val_GAP: 0.8055 \n"
     ]
    },
    {
     "data": {
      "text/plain": [
       "Training loop:   0%|          | 0/530 [00:00<?, ?it/s]"
      ],
      "application/vnd.jupyter.widget-view+json": {
       "version_major": 2,
       "version_minor": 0,
       "model_id": "9ae7a07317ba480f829775210effe774"
      }
     },
     "metadata": {},
     "output_type": "display_data"
    },
    {
     "data": {
      "text/plain": [
       "Validation loop:   0%|          | 0/59 [00:00<?, ?it/s]"
      ],
      "application/vnd.jupyter.widget-view+json": {
       "version_major": 2,
       "version_minor": 0,
       "model_id": "0798b6bdc28247d3b6573f36f5cc192f"
      }
     },
     "metadata": {},
     "output_type": "display_data"
    },
    {
     "name": "stdout",
     "output_type": "stream",
     "text": [
      "Epoch: 17 | train_loss: 0.0981 | train_GAP: 0.9677 | val_loss: 0.9201 | val_GAP: 0.8147 \n"
     ]
    },
    {
     "data": {
      "text/plain": [
       "Training loop:   0%|          | 0/530 [00:00<?, ?it/s]"
      ],
      "application/vnd.jupyter.widget-view+json": {
       "version_major": 2,
       "version_minor": 0,
       "model_id": "5c731a426c8f4b448c91467e5b0fdfdd"
      }
     },
     "metadata": {},
     "output_type": "display_data"
    },
    {
     "data": {
      "text/plain": [
       "Validation loop:   0%|          | 0/59 [00:00<?, ?it/s]"
      ],
      "application/vnd.jupyter.widget-view+json": {
       "version_major": 2,
       "version_minor": 0,
       "model_id": "fd8ba32ceeee4c9c85b405d931281894"
      }
     },
     "metadata": {},
     "output_type": "display_data"
    },
    {
     "name": "stdout",
     "output_type": "stream",
     "text": [
      "Epoch: 18 | train_loss: 0.0609 | train_GAP: 0.9820 | val_loss: 0.7928 | val_GAP: 0.8360 \n"
     ]
    },
    {
     "data": {
      "text/plain": [
       "Training loop:   0%|          | 0/530 [00:00<?, ?it/s]"
      ],
      "application/vnd.jupyter.widget-view+json": {
       "version_major": 2,
       "version_minor": 0,
       "model_id": "3ab223ed852749d0ae2db907a711cf3d"
      }
     },
     "metadata": {},
     "output_type": "display_data"
    },
    {
     "data": {
      "text/plain": [
       "Validation loop:   0%|          | 0/59 [00:00<?, ?it/s]"
      ],
      "application/vnd.jupyter.widget-view+json": {
       "version_major": 2,
       "version_minor": 0,
       "model_id": "a9552c6af5d14c858b133b50bb3998ad"
      }
     },
     "metadata": {},
     "output_type": "display_data"
    },
    {
     "name": "stdout",
     "output_type": "stream",
     "text": [
      "Epoch: 19 | train_loss: 0.0881 | train_GAP: 0.9727 | val_loss: 1.0098 | val_GAP: 0.8119 \n"
     ]
    },
    {
     "data": {
      "text/plain": [
       "Training loop:   0%|          | 0/530 [00:00<?, ?it/s]"
      ],
      "application/vnd.jupyter.widget-view+json": {
       "version_major": 2,
       "version_minor": 0,
       "model_id": "19c1c4a161fb4a7b97fe8812209b1a58"
      }
     },
     "metadata": {},
     "output_type": "display_data"
    },
    {
     "data": {
      "text/plain": [
       "Validation loop:   0%|          | 0/59 [00:00<?, ?it/s]"
      ],
      "application/vnd.jupyter.widget-view+json": {
       "version_major": 2,
       "version_minor": 0,
       "model_id": "35784de55306486083f59e9bb3057195"
      }
     },
     "metadata": {},
     "output_type": "display_data"
    },
    {
     "name": "stdout",
     "output_type": "stream",
     "text": [
      "Epoch: 20 | train_loss: 0.0686 | train_GAP: 0.9781 | val_loss: 0.9156 | val_GAP: 0.8196 \n"
     ]
    }
   ],
   "execution_count": 18
  },
  {
   "metadata": {
    "ExecuteTime": {
     "end_time": "2024-07-03T11:32:20.614572Z",
     "start_time": "2024-07-03T11:32:20.337116Z"
    }
   },
   "cell_type": "code",
   "source": [
    "# Plot for b3 model 300x300\n",
    "train_utils.plot_loss_curves(results_b3)"
   ],
   "id": "e07b6dde2472a994",
   "outputs": [
    {
     "data": {
      "text/plain": [
       "<Figure size 1500x700 with 2 Axes>"
      ],
      "image/png": "[encoded data removed]"
     },
     "metadata": {},
     "output_type": "display_data"
    }
   ],
   "execution_count": 20
  },
  {
   "metadata": {
    "ExecuteTime": {
     "end_time": "2024-07-03T11:35:04.406148Z",
     "start_time": "2024-07-03T11:35:03.984422Z"
    }
   },
   "cell_type": "code",
   "source": [
    "import albumentations as A\n",
    "from albumentations.pytorch import ToTensorV2"
   ],
   "id": "2ae2df937fbc1017",
   "outputs": [],
   "execution_count": 21
  },
  {
   "metadata": {
    "ExecuteTime": {
     "end_time": "2024-07-03T11:48:09.827619Z",
     "start_time": "2024-07-03T11:48:09.823795Z"
    }
   },
   "cell_type": "code",
   "source": [
    "image_size = 300\n",
    "transform_albumenation = A.Compose(\n",
    "    [\n",
    "        A.HorizontalFlip(p=0.5),\n",
    "        A.ImageCompression(quality_lower=99, quality_upper=100),\n",
    "        A.ShiftScaleRotate(shift_limit=0.2, scale_limit=0.2, rotate_limit=10, border_mode=0, p=0.7),\n",
    "        A.Resize(image_size, image_size),\n",
    "        ToTensorV2(),\n",
    "    ]\n",
    ")\n",
    "\n"
   ],
   "id": "d2549e28a9c87f47",
   "outputs": [],
   "execution_count": 24
  },
  {
   "metadata": {
    "ExecuteTime": {
     "end_time": "2024-07-03T11:48:38.625197Z",
     "start_time": "2024-07-03T11:48:38.622895Z"
    }
   },
   "cell_type": "code",
   "source": "train_dataloader_b1, val_dataloader_b1 = train_utils.get_dataloaders(train_df,val_df, BASE_PATH, transform_albumenation, batch_size=16)",
   "id": "33f4b98244e6c730",
   "outputs": [],
   "execution_count": 25
  },
  {
   "metadata": {},
   "cell_type": "code",
   "source": [
    "results_b3_albu = train_utils.train(efficientnet_b1, train_dataloader_b1, val_dataloader_b1, optimizer_b1, criterion, epochs=20,\n",
    "                            train_class_labels=unique_classes_train, checkpoint_path='models/bg_efficientnet_b3_albu', device=device)"
   ],
   "id": "fc045ec98dc377f1",
   "outputs": [],
   "execution_count": null
  },
  {
   "metadata": {
    "ExecuteTime": {
     "end_time": "2024-07-03T14:08:32.006173Z",
     "start_time": "2024-07-03T14:08:23.460590Z"
    }
   },
   "cell_type": "code",
   "source": [
    "import torch\n",
    "def load_model(model, optimizer, checkpoint_path):\n",
    "    checkpoint = torch.load(checkpoint_path)\n",
    "    model.load_state_dict(checkpoint['model_state_dict'])\n",
    "    optimizer.load_state_dict(checkpoint['optimizer_state_dict'])\n",
    "    epoch = checkpoint['epoch']\n",
    "    loss = checkpoint['loss']\n",
    "    print(f\"Loaded model checkpoint: {checkpoint_path} from epoch {epoch} with validation loss: {loss:.4f}\")\n",
    "    dict = {'epoch': epoch,\n",
    "            'model_state_dict': model.state_dict(),\n",
    "            'optimizer_state_dict': optimizer.state_dict(),\n",
    "            'loss': loss}\n",
    "    return dict\n",
    "\n",
    "\n",
    "load_model(efficientnet_b1, optimizer_b1, 'models/bg_efficientnet_b3')\n",
    "gap_2, df_with_confidence = metrics.calculate_gap(efficientnet_b1, val_dataloader_b1, unique_classes_train, device)\n",
    "print(f\"Global Average Precision (GAP): {gap_2:.4f}\")"
   ],
   "id": "8d8024f2c5ad6c0a",
   "outputs": [
    {
     "name": "stdout",
     "output_type": "stream",
     "text": [
      "Loaded model checkpoint: models/bg_efficientnet_b3 from epoch 11 with validation loss: 0.6815\n"
     ]
    },
    {
     "data": {
      "text/plain": [
       "Evaluating model:   0%|          | 0/59 [00:00<?, ?it/s]"
      ],
      "application/vnd.jupyter.widget-view+json": {
       "version_major": 2,
       "version_minor": 0,
       "model_id": "3a287d55428d4f5bb012ee606611f852"
      }
     },
     "metadata": {},
     "output_type": "display_data"
    },
    {
     "name": "stdout",
     "output_type": "stream",
     "text": [
      "Global Average Precision (GAP): 0.8529\n"
     ]
    }
   ],
   "execution_count": 38
  },
  {
   "metadata": {
    "ExecuteTime": {
     "end_time": "2024-07-03T14:08:42.477851Z",
     "start_time": "2024-07-03T14:08:42.471330Z"
    }
   },
   "cell_type": "code",
   "source": "df_with_confidence",
   "id": "2b2204c9ef5a5b5f",
   "outputs": [
    {
     "data": {
      "text/plain": [
       "     index  label_index  prediction  confidence\n",
       "0        0          261         261    1.000000\n",
       "1      679          156         156    1.000000\n",
       "2      401           16          16    1.000000\n",
       "3      652          255         255    1.000000\n",
       "4       89          139         139    1.000000\n",
       "..     ...          ...         ...         ...\n",
       "937    332          247         175    0.270532\n",
       "938    342           80          25    0.256573\n",
       "939    785          101          98    0.215129\n",
       "940    132          269         223    0.194280\n",
       "941    282           33          41    0.162326\n",
       "\n",
       "[942 rows x 4 columns]"
      ],
      "text/html": [
       "<div>\n",
       "<style scoped>\n",
       "    .dataframe tbody tr th:only-of-type {\n",
       "        vertical-align: middle;\n",
       "    }\n",
       "\n",
       "    .dataframe tbody tr th {\n",
       "        vertical-align: top;\n",
       "    }\n",
       "\n",
       "    .dataframe thead th {\n",
       "        text-align: right;\n",
       "    }\n",
       "</style>\n",
       "<table border=\"1\" class=\"dataframe\">\n",
       "  <thead>\n",
       "    <tr style=\"text-align: right;\">\n",
       "      <th></th>\n",
       "      <th>index</th>\n",
       "      <th>label_index</th>\n",
       "      <th>prediction</th>\n",
       "      <th>confidence</th>\n",
       "    </tr>\n",
       "  </thead>\n",
       "  <tbody>\n",
       "    <tr>\n",
       "      <th>0</th>\n",
       "      <td>0</td>\n",
       "      <td>261</td>\n",
       "      <td>261</td>\n",
       "      <td>1.000000</td>\n",
       "    </tr>\n",
       "    <tr>\n",
       "      <th>1</th>\n",
       "      <td>679</td>\n",
       "      <td>156</td>\n",
       "      <td>156</td>\n",
       "      <td>1.000000</td>\n",
       "    </tr>\n",
       "    <tr>\n",
       "      <th>2</th>\n",
       "      <td>401</td>\n",
       "      <td>16</td>\n",
       "      <td>16</td>\n",
       "      <td>1.000000</td>\n",
       "    </tr>\n",
       "    <tr>\n",
       "      <th>3</th>\n",
       "      <td>652</td>\n",
       "      <td>255</td>\n",
       "      <td>255</td>\n",
       "      <td>1.000000</td>\n",
       "    </tr>\n",
       "    <tr>\n",
       "      <th>4</th>\n",
       "      <td>89</td>\n",
       "      <td>139</td>\n",
       "      <td>139</td>\n",
       "      <td>1.000000</td>\n",
       "    </tr>\n",
       "    <tr>\n",
       "      <th>...</th>\n",
       "      <td>...</td>\n",
       "      <td>...</td>\n",
       "      <td>...</td>\n",
       "      <td>...</td>\n",
       "    </tr>\n",
       "    <tr>\n",
       "      <th>937</th>\n",
       "      <td>332</td>\n",
       "      <td>247</td>\n",
       "      <td>175</td>\n",
       "      <td>0.270532</td>\n",
       "    </tr>\n",
       "    <tr>\n",
       "      <th>938</th>\n",
       "      <td>342</td>\n",
       "      <td>80</td>\n",
       "      <td>25</td>\n",
       "      <td>0.256573</td>\n",
       "    </tr>\n",
       "    <tr>\n",
       "      <th>939</th>\n",
       "      <td>785</td>\n",
       "      <td>101</td>\n",
       "      <td>98</td>\n",
       "      <td>0.215129</td>\n",
       "    </tr>\n",
       "    <tr>\n",
       "      <th>940</th>\n",
       "      <td>132</td>\n",
       "      <td>269</td>\n",
       "      <td>223</td>\n",
       "      <td>0.194280</td>\n",
       "    </tr>\n",
       "    <tr>\n",
       "      <th>941</th>\n",
       "      <td>282</td>\n",
       "      <td>33</td>\n",
       "      <td>41</td>\n",
       "      <td>0.162326</td>\n",
       "    </tr>\n",
       "  </tbody>\n",
       "</table>\n",
       "<p>942 rows × 4 columns</p>\n",
       "</div>"
      ]
     },
     "execution_count": 39,
     "metadata": {},
     "output_type": "execute_result"
    }
   ],
   "execution_count": 39
  },
  {
   "metadata": {
    "ExecuteTime": {
     "end_time": "2024-07-03T15:07:14.220342Z",
     "start_time": "2024-07-03T15:07:14.217864Z"
    }
   },
   "cell_type": "code",
   "source": "wrong_predictions = df_with_confidence[df_with_confidence['label_index'] != df_with_confidence['prediction']]",
   "id": "49c8b3cd5f1e0897",
   "outputs": [],
   "execution_count": 80
  },
  {
   "metadata": {
    "ExecuteTime": {
     "end_time": "2024-07-03T15:07:15.110904Z",
     "start_time": "2024-07-03T15:07:15.105578Z"
    }
   },
   "cell_type": "code",
   "source": "wrong_predictions",
   "id": "41f35e7a8c957dab",
   "outputs": [
    {
     "data": {
      "text/plain": [
       "     index  label_index  prediction  confidence\n",
       "319    476          257         139    0.999963\n",
       "401    927          337         277    0.999786\n",
       "491    347          337         277    0.998673\n",
       "544    415          234         309    0.997069\n",
       "554    308          113         303    0.996403\n",
       "..     ...          ...         ...         ...\n",
       "937    332          247         175    0.270532\n",
       "938    342           80          25    0.256573\n",
       "939    785          101          98    0.215129\n",
       "940    132          269         223    0.194280\n",
       "941    282           33          41    0.162326\n",
       "\n",
       "[129 rows x 4 columns]"
      ],
      "text/html": [
       "<div>\n",
       "<style scoped>\n",
       "    .dataframe tbody tr th:only-of-type {\n",
       "        vertical-align: middle;\n",
       "    }\n",
       "\n",
       "    .dataframe tbody tr th {\n",
       "        vertical-align: top;\n",
       "    }\n",
       "\n",
       "    .dataframe thead th {\n",
       "        text-align: right;\n",
       "    }\n",
       "</style>\n",
       "<table border=\"1\" class=\"dataframe\">\n",
       "  <thead>\n",
       "    <tr style=\"text-align: right;\">\n",
       "      <th></th>\n",
       "      <th>index</th>\n",
       "      <th>label_index</th>\n",
       "      <th>prediction</th>\n",
       "      <th>confidence</th>\n",
       "    </tr>\n",
       "  </thead>\n",
       "  <tbody>\n",
       "    <tr>\n",
       "      <th>319</th>\n",
       "      <td>476</td>\n",
       "      <td>257</td>\n",
       "      <td>139</td>\n",
       "      <td>0.999963</td>\n",
       "    </tr>\n",
       "    <tr>\n",
       "      <th>401</th>\n",
       "      <td>927</td>\n",
       "      <td>337</td>\n",
       "      <td>277</td>\n",
       "      <td>0.999786</td>\n",
       "    </tr>\n",
       "    <tr>\n",
       "      <th>491</th>\n",
       "      <td>347</td>\n",
       "      <td>337</td>\n",
       "      <td>277</td>\n",
       "      <td>0.998673</td>\n",
       "    </tr>\n",
       "    <tr>\n",
       "      <th>544</th>\n",
       "      <td>415</td>\n",
       "      <td>234</td>\n",
       "      <td>309</td>\n",
       "      <td>0.997069</td>\n",
       "    </tr>\n",
       "    <tr>\n",
       "      <th>554</th>\n",
       "      <td>308</td>\n",
       "      <td>113</td>\n",
       "      <td>303</td>\n",
       "      <td>0.996403</td>\n",
       "    </tr>\n",
       "    <tr>\n",
       "      <th>...</th>\n",
       "      <td>...</td>\n",
       "      <td>...</td>\n",
       "      <td>...</td>\n",
       "      <td>...</td>\n",
       "    </tr>\n",
       "    <tr>\n",
       "      <th>937</th>\n",
       "      <td>332</td>\n",
       "      <td>247</td>\n",
       "      <td>175</td>\n",
       "      <td>0.270532</td>\n",
       "    </tr>\n",
       "    <tr>\n",
       "      <th>938</th>\n",
       "      <td>342</td>\n",
       "      <td>80</td>\n",
       "      <td>25</td>\n",
       "      <td>0.256573</td>\n",
       "    </tr>\n",
       "    <tr>\n",
       "      <th>939</th>\n",
       "      <td>785</td>\n",
       "      <td>101</td>\n",
       "      <td>98</td>\n",
       "      <td>0.215129</td>\n",
       "    </tr>\n",
       "    <tr>\n",
       "      <th>940</th>\n",
       "      <td>132</td>\n",
       "      <td>269</td>\n",
       "      <td>223</td>\n",
       "      <td>0.194280</td>\n",
       "    </tr>\n",
       "    <tr>\n",
       "      <th>941</th>\n",
       "      <td>282</td>\n",
       "      <td>33</td>\n",
       "      <td>41</td>\n",
       "      <td>0.162326</td>\n",
       "    </tr>\n",
       "  </tbody>\n",
       "</table>\n",
       "<p>129 rows × 4 columns</p>\n",
       "</div>"
      ]
     },
     "execution_count": 81,
     "metadata": {},
     "output_type": "execute_result"
    }
   ],
   "execution_count": 81
  },
  {
   "metadata": {
    "ExecuteTime": {
     "end_time": "2024-07-03T15:07:34.942294Z",
     "start_time": "2024-07-03T15:07:34.936923Z"
    }
   },
   "cell_type": "code",
   "source": [
    "# Group by 'label_index' and count occurrences\n",
    "grouped_df = train_df.groupby('label_index').size().reset_index(name='images_in_train')\n",
    "\n",
    "# Sort by count in descending order\n",
    "label_index_by_count = grouped_df.sort_values(by='images_in_train', ascending=False)\n",
    "label_index_by_count"
   ],
   "id": "aec21e868e9785bc",
   "outputs": [
    {
     "data": {
      "text/plain": [
       "     label_index  images_in_train\n",
       "36            36              459\n",
       "11            11              333\n",
       "16            16              282\n",
       "155          156              271\n",
       "98            98              224\n",
       "..           ...              ...\n",
       "47            47                1\n",
       "253          254                1\n",
       "259          260                1\n",
       "236          237                1\n",
       "4              4                1\n",
       "\n",
       "[338 rows x 2 columns]"
      ],
      "text/html": [
       "<div>\n",
       "<style scoped>\n",
       "    .dataframe tbody tr th:only-of-type {\n",
       "        vertical-align: middle;\n",
       "    }\n",
       "\n",
       "    .dataframe tbody tr th {\n",
       "        vertical-align: top;\n",
       "    }\n",
       "\n",
       "    .dataframe thead th {\n",
       "        text-align: right;\n",
       "    }\n",
       "</style>\n",
       "<table border=\"1\" class=\"dataframe\">\n",
       "  <thead>\n",
       "    <tr style=\"text-align: right;\">\n",
       "      <th></th>\n",
       "      <th>label_index</th>\n",
       "      <th>images_in_train</th>\n",
       "    </tr>\n",
       "  </thead>\n",
       "  <tbody>\n",
       "    <tr>\n",
       "      <th>36</th>\n",
       "      <td>36</td>\n",
       "      <td>459</td>\n",
       "    </tr>\n",
       "    <tr>\n",
       "      <th>11</th>\n",
       "      <td>11</td>\n",
       "      <td>333</td>\n",
       "    </tr>\n",
       "    <tr>\n",
       "      <th>16</th>\n",
       "      <td>16</td>\n",
       "      <td>282</td>\n",
       "    </tr>\n",
       "    <tr>\n",
       "      <th>155</th>\n",
       "      <td>156</td>\n",
       "      <td>271</td>\n",
       "    </tr>\n",
       "    <tr>\n",
       "      <th>98</th>\n",
       "      <td>98</td>\n",
       "      <td>224</td>\n",
       "    </tr>\n",
       "    <tr>\n",
       "      <th>...</th>\n",
       "      <td>...</td>\n",
       "      <td>...</td>\n",
       "    </tr>\n",
       "    <tr>\n",
       "      <th>47</th>\n",
       "      <td>47</td>\n",
       "      <td>1</td>\n",
       "    </tr>\n",
       "    <tr>\n",
       "      <th>253</th>\n",
       "      <td>254</td>\n",
       "      <td>1</td>\n",
       "    </tr>\n",
       "    <tr>\n",
       "      <th>259</th>\n",
       "      <td>260</td>\n",
       "      <td>1</td>\n",
       "    </tr>\n",
       "    <tr>\n",
       "      <th>236</th>\n",
       "      <td>237</td>\n",
       "      <td>1</td>\n",
       "    </tr>\n",
       "    <tr>\n",
       "      <th>4</th>\n",
       "      <td>4</td>\n",
       "      <td>1</td>\n",
       "    </tr>\n",
       "  </tbody>\n",
       "</table>\n",
       "<p>338 rows × 2 columns</p>\n",
       "</div>"
      ]
     },
     "execution_count": 83,
     "metadata": {},
     "output_type": "execute_result"
    }
   ],
   "execution_count": 83
  },
  {
   "metadata": {
    "ExecuteTime": {
     "end_time": "2024-07-03T15:07:40.842711Z",
     "start_time": "2024-07-03T15:07:40.839133Z"
    }
   },
   "cell_type": "code",
   "source": "wrong_predictions = wrong_predictions.merge(label_index_by_count, on='label_index', how='left')",
   "id": "e4e364e093aae895",
   "outputs": [],
   "execution_count": 84
  },
  {
   "metadata": {
    "ExecuteTime": {
     "end_time": "2024-07-03T17:14:09.317649Z",
     "start_time": "2024-07-03T17:14:09.310162Z"
    }
   },
   "cell_type": "code",
   "source": "wrong_predictions",
   "id": "1ef9a295dcd95d2a",
   "outputs": [
    {
     "data": {
      "text/plain": [
       "     index                            label_index  \\\n",
       "0      476            Sofia_Central_Mineral_Baths   \n",
       "1      927  Patriarchal_Cathedral,_Veliko_Tarnovo   \n",
       "2      347  Patriarchal_Cathedral,_Veliko_Tarnovo   \n",
       "3      415                   Razboishte_Monastery   \n",
       "4      308                           Popovo_ezero   \n",
       "..     ...                                    ...   \n",
       "124    332                        Shumen_Fortress   \n",
       "125    342                        Asen's_Fortress   \n",
       "126    785                     Dobrostanski_biser   \n",
       "127    132                               Dzhengal   \n",
       "128    282                     Hisarlaka_Fortress   \n",
       "\n",
       "                       prediction  confidence  images_in_train  \n",
       "0    Central_Market_Hall_in_Sofia    0.999963             64.0  \n",
       "1                       Tsarevets    0.999786             48.0  \n",
       "2                       Tsarevets    0.998673             48.0  \n",
       "3              Dryanovo_Monastery    0.997069              9.0  \n",
       "4             Pirin_National_Park    0.996403             45.0  \n",
       "..                            ...         ...              ...  \n",
       "124            Baba_Vida_Fortress    0.270532             34.0  \n",
       "125     Ropotamo_(nature_reserve)    0.256573             79.0  \n",
       "126                         Pirin    0.215129              NaN  \n",
       "127                Chairski_Lakes    0.194280              8.0  \n",
       "128           Cherepish_Monastery    0.162326             31.0  \n",
       "\n",
       "[129 rows x 5 columns]"
      ],
      "text/html": [
       "<div>\n",
       "<style scoped>\n",
       "    .dataframe tbody tr th:only-of-type {\n",
       "        vertical-align: middle;\n",
       "    }\n",
       "\n",
       "    .dataframe tbody tr th {\n",
       "        vertical-align: top;\n",
       "    }\n",
       "\n",
       "    .dataframe thead th {\n",
       "        text-align: right;\n",
       "    }\n",
       "</style>\n",
       "<table border=\"1\" class=\"dataframe\">\n",
       "  <thead>\n",
       "    <tr style=\"text-align: right;\">\n",
       "      <th></th>\n",
       "      <th>index</th>\n",
       "      <th>label_index</th>\n",
       "      <th>prediction</th>\n",
       "      <th>confidence</th>\n",
       "      <th>images_in_train</th>\n",
       "    </tr>\n",
       "  </thead>\n",
       "  <tbody>\n",
       "    <tr>\n",
       "      <th>0</th>\n",
       "      <td>476</td>\n",
       "      <td>Sofia_Central_Mineral_Baths</td>\n",
       "      <td>Central_Market_Hall_in_Sofia</td>\n",
       "      <td>0.999963</td>\n",
       "      <td>64.0</td>\n",
       "    </tr>\n",
       "    <tr>\n",
       "      <th>1</th>\n",
       "      <td>927</td>\n",
       "      <td>Patriarchal_Cathedral,_Veliko_Tarnovo</td>\n",
       "      <td>Tsarevets</td>\n",
       "      <td>0.999786</td>\n",
       "      <td>48.0</td>\n",
       "    </tr>\n",
       "    <tr>\n",
       "      <th>2</th>\n",
       "      <td>347</td>\n",
       "      <td>Patriarchal_Cathedral,_Veliko_Tarnovo</td>\n",
       "      <td>Tsarevets</td>\n",
       "      <td>0.998673</td>\n",
       "      <td>48.0</td>\n",
       "    </tr>\n",
       "    <tr>\n",
       "      <th>3</th>\n",
       "      <td>415</td>\n",
       "      <td>Razboishte_Monastery</td>\n",
       "      <td>Dryanovo_Monastery</td>\n",
       "      <td>0.997069</td>\n",
       "      <td>9.0</td>\n",
       "    </tr>\n",
       "    <tr>\n",
       "      <th>4</th>\n",
       "      <td>308</td>\n",
       "      <td>Popovo_ezero</td>\n",
       "      <td>Pirin_National_Park</td>\n",
       "      <td>0.996403</td>\n",
       "      <td>45.0</td>\n",
       "    </tr>\n",
       "    <tr>\n",
       "      <th>...</th>\n",
       "      <td>...</td>\n",
       "      <td>...</td>\n",
       "      <td>...</td>\n",
       "      <td>...</td>\n",
       "      <td>...</td>\n",
       "    </tr>\n",
       "    <tr>\n",
       "      <th>124</th>\n",
       "      <td>332</td>\n",
       "      <td>Shumen_Fortress</td>\n",
       "      <td>Baba_Vida_Fortress</td>\n",
       "      <td>0.270532</td>\n",
       "      <td>34.0</td>\n",
       "    </tr>\n",
       "    <tr>\n",
       "      <th>125</th>\n",
       "      <td>342</td>\n",
       "      <td>Asen's_Fortress</td>\n",
       "      <td>Ropotamo_(nature_reserve)</td>\n",
       "      <td>0.256573</td>\n",
       "      <td>79.0</td>\n",
       "    </tr>\n",
       "    <tr>\n",
       "      <th>126</th>\n",
       "      <td>785</td>\n",
       "      <td>Dobrostanski_biser</td>\n",
       "      <td>Pirin</td>\n",
       "      <td>0.215129</td>\n",
       "      <td>NaN</td>\n",
       "    </tr>\n",
       "    <tr>\n",
       "      <th>127</th>\n",
       "      <td>132</td>\n",
       "      <td>Dzhengal</td>\n",
       "      <td>Chairski_Lakes</td>\n",
       "      <td>0.194280</td>\n",
       "      <td>8.0</td>\n",
       "    </tr>\n",
       "    <tr>\n",
       "      <th>128</th>\n",
       "      <td>282</td>\n",
       "      <td>Hisarlaka_Fortress</td>\n",
       "      <td>Cherepish_Monastery</td>\n",
       "      <td>0.162326</td>\n",
       "      <td>31.0</td>\n",
       "    </tr>\n",
       "  </tbody>\n",
       "</table>\n",
       "<p>129 rows × 5 columns</p>\n",
       "</div>"
      ]
     },
     "execution_count": 89,
     "metadata": {},
     "output_type": "execute_result"
    }
   ],
   "execution_count": 89
  },
  {
   "metadata": {},
   "cell_type": "code",
   "outputs": [],
   "execution_count": 58,
   "source": [
    "def read_csv_to_dict(csv_file_path):\n",
    "    # Read the CSV file into a DataFrame\n",
    "    df = pd.read_csv(csv_file_path)\n",
    "\n",
    "    # Convert the DataFrame to a dictionary\n",
    "    landmark_dict = df.set_index('landmark_id')['category'].to_dict()\n",
    "\n",
    "    return landmark_dict\n",
    "\n",
    "csv_file_path = BASE_PATH + '/train_label_to_category.csv'  # Replace with the path to your CSV file\n",
    "landmark_id_to_wikimedia = read_csv_to_dict(csv_file_path)"
   ],
   "id": "ffee65501736423"
  },
  {
   "metadata": {
    "ExecuteTime": {
     "end_time": "2024-07-03T15:07:49.546983Z",
     "start_time": "2024-07-03T15:07:49.394132Z"
    }
   },
   "cell_type": "code",
   "source": [
    "landmark_id_to_wikimedia_modified = {k: v.replace('http://commons.wikimedia.org/wiki/Category:', '') for k, v in landmark_id_to_wikimedia.items()}\n",
    "\n",
    "wrong_predictions['label_index'] = wrong_predictions['label_index'].map(index_to_label)\n",
    "wrong_predictions['prediction'] = wrong_predictions['prediction'].map(index_to_label)\n",
    "\n",
    "# Replace values in 'label_index' and 'prediction' columns using the modified dictionary\n",
    "wrong_predictions['label_index'] = wrong_predictions['label_index'].map(landmark_id_to_wikimedia_modified)\n",
    "wrong_predictions['prediction'] = wrong_predictions['prediction'].map(landmark_id_to_wikimedia_modified)\n",
    "\n",
    "wrong_predictions"
   ],
   "id": "aacbf83aa966d3ce",
   "outputs": [
    {
     "data": {
      "text/plain": [
       "     index                            label_index  \\\n",
       "0      476            Sofia_Central_Mineral_Baths   \n",
       "1      927  Patriarchal_Cathedral,_Veliko_Tarnovo   \n",
       "2      347  Patriarchal_Cathedral,_Veliko_Tarnovo   \n",
       "3      415                   Razboishte_Monastery   \n",
       "4      308                           Popovo_ezero   \n",
       "..     ...                                    ...   \n",
       "124    332                        Shumen_Fortress   \n",
       "125    342                        Asen's_Fortress   \n",
       "126    785                     Dobrostanski_biser   \n",
       "127    132                               Dzhengal   \n",
       "128    282                     Hisarlaka_Fortress   \n",
       "\n",
       "                       prediction  confidence  images_in_train  \n",
       "0    Central_Market_Hall_in_Sofia    0.999963             64.0  \n",
       "1                       Tsarevets    0.999786             48.0  \n",
       "2                       Tsarevets    0.998673             48.0  \n",
       "3              Dryanovo_Monastery    0.997069              9.0  \n",
       "4             Pirin_National_Park    0.996403             45.0  \n",
       "..                            ...         ...              ...  \n",
       "124            Baba_Vida_Fortress    0.270532             34.0  \n",
       "125     Ropotamo_(nature_reserve)    0.256573             79.0  \n",
       "126                         Pirin    0.215129              NaN  \n",
       "127                Chairski_Lakes    0.194280              8.0  \n",
       "128           Cherepish_Monastery    0.162326             31.0  \n",
       "\n",
       "[129 rows x 5 columns]"
      ],
      "text/html": [
       "<div>\n",
       "<style scoped>\n",
       "    .dataframe tbody tr th:only-of-type {\n",
       "        vertical-align: middle;\n",
       "    }\n",
       "\n",
       "    .dataframe tbody tr th {\n",
       "        vertical-align: top;\n",
       "    }\n",
       "\n",
       "    .dataframe thead th {\n",
       "        text-align: right;\n",
       "    }\n",
       "</style>\n",
       "<table border=\"1\" class=\"dataframe\">\n",
       "  <thead>\n",
       "    <tr style=\"text-align: right;\">\n",
       "      <th></th>\n",
       "      <th>index</th>\n",
       "      <th>label_index</th>\n",
       "      <th>prediction</th>\n",
       "      <th>confidence</th>\n",
       "      <th>images_in_train</th>\n",
       "    </tr>\n",
       "  </thead>\n",
       "  <tbody>\n",
       "    <tr>\n",
       "      <th>0</th>\n",
       "      <td>476</td>\n",
       "      <td>Sofia_Central_Mineral_Baths</td>\n",
       "      <td>Central_Market_Hall_in_Sofia</td>\n",
       "      <td>0.999963</td>\n",
       "      <td>64.0</td>\n",
       "    </tr>\n",
       "    <tr>\n",
       "      <th>1</th>\n",
       "      <td>927</td>\n",
       "      <td>Patriarchal_Cathedral,_Veliko_Tarnovo</td>\n",
       "      <td>Tsarevets</td>\n",
       "      <td>0.999786</td>\n",
       "      <td>48.0</td>\n",
       "    </tr>\n",
       "    <tr>\n",
       "      <th>2</th>\n",
       "      <td>347</td>\n",
       "      <td>Patriarchal_Cathedral,_Veliko_Tarnovo</td>\n",
       "      <td>Tsarevets</td>\n",
       "      <td>0.998673</td>\n",
       "      <td>48.0</td>\n",
       "    </tr>\n",
       "    <tr>\n",
       "      <th>3</th>\n",
       "      <td>415</td>\n",
       "      <td>Razboishte_Monastery</td>\n",
       "      <td>Dryanovo_Monastery</td>\n",
       "      <td>0.997069</td>\n",
       "      <td>9.0</td>\n",
       "    </tr>\n",
       "    <tr>\n",
       "      <th>4</th>\n",
       "      <td>308</td>\n",
       "      <td>Popovo_ezero</td>\n",
       "      <td>Pirin_National_Park</td>\n",
       "      <td>0.996403</td>\n",
       "      <td>45.0</td>\n",
       "    </tr>\n",
       "    <tr>\n",
       "      <th>...</th>\n",
       "      <td>...</td>\n",
       "      <td>...</td>\n",
       "      <td>...</td>\n",
       "      <td>...</td>\n",
       "      <td>...</td>\n",
       "    </tr>\n",
       "    <tr>\n",
       "      <th>124</th>\n",
       "      <td>332</td>\n",
       "      <td>Shumen_Fortress</td>\n",
       "      <td>Baba_Vida_Fortress</td>\n",
       "      <td>0.270532</td>\n",
       "      <td>34.0</td>\n",
       "    </tr>\n",
       "    <tr>\n",
       "      <th>125</th>\n",
       "      <td>342</td>\n",
       "      <td>Asen's_Fortress</td>\n",
       "      <td>Ropotamo_(nature_reserve)</td>\n",
       "      <td>0.256573</td>\n",
       "      <td>79.0</td>\n",
       "    </tr>\n",
       "    <tr>\n",
       "      <th>126</th>\n",
       "      <td>785</td>\n",
       "      <td>Dobrostanski_biser</td>\n",
       "      <td>Pirin</td>\n",
       "      <td>0.215129</td>\n",
       "      <td>NaN</td>\n",
       "    </tr>\n",
       "    <tr>\n",
       "      <th>127</th>\n",
       "      <td>132</td>\n",
       "      <td>Dzhengal</td>\n",
       "      <td>Chairski_Lakes</td>\n",
       "      <td>0.194280</td>\n",
       "      <td>8.0</td>\n",
       "    </tr>\n",
       "    <tr>\n",
       "      <th>128</th>\n",
       "      <td>282</td>\n",
       "      <td>Hisarlaka_Fortress</td>\n",
       "      <td>Cherepish_Monastery</td>\n",
       "      <td>0.162326</td>\n",
       "      <td>31.0</td>\n",
       "    </tr>\n",
       "  </tbody>\n",
       "</table>\n",
       "<p>129 rows × 5 columns</p>\n",
       "</div>"
      ]
     },
     "execution_count": 86,
     "metadata": {},
     "output_type": "execute_result"
    }
   ],
   "execution_count": 86
  },
  {
   "metadata": {
    "ExecuteTime": {
     "end_time": "2024-07-03T15:10:52.381027Z",
     "start_time": "2024-07-03T15:10:52.374122Z"
    }
   },
   "cell_type": "code",
   "source": [
    "# Top 10 wrong predictions\n",
    "wrong_predictions.head(10)"
   ],
   "id": "4d2070b1e34ff8",
   "outputs": [
    {
     "data": {
      "text/plain": [
       "   index                                        label_index  \\\n",
       "0    476                        Sofia_Central_Mineral_Baths   \n",
       "1    927              Patriarchal_Cathedral,_Veliko_Tarnovo   \n",
       "2    347              Patriarchal_Cathedral,_Veliko_Tarnovo   \n",
       "3    415                               Razboishte_Monastery   \n",
       "4    308                                       Popovo_ezero   \n",
       "5    493                             Covered_bridge,_Lovech   \n",
       "6    653                           Djumaya_Mosque_(Plovdiv)   \n",
       "7     34  Sts._Theodore_Tyron_%26_Theodore_Stratelates,_...   \n",
       "8    871                               Batak_History_Museum   \n",
       "9    557                                          Dzhendema   \n",
       "\n",
       "                           prediction  confidence  images_in_train  \n",
       "0        Central_Market_Hall_in_Sofia    0.999963             64.0  \n",
       "1                           Tsarevets    0.999786             48.0  \n",
       "2                           Tsarevets    0.998673             48.0  \n",
       "3                  Dryanovo_Monastery    0.997069              9.0  \n",
       "4                 Pirin_National_Park    0.996403             45.0  \n",
       "5                Mustafa_Pasha_Bridge    0.991783             27.0  \n",
       "6  %C5%9Eahabettin_%C4%B0maret_Mosque    0.984013             17.0  \n",
       "7                       Boyana_Church    0.981916              2.0  \n",
       "8                  Dryanovo_Monastery    0.980509              6.0  \n",
       "9                  Rila_National_Park    0.977789             59.0  "
      ],
      "text/html": [
       "<div>\n",
       "<style scoped>\n",
       "    .dataframe tbody tr th:only-of-type {\n",
       "        vertical-align: middle;\n",
       "    }\n",
       "\n",
       "    .dataframe tbody tr th {\n",
       "        vertical-align: top;\n",
       "    }\n",
       "\n",
       "    .dataframe thead th {\n",
       "        text-align: right;\n",
       "    }\n",
       "</style>\n",
       "<table border=\"1\" class=\"dataframe\">\n",
       "  <thead>\n",
       "    <tr style=\"text-align: right;\">\n",
       "      <th></th>\n",
       "      <th>index</th>\n",
       "      <th>label_index</th>\n",
       "      <th>prediction</th>\n",
       "      <th>confidence</th>\n",
       "      <th>images_in_train</th>\n",
       "    </tr>\n",
       "  </thead>\n",
       "  <tbody>\n",
       "    <tr>\n",
       "      <th>0</th>\n",
       "      <td>476</td>\n",
       "      <td>Sofia_Central_Mineral_Baths</td>\n",
       "      <td>Central_Market_Hall_in_Sofia</td>\n",
       "      <td>0.999963</td>\n",
       "      <td>64.0</td>\n",
       "    </tr>\n",
       "    <tr>\n",
       "      <th>1</th>\n",
       "      <td>927</td>\n",
       "      <td>Patriarchal_Cathedral,_Veliko_Tarnovo</td>\n",
       "      <td>Tsarevets</td>\n",
       "      <td>0.999786</td>\n",
       "      <td>48.0</td>\n",
       "    </tr>\n",
       "    <tr>\n",
       "      <th>2</th>\n",
       "      <td>347</td>\n",
       "      <td>Patriarchal_Cathedral,_Veliko_Tarnovo</td>\n",
       "      <td>Tsarevets</td>\n",
       "      <td>0.998673</td>\n",
       "      <td>48.0</td>\n",
       "    </tr>\n",
       "    <tr>\n",
       "      <th>3</th>\n",
       "      <td>415</td>\n",
       "      <td>Razboishte_Monastery</td>\n",
       "      <td>Dryanovo_Monastery</td>\n",
       "      <td>0.997069</td>\n",
       "      <td>9.0</td>\n",
       "    </tr>\n",
       "    <tr>\n",
       "      <th>4</th>\n",
       "      <td>308</td>\n",
       "      <td>Popovo_ezero</td>\n",
       "      <td>Pirin_National_Park</td>\n",
       "      <td>0.996403</td>\n",
       "      <td>45.0</td>\n",
       "    </tr>\n",
       "    <tr>\n",
       "      <th>5</th>\n",
       "      <td>493</td>\n",
       "      <td>Covered_bridge,_Lovech</td>\n",
       "      <td>Mustafa_Pasha_Bridge</td>\n",
       "      <td>0.991783</td>\n",
       "      <td>27.0</td>\n",
       "    </tr>\n",
       "    <tr>\n",
       "      <th>6</th>\n",
       "      <td>653</td>\n",
       "      <td>Djumaya_Mosque_(Plovdiv)</td>\n",
       "      <td>%C5%9Eahabettin_%C4%B0maret_Mosque</td>\n",
       "      <td>0.984013</td>\n",
       "      <td>17.0</td>\n",
       "    </tr>\n",
       "    <tr>\n",
       "      <th>7</th>\n",
       "      <td>34</td>\n",
       "      <td>Sts._Theodore_Tyron_%26_Theodore_Stratelates,_...</td>\n",
       "      <td>Boyana_Church</td>\n",
       "      <td>0.981916</td>\n",
       "      <td>2.0</td>\n",
       "    </tr>\n",
       "    <tr>\n",
       "      <th>8</th>\n",
       "      <td>871</td>\n",
       "      <td>Batak_History_Museum</td>\n",
       "      <td>Dryanovo_Monastery</td>\n",
       "      <td>0.980509</td>\n",
       "      <td>6.0</td>\n",
       "    </tr>\n",
       "    <tr>\n",
       "      <th>9</th>\n",
       "      <td>557</td>\n",
       "      <td>Dzhendema</td>\n",
       "      <td>Rila_National_Park</td>\n",
       "      <td>0.977789</td>\n",
       "      <td>59.0</td>\n",
       "    </tr>\n",
       "  </tbody>\n",
       "</table>\n",
       "</div>"
      ]
     },
     "execution_count": 88,
     "metadata": {},
     "output_type": "execute_result"
    }
   ],
   "execution_count": 88
  },
  {
   "metadata": {},
   "cell_type": "markdown",
   "source": "",
   "id": "5984debd583c2ba1"
  },
  {
   "metadata": {},
   "cell_type": "code",
   "outputs": [],
   "execution_count": null,
   "source": "",
   "id": "c07f74a2e18a3970"
  }
 ],
 "metadata": {
  "kernelspec": {
   "display_name": "Python 3",
   "language": "python",
   "name": "python3"
  },
  "language_info": {
   "codemirror_mode": {
    "name": "ipython",
    "version": 2
   },
   "file_extension": ".py",
   "mimetype": "text/x-python",
   "name": "python",
   "nbconvert_exporter": "python",
   "pygments_lexer": "ipython2",
   "version": "2.7.6"
  }
 },
 "nbformat": 4,
 "nbformat_minor": 5
}
