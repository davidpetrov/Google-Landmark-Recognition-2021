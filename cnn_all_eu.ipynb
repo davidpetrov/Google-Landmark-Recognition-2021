{
 "cells": [
  {
   "cell_type": "code",
   "id": "initial_id",
   "metadata": {
    "collapsed": true,
    "ExecuteTime": {
     "end_time": "2024-07-01T16:21:36.905692Z",
     "start_time": "2024-07-01T16:21:34.252332Z"
    }
   },
   "source": [
    "import pandas as pd\n",
    "import matplotlib.pyplot as plt\n",
    "from PIL import Image\n",
    "import PIL.Image\n",
    "import torch\n",
    "from torch.utils.data import Dataset, DataLoader\n",
    "import torchvision.transforms as transforms\n",
    "import torch.nn as nn\n",
    "import torch.optim as optim\n",
    "from torchsummary import summary\n",
    "from tqdm.notebook import tqdm\n",
    "import timm\n",
    "from sklearn.model_selection import train_test_split\n",
    "\n",
    "import  metrics\n",
    "import importlib\n",
    "importlib.reload(metrics)"
   ],
   "outputs": [
    {
     "data": {
      "text/plain": [
       "<module 'metrics' from '/home/david/Repos/FMI/Google-Landmark-Recognition-2021/metrics.py'>"
      ]
     },
     "execution_count": 1,
     "metadata": {},
     "output_type": "execute_result"
    }
   ],
   "execution_count": 1
  },
  {
   "metadata": {
    "ExecuteTime": {
     "end_time": "2024-07-01T18:34:43.593899Z",
     "start_time": "2024-07-01T18:34:43.584561Z"
    }
   },
   "cell_type": "code",
   "source": [
    "all_landmarks_ids = pd.read_csv(\"eu_landmarks.csv\", sep='\\t')\n",
    "print(f\"All EU countries contain {len(all_landmarks_ids)} landmarks\")"
   ],
   "id": "f8cce656505b01c6",
   "outputs": [
    {
     "name": "stdout",
     "output_type": "stream",
     "text": [
      "All EU countries contain 96245 landmarks\n"
     ]
    }
   ],
   "execution_count": 26
  },
  {
   "metadata": {
    "ExecuteTime": {
     "end_time": "2024-07-02T10:48:18.906053Z",
     "start_time": "2024-07-02T10:48:18.491430Z"
    }
   },
   "cell_type": "code",
   "source": [
    "BASE_PATH = \"/home/david/Downloads/landmark-recognition-2021\"\n",
    "\n",
    "train_df = pd.read_csv(BASE_PATH + \"/train.csv\")"
   ],
   "id": "2eafee386a15c2d0",
   "outputs": [],
   "execution_count": 63
  },
  {
   "metadata": {
    "ExecuteTime": {
     "end_time": "2024-07-02T10:48:35.956670Z",
     "start_time": "2024-07-02T10:48:35.954366Z"
    }
   },
   "cell_type": "code",
   "source": "len(train_df)",
   "id": "474dcc6a142cb682",
   "outputs": [
    {
     "data": {
      "text/plain": [
       "1580470"
      ]
     },
     "execution_count": 64,
     "metadata": {},
     "output_type": "execute_result"
    }
   ],
   "execution_count": 64
  },
  {
   "metadata": {
    "ExecuteTime": {
     "end_time": "2024-07-01T18:34:50.101234Z",
     "start_time": "2024-07-01T18:34:50.096478Z"
    }
   },
   "cell_type": "code",
   "source": [
    "print(torch.version.cuda)\n",
    "print(\"cuda available: \" + str(torch.cuda.is_available()))\n",
    "\n",
    "if torch.cuda.is_available():\n",
    "    device = torch.device('cuda')\n",
    "elif torch.backends.mps.is_available():\n",
    "    device = torch.device('mps')\n",
    "else:\n",
    "    device = torch.device('cpu')\n",
    "device"
   ],
   "id": "2717ddd4b7fb5cf4",
   "outputs": [
    {
     "name": "stdout",
     "output_type": "stream",
     "text": [
      "12.1\n",
      "cuda available: True\n"
     ]
    },
    {
     "data": {
      "text/plain": [
       "device(type='cuda')"
      ]
     },
     "execution_count": 28,
     "metadata": {},
     "output_type": "execute_result"
    }
   ],
   "execution_count": 28
  },
  {
   "metadata": {
    "ExecuteTime": {
     "end_time": "2024-07-02T11:19:58.713909Z",
     "start_time": "2024-07-02T11:19:53.622141Z"
    }
   },
   "cell_type": "code",
   "source": "eu_train_df = train_df[train_df['landmark_id'].apply(lambda lid: lid in all_landmarks_ids['landmark_id'])]",
   "id": "34f26ac2e6b7a00d",
   "outputs": [],
   "execution_count": 96
  },
  {
   "metadata": {
    "ExecuteTime": {
     "end_time": "2024-07-02T11:20:00.958464Z",
     "start_time": "2024-07-02T11:20:00.955403Z"
    }
   },
   "cell_type": "code",
   "source": "len(eu_train_df)",
   "id": "375981d8157f81a0",
   "outputs": [
    {
     "data": {
      "text/plain": [
       "745998"
      ]
     },
     "execution_count": 97,
     "metadata": {},
     "output_type": "execute_result"
    }
   ],
   "execution_count": 97
  },
  {
   "metadata": {
    "ExecuteTime": {
     "end_time": "2024-07-01T18:35:10.236754Z",
     "start_time": "2024-07-01T18:35:10.232977Z"
    }
   },
   "cell_type": "code",
   "source": [
    "class CustomCountryDataset(Dataset):\n",
    "    def __init__(self, photo_label_df, path, transform):\n",
    "        self.photo_label_df = photo_label_df\n",
    "        self.path = path\n",
    "        self.transform = transform\n",
    "\n",
    "    def __len__(self):\n",
    "        return len(self.photo_label_df)\n",
    "\n",
    "    def __getitem__(self, index):\n",
    "        row = self.photo_label_df.iloc[index]\n",
    "        image_id = row['id']\n",
    "        landmark_id_index = row['label_index']  # Use the label index\n",
    "        file = image_id + '.jpg'\n",
    "        subpath = '/'.join([char for char in image_id[0:3]])\n",
    "\n",
    "        image = PIL.Image.open(self.path + '/' + subpath + '/' + file)\n",
    "        X = self.transform(image)\n",
    "        y = torch.tensor(landmark_id_index, dtype=torch.long)\n",
    "\n",
    "        return X, y"
   ],
   "id": "16fd570afb891acb",
   "outputs": [],
   "execution_count": 33
  },
  {
   "metadata": {
    "ExecuteTime": {
     "end_time": "2024-07-01T18:35:13.278052Z",
     "start_time": "2024-07-01T18:35:13.275334Z"
    }
   },
   "cell_type": "code",
   "source": [
    "transform_to_128 = transforms.Compose([\n",
    "    transforms.Resize((128, 128)),\n",
    "    transforms.ToTensor()\n",
    "])"
   ],
   "id": "5545ed0af5950535",
   "outputs": [],
   "execution_count": 34
  },
  {
   "metadata": {
    "ExecuteTime": {
     "end_time": "2024-07-02T11:20:11.497414Z",
     "start_time": "2024-07-02T11:20:11.368218Z"
    }
   },
   "cell_type": "code",
   "source": [
    "unique_classes = eu_train_df['landmark_id'].unique()\n",
    "print(len(unique_classes))\n",
    "\n",
    "# The cross entropy loss requires the index of the class instead of the label (for example [0-len(unique_classes)-1]\n",
    "label_to_index = {label: idx for idx, label in enumerate(unique_classes)}\n",
    "\n",
    "eu_train_with_index = pd.DataFrame(eu_train_df)\n",
    "# Apply the mapping to the DataFrame\n",
    "eu_train_with_index['label_index'] = eu_train_with_index['landmark_id'].map(label_to_index)\n",
    "\n",
    "eu_train_with_index"
   ],
   "id": "521ca1a9ca34feed",
   "outputs": [
    {
     "name": "stdout",
     "output_type": "stream",
     "text": [
      "38718\n"
     ]
    },
    {
     "data": {
      "text/plain": [
       "                      id  landmark_id  label_index\n",
       "0       17660ef415d37059            1            0\n",
       "1       92b6290d571448f6            1            0\n",
       "2       cd41bf948edc0340            1            0\n",
       "3       fb09f1e98c6d2f70            1            0\n",
       "4       25c9dfc7ea69838d            7            1\n",
       "...                  ...          ...          ...\n",
       "745993  cfafe4b282f606c6        96244        38717\n",
       "745994  d926c61941895ab7        96244        38717\n",
       "745995  db9f7b6f845051ca        96244        38717\n",
       "745996  e6fcec0e56a6a305        96244        38717\n",
       "745997  f39182ce94ea04c3        96244        38717\n",
       "\n",
       "[745998 rows x 3 columns]"
      ],
      "text/html": [
       "<div>\n",
       "<style scoped>\n",
       "    .dataframe tbody tr th:only-of-type {\n",
       "        vertical-align: middle;\n",
       "    }\n",
       "\n",
       "    .dataframe tbody tr th {\n",
       "        vertical-align: top;\n",
       "    }\n",
       "\n",
       "    .dataframe thead th {\n",
       "        text-align: right;\n",
       "    }\n",
       "</style>\n",
       "<table border=\"1\" class=\"dataframe\">\n",
       "  <thead>\n",
       "    <tr style=\"text-align: right;\">\n",
       "      <th></th>\n",
       "      <th>id</th>\n",
       "      <th>landmark_id</th>\n",
       "      <th>label_index</th>\n",
       "    </tr>\n",
       "  </thead>\n",
       "  <tbody>\n",
       "    <tr>\n",
       "      <th>0</th>\n",
       "      <td>17660ef415d37059</td>\n",
       "      <td>1</td>\n",
       "      <td>0</td>\n",
       "    </tr>\n",
       "    <tr>\n",
       "      <th>1</th>\n",
       "      <td>92b6290d571448f6</td>\n",
       "      <td>1</td>\n",
       "      <td>0</td>\n",
       "    </tr>\n",
       "    <tr>\n",
       "      <th>2</th>\n",
       "      <td>cd41bf948edc0340</td>\n",
       "      <td>1</td>\n",
       "      <td>0</td>\n",
       "    </tr>\n",
       "    <tr>\n",
       "      <th>3</th>\n",
       "      <td>fb09f1e98c6d2f70</td>\n",
       "      <td>1</td>\n",
       "      <td>0</td>\n",
       "    </tr>\n",
       "    <tr>\n",
       "      <th>4</th>\n",
       "      <td>25c9dfc7ea69838d</td>\n",
       "      <td>7</td>\n",
       "      <td>1</td>\n",
       "    </tr>\n",
       "    <tr>\n",
       "      <th>...</th>\n",
       "      <td>...</td>\n",
       "      <td>...</td>\n",
       "      <td>...</td>\n",
       "    </tr>\n",
       "    <tr>\n",
       "      <th>745993</th>\n",
       "      <td>cfafe4b282f606c6</td>\n",
       "      <td>96244</td>\n",
       "      <td>38717</td>\n",
       "    </tr>\n",
       "    <tr>\n",
       "      <th>745994</th>\n",
       "      <td>d926c61941895ab7</td>\n",
       "      <td>96244</td>\n",
       "      <td>38717</td>\n",
       "    </tr>\n",
       "    <tr>\n",
       "      <th>745995</th>\n",
       "      <td>db9f7b6f845051ca</td>\n",
       "      <td>96244</td>\n",
       "      <td>38717</td>\n",
       "    </tr>\n",
       "    <tr>\n",
       "      <th>745996</th>\n",
       "      <td>e6fcec0e56a6a305</td>\n",
       "      <td>96244</td>\n",
       "      <td>38717</td>\n",
       "    </tr>\n",
       "    <tr>\n",
       "      <th>745997</th>\n",
       "      <td>f39182ce94ea04c3</td>\n",
       "      <td>96244</td>\n",
       "      <td>38717</td>\n",
       "    </tr>\n",
       "  </tbody>\n",
       "</table>\n",
       "<p>745998 rows × 3 columns</p>\n",
       "</div>"
      ]
     },
     "execution_count": 98,
     "metadata": {},
     "output_type": "execute_result"
    }
   ],
   "execution_count": 98
  },
  {
   "metadata": {
    "ExecuteTime": {
     "end_time": "2024-07-01T18:35:56.701901Z",
     "start_time": "2024-07-01T18:35:56.698080Z"
    }
   },
   "cell_type": "code",
   "source": "index_to_label = {v: k for k, v in label_to_index.items()}",
   "id": "136507709998a592",
   "outputs": [],
   "execution_count": 37
  },
  {
   "metadata": {
    "ExecuteTime": {
     "end_time": "2024-07-02T11:20:15.694233Z",
     "start_time": "2024-07-02T11:20:15.692016Z"
    }
   },
   "cell_type": "code",
   "source": "eu_train_df = eu_train_with_index",
   "id": "a605b9c8429cd209",
   "outputs": [],
   "execution_count": 99
  },
  {
   "metadata": {
    "ExecuteTime": {
     "end_time": "2024-07-01T18:36:02.839763Z",
     "start_time": "2024-07-01T18:36:02.720389Z"
    }
   },
   "cell_type": "code",
   "source": [
    "train_df, val_df = train_test_split(eu_train_df, test_size=0.1, random_state=42)\n",
    "print(f\"len(train_df)={len(train_df)}, len(val_df)={len(val_df)}\")"
   ],
   "id": "f04128fc27ade58b",
   "outputs": [
    {
     "name": "stdout",
     "output_type": "stream",
     "text": [
      "len(train_df)=671398, len(val_df)=74600\n"
     ]
    }
   ],
   "execution_count": 39
  },
  {
   "metadata": {
    "ExecuteTime": {
     "end_time": "2024-07-01T18:36:06.788412Z",
     "start_time": "2024-07-01T18:36:06.781965Z"
    }
   },
   "cell_type": "code",
   "source": [
    "unique_classes_train = train_df['label_index'].unique()\n",
    "unique_classes_val = val_df['label_index'].unique()\n",
    "len(unique_classes_train), len(unique_classes_val)"
   ],
   "id": "b632d5eac679287e",
   "outputs": [
    {
     "data": {
      "text/plain": [
       "(38686, 24430)"
      ]
     },
     "execution_count": 40,
     "metadata": {},
     "output_type": "execute_result"
    }
   ],
   "execution_count": 40
  },
  {
   "metadata": {
    "ExecuteTime": {
     "end_time": "2024-07-01T18:36:08.857223Z",
     "start_time": "2024-07-01T18:36:08.854671Z"
    }
   },
   "cell_type": "code",
   "source": [
    "train_dataset = CustomCountryDataset(\n",
    "    photo_label_df=train_df,\n",
    "    path=BASE_PATH + '/train',\n",
    "    transform=transform_to_128,\n",
    ")\n",
    "\n",
    "val_dataset = CustomCountryDataset(\n",
    "    photo_label_df=val_df,\n",
    "    path=BASE_PATH + '/train',\n",
    "    transform=transform_to_128,\n",
    ")"
   ],
   "id": "ec5832b42103fcdb",
   "outputs": [],
   "execution_count": 41
  },
  {
   "metadata": {
    "ExecuteTime": {
     "end_time": "2024-07-01T18:36:10.445207Z",
     "start_time": "2024-07-01T18:36:10.442887Z"
    }
   },
   "cell_type": "code",
   "source": "batch_size = 64",
   "id": "6f9b0540c53564cf",
   "outputs": [],
   "execution_count": 42
  },
  {
   "metadata": {
    "ExecuteTime": {
     "end_time": "2024-07-01T18:36:10.867236Z",
     "start_time": "2024-07-01T18:36:10.862473Z"
    }
   },
   "cell_type": "code",
   "source": [
    "train_dataloader = DataLoader(\n",
    "    dataset=train_dataset,\n",
    "    batch_size=batch_size,\n",
    "    shuffle=True,\n",
    ")\n",
    "\n",
    "val_dataloader = DataLoader(\n",
    "    dataset=val_dataset,\n",
    "    batch_size=batch_size,\n",
    "    shuffle=False,\n",
    ")"
   ],
   "id": "280deb26140b469e",
   "outputs": [],
   "execution_count": 43
  },
  {
   "metadata": {
    "ExecuteTime": {
     "end_time": "2024-07-01T16:22:41.801592Z",
     "start_time": "2024-07-01T16:22:41.795199Z"
    }
   },
   "cell_type": "code",
   "source": [
    "def train(model,\n",
    "          train_data_loader,\n",
    "          validation_data_loader,\n",
    "          optimizer,\n",
    "          criterion,\n",
    "          epochs,\n",
    "          train_class_labels,\n",
    "          checkpoint_path,\n",
    "          device):\n",
    "    \n",
    "    model.to(device)\n",
    "\n",
    "    results = {\n",
    "        \"train_loss\": [],\n",
    "        \"train_gap\": [],\n",
    "        \"val_loss\": [],\n",
    "        \"val_gap\": []\n",
    "    }\n",
    "    \n",
    "    best_val_gap = 0.0\n",
    "  \n",
    "    for epoch in range(epochs):\n",
    "\n",
    "        model.train()\n",
    "        running_loss = 0.0\n",
    "        \n",
    "        train_predictions = []\n",
    "        train_labels = []\n",
    "        train_confidences = []\n",
    "        \n",
    "        for images, labels in tqdm(train_data_loader, desc='Training loop'):\n",
    "            # Print labels to debug\n",
    "            # print(f\"Labels before moving to device: {labels}\")\n",
    "            # print(f\"Labels dtype: {labels.dtype}, Labels min: {labels.min()}, Labels max: {labels.max()}\")\n",
    "\n",
    "            # Ensure labels are within the valid range\n",
    "            # assert labels.min() >= 0 and labels.max() < 339, \"Label out of range\"\n",
    "\n",
    "            # Print images shape and check for NaN or Inf values\n",
    "            # print(f\"Images shape: {images.shape}\")\n",
    "            assert not torch.isnan(images).any(), \"Image tensor contains NaN\"\n",
    "            assert not torch.isinf(images).any(), \"Image tensor contains Inf\"\n",
    "\n",
    "            # Ensure images are of type float\n",
    "            images = images.float()\n",
    "            # Move inputs and labels to the device\n",
    "            images, labels = images.to(device), labels.to(device)\n",
    "\n",
    "            optimizer.zero_grad()\n",
    "            outputs = model(images)\n",
    "            loss = criterion(outputs, labels)\n",
    "            loss.backward()\n",
    "            optimizer.step()\n",
    "            running_loss += loss.item() * labels.size(0)\n",
    "            #TODO maybe we should call model.eval() here?\n",
    "            metrics.populate_confidence(train_confidences, train_labels, train_predictions, labels, outputs)\n",
    "            \n",
    "        train_loss = running_loss / len(train_data_loader.dataset)\n",
    "        train_gap, _ = metrics.gap_metric(train_confidences, train_labels, train_predictions, train_class_labels)\n",
    "        \n",
    "        results[\"train_loss\"].append(train_loss)\n",
    "        results[\"train_gap\"].append(train_gap)\n",
    "\n",
    "        # Validation phase\n",
    "        model.eval()\n",
    "        running_loss = 0.0\n",
    "        \n",
    "        val_predictions = []\n",
    "        val_labels = []\n",
    "        val_confidences = []\n",
    "        \n",
    "        with torch.no_grad():\n",
    "            for images, labels in tqdm(validation_data_loader, desc='Validation loop'):\n",
    "                # Move inputs and labels to the device\n",
    "                images, labels = images.to(device), labels.to(device)\n",
    "\n",
    "                outputs = model(images)\n",
    "                loss = criterion(outputs, labels)\n",
    "                running_loss += loss.item() * labels.size(0)\n",
    "                \n",
    "                metrics.populate_confidence(val_confidences, val_labels, val_predictions, labels, outputs)\n",
    "        valid_loss = running_loss / len(validation_data_loader.dataset)\n",
    "        valid_gap, _ = metrics.gap_metric(val_confidences, val_labels, val_predictions, train_class_labels)\n",
    "        \n",
    "        results[\"val_loss\"].append(valid_loss)\n",
    "        results[\"val_gap\"].append(valid_gap)\n",
    "\n",
    "        print(\n",
    "            f\"Epoch: {epoch + 1} | \"\n",
    "            f\"train_loss: {train_loss:.4f} | \"\n",
    "            f\"train_GAP: {train_gap:.4f} | \"\n",
    "            f\"val_loss: {valid_loss:.4f} | \"\n",
    "            f\"val_GAP: {valid_gap:.4f} \"\n",
    "        )\n",
    "        \n",
    "        # Checkpoint saving logic\n",
    "        if valid_gap > best_val_gap:\n",
    "            best_val_gap = valid_gap\n",
    "            torch.save({'epoch': epoch,\n",
    "                        'model_state_dict': model.state_dict(),\n",
    "                        'optimizer_state_dict': optimizer.state_dict(),\n",
    "                        'loss': valid_loss,\n",
    "                        'gap': valid_gap},\n",
    "                       checkpoint_path)\n",
    "\n",
    "            print(f\"Checkpoint saved at epoch {epoch+1} with validation GAP {valid_gap}\")\n",
    "\n",
    "\n",
    "    return results"
   ],
   "id": "58465294c1d3cfcc",
   "outputs": [],
   "execution_count": 19
  },
  {
   "metadata": {
    "ExecuteTime": {
     "end_time": "2024-07-01T18:36:17.270097Z",
     "start_time": "2024-07-01T18:36:17.266920Z"
    }
   },
   "cell_type": "code",
   "source": [
    "class PretrainedClassifier(nn.Module):\n",
    "    def __init__(self, pretrained_model, out_size, num_classes=53):\n",
    "        super(PretrainedClassifier, self).__init__()\n",
    "        self.base_model = timm.create_model(pretrained_model, pretrained=True)\n",
    "        self.features = nn.Sequential(*list(self.base_model.children())[:-1])\n",
    "\n",
    "        #making a classfier\n",
    "        self.classifier = nn.Linear(out_size, num_classes)\n",
    "\n",
    "    def forward(self, x):\n",
    "        x = self.features(x)\n",
    "        output = self.classifier(x)\n",
    "        return output"
   ],
   "id": "d7690a9e5eba18fc",
   "outputs": [],
   "execution_count": 44
  },
  {
   "metadata": {
    "ExecuteTime": {
     "end_time": "2024-07-01T18:36:19.980238Z",
     "start_time": "2024-07-01T18:36:19.285388Z"
    }
   },
   "cell_type": "code",
   "source": "efficient_net = PretrainedClassifier(num_classes=len(unique_classes), pretrained_model='efficientnet_b0', out_size=1280)\n",
   "id": "c498c8fef7c5a23d",
   "outputs": [],
   "execution_count": 45
  },
  {
   "metadata": {
    "ExecuteTime": {
     "end_time": "2024-07-01T18:36:19.987261Z",
     "start_time": "2024-07-01T18:36:19.981388Z"
    }
   },
   "cell_type": "code",
   "source": [
    "criterion = nn.CrossEntropyLoss()\n",
    "optimizer = optim.Adam(efficient_net.parameters(), lr=0.001)"
   ],
   "id": "2fc83fe94714f202",
   "outputs": [],
   "execution_count": 46
  },
  {
   "metadata": {
    "ExecuteTime": {
     "end_time": "2024-07-01T18:36:21.031846Z",
     "start_time": "2024-07-01T18:36:20.950459Z"
    }
   },
   "cell_type": "code",
   "source": "summary(efficient_net.to(device), (3, 128, 128))",
   "id": "bdb84fb8dae93443",
   "outputs": [
    {
     "name": "stdout",
     "output_type": "stream",
     "text": [
      "====================================================================================================\n",
      "Layer (type:depth-idx)                             Output Shape              Param #\n",
      "====================================================================================================\n",
      "├─Sequential: 1-1                                  [-1, 1280]                --\n",
      "├─EfficientNet: 1                                  []                        --\n",
      "|    └─Conv2d: 2-1                                 [-1, 32, 64, 64]          864\n",
      "├─Sequential: 1                                    []                        --\n",
      "|    └─Conv2d: 2-2                                 [-1, 32, 64, 64]          (recursive)\n",
      "├─EfficientNet: 1                                  []                        --\n",
      "|    └─BatchNormAct2d: 2-3                         [-1, 32, 64, 64]          --\n",
      "├─Sequential: 1                                    []                        --\n",
      "|    └─BatchNormAct2d: 2-4                         [-1, 32, 64, 64]          (recursive)\n",
      "├─EfficientNet: 1                                  []                        --\n",
      "|    |    └─Identity: 3-1                          [-1, 32, 64, 64]          --\n",
      "├─Sequential: 1                                    []                        --\n",
      "|    |    └─Identity: 3-2                          [-1, 32, 64, 64]          --\n",
      "├─EfficientNet: 1                                  []                        --\n",
      "|    |    └─SiLU: 3-3                              [-1, 32, 64, 64]          --\n",
      "├─Sequential: 1                                    []                        --\n",
      "|    |    └─SiLU: 3-4                              [-1, 32, 64, 64]          --\n",
      "├─EfficientNet: 1                                  []                        --\n",
      "|    └─Sequential: 2-5                             [-1, 320, 4, 4]           --\n",
      "├─Sequential: 1                                    []                        --\n",
      "|    └─Sequential: 2-6                             [-1, 320, 4, 4]           (recursive)\n",
      "├─EfficientNet: 1                                  []                        --\n",
      "|    |    └─Sequential: 3-5                        [-1, 16, 64, 64]          1,448\n",
      "├─Sequential: 1                                    []                        --\n",
      "|    |    └─Sequential: 3-6                        [-1, 16, 64, 64]          (recursive)\n",
      "├─EfficientNet: 1                                  []                        --\n",
      "|    |    └─Sequential: 3-7                        [-1, 24, 32, 32]          16,714\n",
      "├─Sequential: 1                                    []                        --\n",
      "|    |    └─Sequential: 3-8                        [-1, 24, 32, 32]          (recursive)\n",
      "├─EfficientNet: 1                                  []                        --\n",
      "|    |    └─Sequential: 3-9                        [-1, 40, 16, 16]          46,640\n",
      "├─Sequential: 1                                    []                        --\n",
      "|    |    └─Sequential: 3-10                       [-1, 40, 16, 16]          (recursive)\n",
      "├─EfficientNet: 1                                  []                        --\n",
      "|    |    └─Sequential: 3-11                       [-1, 80, 8, 8]            242,930\n",
      "├─Sequential: 1                                    []                        --\n",
      "|    |    └─Sequential: 3-12                       [-1, 80, 8, 8]            (recursive)\n",
      "├─EfficientNet: 1                                  []                        --\n",
      "|    |    └─Sequential: 3-13                       [-1, 112, 8, 8]           543,148\n",
      "├─Sequential: 1                                    []                        --\n",
      "|    |    └─Sequential: 3-14                       [-1, 112, 8, 8]           (recursive)\n",
      "├─EfficientNet: 1                                  []                        --\n",
      "|    |    └─Sequential: 3-15                       [-1, 192, 4, 4]           2,026,348\n",
      "├─Sequential: 1                                    []                        --\n",
      "|    |    └─Sequential: 3-16                       [-1, 192, 4, 4]           (recursive)\n",
      "├─EfficientNet: 1                                  []                        --\n",
      "|    |    └─Sequential: 3-17                       [-1, 320, 4, 4]           717,232\n",
      "├─Sequential: 1                                    []                        --\n",
      "|    |    └─Sequential: 3-18                       [-1, 320, 4, 4]           (recursive)\n",
      "├─EfficientNet: 1                                  []                        --\n",
      "|    └─Conv2d: 2-7                                 [-1, 1280, 4, 4]          409,600\n",
      "├─Sequential: 1                                    []                        --\n",
      "|    └─Conv2d: 2-8                                 [-1, 1280, 4, 4]          (recursive)\n",
      "├─EfficientNet: 1                                  []                        --\n",
      "|    └─BatchNormAct2d: 2-9                         [-1, 1280, 4, 4]          --\n",
      "├─Sequential: 1                                    []                        --\n",
      "|    └─BatchNormAct2d: 2-10                        [-1, 1280, 4, 4]          (recursive)\n",
      "├─EfficientNet: 1                                  []                        --\n",
      "|    |    └─Identity: 3-19                         [-1, 1280, 4, 4]          --\n",
      "├─Sequential: 1                                    []                        --\n",
      "|    |    └─Identity: 3-20                         [-1, 1280, 4, 4]          --\n",
      "├─EfficientNet: 1                                  []                        --\n",
      "|    |    └─SiLU: 3-21                             [-1, 1280, 4, 4]          --\n",
      "├─Sequential: 1                                    []                        --\n",
      "|    |    └─SiLU: 3-22                             [-1, 1280, 4, 4]          --\n",
      "├─EfficientNet: 1                                  []                        --\n",
      "|    └─SelectAdaptivePool2d: 2-11                  [-1, 1280]                --\n",
      "├─Sequential: 1                                    []                        --\n",
      "|    └─SelectAdaptivePool2d: 2-12                  [-1, 1280]                --\n",
      "├─EfficientNet: 1                                  []                        --\n",
      "|    |    └─AdaptiveAvgPool2d: 3-23                [-1, 1280, 1, 1]          --\n",
      "├─Sequential: 1                                    []                        --\n",
      "|    |    └─AdaptiveAvgPool2d: 3-24                [-1, 1280, 1, 1]          --\n",
      "├─EfficientNet: 1                                  []                        --\n",
      "|    |    └─Flatten: 3-25                          [-1, 1280]                --\n",
      "├─Sequential: 1                                    []                        --\n",
      "|    |    └─Flatten: 3-26                          [-1, 1280]                --\n",
      "├─Linear: 1-2                                      [-1, 38718]               49,597,758\n",
      "====================================================================================================\n",
      "Total params: 53,602,682\n",
      "Trainable params: 53,602,682\n",
      "Non-trainable params: 0\n",
      "Total mult-adds (M): 95.12\n",
      "====================================================================================================\n",
      "Input size (MB): 0.19\n",
      "Forward/backward pass size (MB): 1.45\n",
      "Params size (MB): 204.48\n",
      "Estimated Total Size (MB): 206.12\n",
      "====================================================================================================\n"
     ]
    },
    {
     "data": {
      "text/plain": [
       "====================================================================================================\n",
       "Layer (type:depth-idx)                             Output Shape              Param #\n",
       "====================================================================================================\n",
       "├─Sequential: 1-1                                  [-1, 1280]                --\n",
       "├─EfficientNet: 1                                  []                        --\n",
       "|    └─Conv2d: 2-1                                 [-1, 32, 64, 64]          864\n",
       "├─Sequential: 1                                    []                        --\n",
       "|    └─Conv2d: 2-2                                 [-1, 32, 64, 64]          (recursive)\n",
       "├─EfficientNet: 1                                  []                        --\n",
       "|    └─BatchNormAct2d: 2-3                         [-1, 32, 64, 64]          --\n",
       "├─Sequential: 1                                    []                        --\n",
       "|    └─BatchNormAct2d: 2-4                         [-1, 32, 64, 64]          (recursive)\n",
       "├─EfficientNet: 1                                  []                        --\n",
       "|    |    └─Identity: 3-1                          [-1, 32, 64, 64]          --\n",
       "├─Sequential: 1                                    []                        --\n",
       "|    |    └─Identity: 3-2                          [-1, 32, 64, 64]          --\n",
       "├─EfficientNet: 1                                  []                        --\n",
       "|    |    └─SiLU: 3-3                              [-1, 32, 64, 64]          --\n",
       "├─Sequential: 1                                    []                        --\n",
       "|    |    └─SiLU: 3-4                              [-1, 32, 64, 64]          --\n",
       "├─EfficientNet: 1                                  []                        --\n",
       "|    └─Sequential: 2-5                             [-1, 320, 4, 4]           --\n",
       "├─Sequential: 1                                    []                        --\n",
       "|    └─Sequential: 2-6                             [-1, 320, 4, 4]           (recursive)\n",
       "├─EfficientNet: 1                                  []                        --\n",
       "|    |    └─Sequential: 3-5                        [-1, 16, 64, 64]          1,448\n",
       "├─Sequential: 1                                    []                        --\n",
       "|    |    └─Sequential: 3-6                        [-1, 16, 64, 64]          (recursive)\n",
       "├─EfficientNet: 1                                  []                        --\n",
       "|    |    └─Sequential: 3-7                        [-1, 24, 32, 32]          16,714\n",
       "├─Sequential: 1                                    []                        --\n",
       "|    |    └─Sequential: 3-8                        [-1, 24, 32, 32]          (recursive)\n",
       "├─EfficientNet: 1                                  []                        --\n",
       "|    |    └─Sequential: 3-9                        [-1, 40, 16, 16]          46,640\n",
       "├─Sequential: 1                                    []                        --\n",
       "|    |    └─Sequential: 3-10                       [-1, 40, 16, 16]          (recursive)\n",
       "├─EfficientNet: 1                                  []                        --\n",
       "|    |    └─Sequential: 3-11                       [-1, 80, 8, 8]            242,930\n",
       "├─Sequential: 1                                    []                        --\n",
       "|    |    └─Sequential: 3-12                       [-1, 80, 8, 8]            (recursive)\n",
       "├─EfficientNet: 1                                  []                        --\n",
       "|    |    └─Sequential: 3-13                       [-1, 112, 8, 8]           543,148\n",
       "├─Sequential: 1                                    []                        --\n",
       "|    |    └─Sequential: 3-14                       [-1, 112, 8, 8]           (recursive)\n",
       "├─EfficientNet: 1                                  []                        --\n",
       "|    |    └─Sequential: 3-15                       [-1, 192, 4, 4]           2,026,348\n",
       "├─Sequential: 1                                    []                        --\n",
       "|    |    └─Sequential: 3-16                       [-1, 192, 4, 4]           (recursive)\n",
       "├─EfficientNet: 1                                  []                        --\n",
       "|    |    └─Sequential: 3-17                       [-1, 320, 4, 4]           717,232\n",
       "├─Sequential: 1                                    []                        --\n",
       "|    |    └─Sequential: 3-18                       [-1, 320, 4, 4]           (recursive)\n",
       "├─EfficientNet: 1                                  []                        --\n",
       "|    └─Conv2d: 2-7                                 [-1, 1280, 4, 4]          409,600\n",
       "├─Sequential: 1                                    []                        --\n",
       "|    └─Conv2d: 2-8                                 [-1, 1280, 4, 4]          (recursive)\n",
       "├─EfficientNet: 1                                  []                        --\n",
       "|    └─BatchNormAct2d: 2-9                         [-1, 1280, 4, 4]          --\n",
       "├─Sequential: 1                                    []                        --\n",
       "|    └─BatchNormAct2d: 2-10                        [-1, 1280, 4, 4]          (recursive)\n",
       "├─EfficientNet: 1                                  []                        --\n",
       "|    |    └─Identity: 3-19                         [-1, 1280, 4, 4]          --\n",
       "├─Sequential: 1                                    []                        --\n",
       "|    |    └─Identity: 3-20                         [-1, 1280, 4, 4]          --\n",
       "├─EfficientNet: 1                                  []                        --\n",
       "|    |    └─SiLU: 3-21                             [-1, 1280, 4, 4]          --\n",
       "├─Sequential: 1                                    []                        --\n",
       "|    |    └─SiLU: 3-22                             [-1, 1280, 4, 4]          --\n",
       "├─EfficientNet: 1                                  []                        --\n",
       "|    └─SelectAdaptivePool2d: 2-11                  [-1, 1280]                --\n",
       "├─Sequential: 1                                    []                        --\n",
       "|    └─SelectAdaptivePool2d: 2-12                  [-1, 1280]                --\n",
       "├─EfficientNet: 1                                  []                        --\n",
       "|    |    └─AdaptiveAvgPool2d: 3-23                [-1, 1280, 1, 1]          --\n",
       "├─Sequential: 1                                    []                        --\n",
       "|    |    └─AdaptiveAvgPool2d: 3-24                [-1, 1280, 1, 1]          --\n",
       "├─EfficientNet: 1                                  []                        --\n",
       "|    |    └─Flatten: 3-25                          [-1, 1280]                --\n",
       "├─Sequential: 1                                    []                        --\n",
       "|    |    └─Flatten: 3-26                          [-1, 1280]                --\n",
       "├─Linear: 1-2                                      [-1, 38718]               49,597,758\n",
       "====================================================================================================\n",
       "Total params: 53,602,682\n",
       "Trainable params: 53,602,682\n",
       "Non-trainable params: 0\n",
       "Total mult-adds (M): 95.12\n",
       "====================================================================================================\n",
       "Input size (MB): 0.19\n",
       "Forward/backward pass size (MB): 1.45\n",
       "Params size (MB): 204.48\n",
       "Estimated Total Size (MB): 206.12\n",
       "===================================================================================================="
      ]
     },
     "execution_count": 47,
     "metadata": {},
     "output_type": "execute_result"
    }
   ],
   "execution_count": 47
  },
  {
   "metadata": {
    "ExecuteTime": {
     "end_time": "2024-07-01T18:36:25.374641Z",
     "start_time": "2024-07-01T18:36:25.371247Z"
    }
   },
   "cell_type": "code",
   "source": [
    "def plot_loss_curves(results):\n",
    "\n",
    "    loss = results[\"train_loss\"]\n",
    "    test_loss = results[\"val_loss\"]\n",
    "\n",
    "    accuracy = results[\"train_gap\"]\n",
    "    test_accuracy = results[\"val_gap\"]\n",
    "\n",
    "    epochs = range(len(results[\"train_loss\"]))\n",
    "\n",
    "    plt.figure(figsize=(15, 7))\n",
    "\n",
    "    plt.subplot(1, 2, 1)\n",
    "    plt.plot(epochs, loss, label=\"train_loss\")\n",
    "    plt.plot(epochs, test_loss, label=\"val_loss\")\n",
    "    plt.title(\"Loss\")\n",
    "    plt.xlabel(\"Epochs\")\n",
    "    plt.legend()\n",
    "\n",
    "    plt.subplot(1, 2, 2)\n",
    "    plt.plot(epochs, accuracy, label=\"train_GAP\")\n",
    "    plt.plot(epochs, test_accuracy, label=\"val_GAP\")\n",
    "    plt.title(\"GAP\")\n",
    "    plt.xlabel(\"Epochs\")\n",
    "    plt.legend()"
   ],
   "id": "ea619b4c857369b9",
   "outputs": [],
   "execution_count": 48
  },
  {
   "metadata": {
    "ExecuteTime": {
     "end_time": "2024-07-02T07:29:30.439780Z",
     "start_time": "2024-07-01T18:36:26.841223Z"
    }
   },
   "cell_type": "code",
   "source": [
    "results = train(efficient_net, train_dataloader, val_dataloader, optimizer, criterion, epochs=10,\n",
    "                train_class_labels=unique_classes_train, checkpoint_path='models/eu_efficient-net_128', device=device)"
   ],
   "id": "7486c1f9185bdad6",
   "outputs": [
    {
     "data": {
      "text/plain": [
       "Training loop:   0%|          | 0/10491 [00:00<?, ?it/s]"
      ],
      "application/vnd.jupyter.widget-view+json": {
       "version_major": 2,
       "version_minor": 0,
       "model_id": "e0857cff448e46209e19ec6dab190abf"
      }
     },
     "metadata": {},
     "output_type": "display_data"
    },
    {
     "data": {
      "text/plain": [
       "Validation loop:   0%|          | 0/1166 [00:00<?, ?it/s]"
      ],
      "application/vnd.jupyter.widget-view+json": {
       "version_major": 2,
       "version_minor": 0,
       "model_id": "b86fd47e91b44b718e087a0b338b161b"
      }
     },
     "metadata": {},
     "output_type": "display_data"
    },
    {
     "name": "stdout",
     "output_type": "stream",
     "text": [
      "Epoch: 1 | train_loss: 5.5368 | train_GAP: 0.1958 | val_loss: 3.0262 | val_GAP: 0.4193 \n",
      "Checkpoint saved at epoch 1 with validation GAP 0.41933540836029576\n"
     ]
    },
    {
     "data": {
      "text/plain": [
       "Training loop:   0%|          | 0/10491 [00:00<?, ?it/s]"
      ],
      "application/vnd.jupyter.widget-view+json": {
       "version_major": 2,
       "version_minor": 0,
       "model_id": "bcd472bad3d74651a84f38d1afa2edeb"
      }
     },
     "metadata": {},
     "output_type": "display_data"
    },
    {
     "data": {
      "text/plain": [
       "Validation loop:   0%|          | 0/1166 [00:00<?, ?it/s]"
      ],
      "application/vnd.jupyter.widget-view+json": {
       "version_major": 2,
       "version_minor": 0,
       "model_id": "a6b18c51e9274ce7b8a2bdcef3090536"
      }
     },
     "metadata": {},
     "output_type": "display_data"
    },
    {
     "name": "stdout",
     "output_type": "stream",
     "text": [
      "Epoch: 2 | train_loss: 1.7677 | train_GAP: 0.6083 | val_loss: 1.9947 | val_GAP: 0.5921 \n",
      "Checkpoint saved at epoch 2 with validation GAP 0.5921202902004055\n"
     ]
    },
    {
     "data": {
      "text/plain": [
       "Training loop:   0%|          | 0/10491 [00:00<?, ?it/s]"
      ],
      "application/vnd.jupyter.widget-view+json": {
       "version_major": 2,
       "version_minor": 0,
       "model_id": "05ce19a0cafb4e32bfbdb39b616d03f8"
      }
     },
     "metadata": {},
     "output_type": "display_data"
    },
    {
     "data": {
      "text/plain": [
       "Validation loop:   0%|          | 0/1166 [00:00<?, ?it/s]"
      ],
      "application/vnd.jupyter.widget-view+json": {
       "version_major": 2,
       "version_minor": 0,
       "model_id": "c4170f4c4eb54cd2ab83995bcd732004"
      }
     },
     "metadata": {},
     "output_type": "display_data"
    },
    {
     "name": "stdout",
     "output_type": "stream",
     "text": [
      "Epoch: 3 | train_loss: 0.7744 | train_GAP: 0.8042 | val_loss: 1.8448 | val_GAP: 0.6292 \n",
      "Checkpoint saved at epoch 3 with validation GAP 0.6291956683801601\n"
     ]
    },
    {
     "data": {
      "text/plain": [
       "Training loop:   0%|          | 0/10491 [00:00<?, ?it/s]"
      ],
      "application/vnd.jupyter.widget-view+json": {
       "version_major": 2,
       "version_minor": 0,
       "model_id": "538ba5da4c744097ad002e4d98ae7f16"
      }
     },
     "metadata": {},
     "output_type": "display_data"
    },
    {
     "data": {
      "text/plain": [
       "Validation loop:   0%|          | 0/1166 [00:00<?, ?it/s]"
      ],
      "application/vnd.jupyter.widget-view+json": {
       "version_major": 2,
       "version_minor": 0,
       "model_id": "381d9d3e3a6e477ea3aa6db7e4c8f021"
      }
     },
     "metadata": {},
     "output_type": "display_data"
    },
    {
     "name": "stdout",
     "output_type": "stream",
     "text": [
      "Epoch: 4 | train_loss: 0.4263 | train_GAP: 0.8845 | val_loss: 1.8303 | val_GAP: 0.6501 \n",
      "Checkpoint saved at epoch 4 with validation GAP 0.650050964503398\n"
     ]
    },
    {
     "data": {
      "text/plain": [
       "Training loop:   0%|          | 0/10491 [00:00<?, ?it/s]"
      ],
      "application/vnd.jupyter.widget-view+json": {
       "version_major": 2,
       "version_minor": 0,
       "model_id": "951b51b5b07849d3993a57a48320bd43"
      }
     },
     "metadata": {},
     "output_type": "display_data"
    },
    {
     "data": {
      "text/plain": [
       "Validation loop:   0%|          | 0/1166 [00:00<?, ?it/s]"
      ],
      "application/vnd.jupyter.widget-view+json": {
       "version_major": 2,
       "version_minor": 0,
       "model_id": "8a8598a710f24af7a2d0561a08753f1c"
      }
     },
     "metadata": {},
     "output_type": "display_data"
    },
    {
     "name": "stdout",
     "output_type": "stream",
     "text": [
      "Epoch: 5 | train_loss: 0.2740 | train_GAP: 0.9228 | val_loss: 1.8299 | val_GAP: 0.6615 \n",
      "Checkpoint saved at epoch 5 with validation GAP 0.6615481342334019\n"
     ]
    },
    {
     "data": {
      "text/plain": [
       "Training loop:   0%|          | 0/10491 [00:00<?, ?it/s]"
      ],
      "application/vnd.jupyter.widget-view+json": {
       "version_major": 2,
       "version_minor": 0,
       "model_id": "bad74be73e1246e890673807b25e572d"
      }
     },
     "metadata": {},
     "output_type": "display_data"
    },
    {
     "data": {
      "text/plain": [
       "Validation loop:   0%|          | 0/1166 [00:00<?, ?it/s]"
      ],
      "application/vnd.jupyter.widget-view+json": {
       "version_major": 2,
       "version_minor": 0,
       "model_id": "c67209a879514585afe1e7dc0a947b30"
      }
     },
     "metadata": {},
     "output_type": "display_data"
    },
    {
     "name": "stdout",
     "output_type": "stream",
     "text": [
      "Epoch: 6 | train_loss: 0.1928 | train_GAP: 0.9447 | val_loss: 1.8630 | val_GAP: 0.6659 \n",
      "Checkpoint saved at epoch 6 with validation GAP 0.6659428963707188\n"
     ]
    },
    {
     "data": {
      "text/plain": [
       "Training loop:   0%|          | 0/10491 [00:00<?, ?it/s]"
      ],
      "application/vnd.jupyter.widget-view+json": {
       "version_major": 2,
       "version_minor": 0,
       "model_id": "0e47ca3b15fc41888799a61802258da9"
      }
     },
     "metadata": {},
     "output_type": "display_data"
    },
    {
     "data": {
      "text/plain": [
       "Validation loop:   0%|          | 0/1166 [00:00<?, ?it/s]"
      ],
      "application/vnd.jupyter.widget-view+json": {
       "version_major": 2,
       "version_minor": 0,
       "model_id": "f03a1a0eccf5497aa515621470da4ac2"
      }
     },
     "metadata": {},
     "output_type": "display_data"
    },
    {
     "name": "stdout",
     "output_type": "stream",
     "text": [
      "Epoch: 7 | train_loss: 0.1465 | train_GAP: 0.9572 | val_loss: 1.9137 | val_GAP: 0.6678 \n",
      "Checkpoint saved at epoch 7 with validation GAP 0.6677571165888733\n"
     ]
    },
    {
     "data": {
      "text/plain": [
       "Training loop:   0%|          | 0/10491 [00:00<?, ?it/s]"
      ],
      "application/vnd.jupyter.widget-view+json": {
       "version_major": 2,
       "version_minor": 0,
       "model_id": "62d6fb2e37b9482f9d46380cf47f16d9"
      }
     },
     "metadata": {},
     "output_type": "display_data"
    },
    {
     "data": {
      "text/plain": [
       "Validation loop:   0%|          | 0/1166 [00:00<?, ?it/s]"
      ],
      "application/vnd.jupyter.widget-view+json": {
       "version_major": 2,
       "version_minor": 0,
       "model_id": "0ccab2d7c57849fa8b070c3eadf3a5a0"
      }
     },
     "metadata": {},
     "output_type": "display_data"
    },
    {
     "name": "stdout",
     "output_type": "stream",
     "text": [
      "Epoch: 8 | train_loss: 0.1178 | train_GAP: 0.9654 | val_loss: 1.9220 | val_GAP: 0.6721 \n",
      "Checkpoint saved at epoch 8 with validation GAP 0.6721033638365835\n"
     ]
    },
    {
     "data": {
      "text/plain": [
       "Training loop:   0%|          | 0/10491 [00:00<?, ?it/s]"
      ],
      "application/vnd.jupyter.widget-view+json": {
       "version_major": 2,
       "version_minor": 0,
       "model_id": "61cdc78a0fe24f65b0f48b6c2691ffaa"
      }
     },
     "metadata": {},
     "output_type": "display_data"
    },
    {
     "data": {
      "text/plain": [
       "Validation loop:   0%|          | 0/1166 [00:00<?, ?it/s]"
      ],
      "application/vnd.jupyter.widget-view+json": {
       "version_major": 2,
       "version_minor": 0,
       "model_id": "49ff9432f9bd44df91f02affd2e264b8"
      }
     },
     "metadata": {},
     "output_type": "display_data"
    },
    {
     "name": "stdout",
     "output_type": "stream",
     "text": [
      "Epoch: 9 | train_loss: 0.0968 | train_GAP: 0.9714 | val_loss: 1.9901 | val_GAP: 0.6684 \n"
     ]
    },
    {
     "data": {
      "text/plain": [
       "Training loop:   0%|          | 0/10491 [00:00<?, ?it/s]"
      ],
      "application/vnd.jupyter.widget-view+json": {
       "version_major": 2,
       "version_minor": 0,
       "model_id": "1d6b4cf1be0244e0835939a2b67113ac"
      }
     },
     "metadata": {},
     "output_type": "display_data"
    },
    {
     "data": {
      "text/plain": [
       "Validation loop:   0%|          | 0/1166 [00:00<?, ?it/s]"
      ],
      "application/vnd.jupyter.widget-view+json": {
       "version_major": 2,
       "version_minor": 0,
       "model_id": "708addd025214fdda45faa82d3bbd3dc"
      }
     },
     "metadata": {},
     "output_type": "display_data"
    },
    {
     "name": "stdout",
     "output_type": "stream",
     "text": [
      "Epoch: 10 | train_loss: 0.0832 | train_GAP: 0.9754 | val_loss: 1.9750 | val_GAP: 0.6746 \n",
      "Checkpoint saved at epoch 10 with validation GAP 0.6745787317131153\n"
     ]
    }
   ],
   "execution_count": 49
  },
  {
   "metadata": {
    "ExecuteTime": {
     "end_time": "2024-07-02T08:47:39.178368Z",
     "start_time": "2024-07-02T08:47:36.661798Z"
    }
   },
   "cell_type": "code",
   "source": "plot_loss_curves(results)",
   "id": "a35633175c8019bd",
   "outputs": [
    {
     "data": {
      "text/plain": [
       "<Figure size 1500x700 with 2 Axes>"
      ],
      "image/png": "[encoded data removed]"
     },
     "metadata": {},
     "output_type": "display_data"
    }
   ],
   "execution_count": 50
  },
  {
   "metadata": {
    "ExecuteTime": {
     "end_time": "2024-07-02T10:31:44.629531Z",
     "start_time": "2024-07-02T10:31:44.626756Z"
    }
   },
   "cell_type": "code",
   "source": [
    "# Let's see how well the model on all EU dataset predicts on the bulgarian validation\n",
    "bg_landmarks_ids = pd.read_csv(\"bg_landmarks.csv\", sep='\\t')\n",
    "print(f\"BG contains {len(bg_landmarks_ids)} landmarks\")"
   ],
   "id": "b0f9639ccbecb516",
   "outputs": [
    {
     "name": "stdout",
     "output_type": "stream",
     "text": [
      "BG contains 658 landmarks\n"
     ]
    }
   ],
   "execution_count": 52
  },
  {
   "metadata": {
    "ExecuteTime": {
     "end_time": "2024-07-02T11:44:22.059401Z",
     "start_time": "2024-07-02T11:44:22.045689Z"
    }
   },
   "cell_type": "code",
   "source": [
    "bg_train_df = train_df[train_df['landmark_id'].isin(bg_landmarks_ids['landmark_id'])]\n",
    "len(bg_train_df)"
   ],
   "id": "adfa05557a36a930",
   "outputs": [
    {
     "data": {
      "text/plain": [
       "9418"
      ]
     },
     "execution_count": 116,
     "metadata": {},
     "output_type": "execute_result"
    }
   ],
   "execution_count": 116
  },
  {
   "metadata": {
    "ExecuteTime": {
     "end_time": "2024-07-02T11:00:55.992981Z",
     "start_time": "2024-07-02T11:00:55.988223Z"
    }
   },
   "cell_type": "code",
   "source": "bg_train_df",
   "id": "e61e4d8cc15fa219",
   "outputs": [
    {
     "data": {
      "text/plain": [
       "                       id  landmark_id\n",
       "3959     4db638f8d0dc1ce2          481\n",
       "3960     4e454120ba3bfb36          481\n",
       "3961     69ba8a4a5ecc9c61          481\n",
       "3962     81dc5e647b5e9c8b          481\n",
       "3963     a893e44faf1e9640          481\n",
       "...                   ...          ...\n",
       "1580097  c58c445a89cc7ca9       203034\n",
       "1580098  c9d6a8aa86d1fce5       203034\n",
       "1580099  cc4cfcfce95fc633       203034\n",
       "1580100  e48bf94f91142d96       203034\n",
       "1580101  f8aff963e1fd2246       203034\n",
       "\n",
       "[9418 rows x 2 columns]"
      ],
      "text/html": [
       "<div>\n",
       "<style scoped>\n",
       "    .dataframe tbody tr th:only-of-type {\n",
       "        vertical-align: middle;\n",
       "    }\n",
       "\n",
       "    .dataframe tbody tr th {\n",
       "        vertical-align: top;\n",
       "    }\n",
       "\n",
       "    .dataframe thead th {\n",
       "        text-align: right;\n",
       "    }\n",
       "</style>\n",
       "<table border=\"1\" class=\"dataframe\">\n",
       "  <thead>\n",
       "    <tr style=\"text-align: right;\">\n",
       "      <th></th>\n",
       "      <th>id</th>\n",
       "      <th>landmark_id</th>\n",
       "    </tr>\n",
       "  </thead>\n",
       "  <tbody>\n",
       "    <tr>\n",
       "      <th>3959</th>\n",
       "      <td>4db638f8d0dc1ce2</td>\n",
       "      <td>481</td>\n",
       "    </tr>\n",
       "    <tr>\n",
       "      <th>3960</th>\n",
       "      <td>4e454120ba3bfb36</td>\n",
       "      <td>481</td>\n",
       "    </tr>\n",
       "    <tr>\n",
       "      <th>3961</th>\n",
       "      <td>69ba8a4a5ecc9c61</td>\n",
       "      <td>481</td>\n",
       "    </tr>\n",
       "    <tr>\n",
       "      <th>3962</th>\n",
       "      <td>81dc5e647b5e9c8b</td>\n",
       "      <td>481</td>\n",
       "    </tr>\n",
       "    <tr>\n",
       "      <th>3963</th>\n",
       "      <td>a893e44faf1e9640</td>\n",
       "      <td>481</td>\n",
       "    </tr>\n",
       "    <tr>\n",
       "      <th>...</th>\n",
       "      <td>...</td>\n",
       "      <td>...</td>\n",
       "    </tr>\n",
       "    <tr>\n",
       "      <th>1580097</th>\n",
       "      <td>c58c445a89cc7ca9</td>\n",
       "      <td>203034</td>\n",
       "    </tr>\n",
       "    <tr>\n",
       "      <th>1580098</th>\n",
       "      <td>c9d6a8aa86d1fce5</td>\n",
       "      <td>203034</td>\n",
       "    </tr>\n",
       "    <tr>\n",
       "      <th>1580099</th>\n",
       "      <td>cc4cfcfce95fc633</td>\n",
       "      <td>203034</td>\n",
       "    </tr>\n",
       "    <tr>\n",
       "      <th>1580100</th>\n",
       "      <td>e48bf94f91142d96</td>\n",
       "      <td>203034</td>\n",
       "    </tr>\n",
       "    <tr>\n",
       "      <th>1580101</th>\n",
       "      <td>f8aff963e1fd2246</td>\n",
       "      <td>203034</td>\n",
       "    </tr>\n",
       "  </tbody>\n",
       "</table>\n",
       "<p>9418 rows × 2 columns</p>\n",
       "</div>"
      ]
     },
     "execution_count": 85,
     "metadata": {},
     "output_type": "execute_result"
    }
   ],
   "execution_count": 85
  },
  {
   "metadata": {
    "ExecuteTime": {
     "end_time": "2024-07-02T11:21:08.670879Z",
     "start_time": "2024-07-02T11:21:08.664565Z"
    }
   },
   "cell_type": "code",
   "source": "val_df",
   "id": "4396ea68f03852d9",
   "outputs": [
    {
     "data": {
      "text/plain": [
       "                      id  landmark_id  label_index\n",
       "690522  5a864297679dfab6        88553        35635\n",
       "70853   27301e7ca03d09aa         9073         3649\n",
       "17759   9fcbec55a86888b0         2260          892\n",
       "64914   6513741e6ef25e11         8333         3355\n",
       "376084  3cccf83e8649c6bc        47380        19172\n",
       "...                  ...          ...          ...\n",
       "414891  a01da4b748750ab5        52176        21128\n",
       "37118   a09fbdab9f32adf3         4733         1898\n",
       "540619  96e5da179151d99b        68974        27848\n",
       "646557  089383eebd0d6e24        83139        33459\n",
       "191216  5dbaa96bb8a3e545        24814         9991\n",
       "\n",
       "[74600 rows x 3 columns]"
      ],
      "text/html": [
       "<div>\n",
       "<style scoped>\n",
       "    .dataframe tbody tr th:only-of-type {\n",
       "        vertical-align: middle;\n",
       "    }\n",
       "\n",
       "    .dataframe tbody tr th {\n",
       "        vertical-align: top;\n",
       "    }\n",
       "\n",
       "    .dataframe thead th {\n",
       "        text-align: right;\n",
       "    }\n",
       "</style>\n",
       "<table border=\"1\" class=\"dataframe\">\n",
       "  <thead>\n",
       "    <tr style=\"text-align: right;\">\n",
       "      <th></th>\n",
       "      <th>id</th>\n",
       "      <th>landmark_id</th>\n",
       "      <th>label_index</th>\n",
       "    </tr>\n",
       "  </thead>\n",
       "  <tbody>\n",
       "    <tr>\n",
       "      <th>690522</th>\n",
       "      <td>5a864297679dfab6</td>\n",
       "      <td>88553</td>\n",
       "      <td>35635</td>\n",
       "    </tr>\n",
       "    <tr>\n",
       "      <th>70853</th>\n",
       "      <td>27301e7ca03d09aa</td>\n",
       "      <td>9073</td>\n",
       "      <td>3649</td>\n",
       "    </tr>\n",
       "    <tr>\n",
       "      <th>17759</th>\n",
       "      <td>9fcbec55a86888b0</td>\n",
       "      <td>2260</td>\n",
       "      <td>892</td>\n",
       "    </tr>\n",
       "    <tr>\n",
       "      <th>64914</th>\n",
       "      <td>6513741e6ef25e11</td>\n",
       "      <td>8333</td>\n",
       "      <td>3355</td>\n",
       "    </tr>\n",
       "    <tr>\n",
       "      <th>376084</th>\n",
       "      <td>3cccf83e8649c6bc</td>\n",
       "      <td>47380</td>\n",
       "      <td>19172</td>\n",
       "    </tr>\n",
       "    <tr>\n",
       "      <th>...</th>\n",
       "      <td>...</td>\n",
       "      <td>...</td>\n",
       "      <td>...</td>\n",
       "    </tr>\n",
       "    <tr>\n",
       "      <th>414891</th>\n",
       "      <td>a01da4b748750ab5</td>\n",
       "      <td>52176</td>\n",
       "      <td>21128</td>\n",
       "    </tr>\n",
       "    <tr>\n",
       "      <th>37118</th>\n",
       "      <td>a09fbdab9f32adf3</td>\n",
       "      <td>4733</td>\n",
       "      <td>1898</td>\n",
       "    </tr>\n",
       "    <tr>\n",
       "      <th>540619</th>\n",
       "      <td>96e5da179151d99b</td>\n",
       "      <td>68974</td>\n",
       "      <td>27848</td>\n",
       "    </tr>\n",
       "    <tr>\n",
       "      <th>646557</th>\n",
       "      <td>089383eebd0d6e24</td>\n",
       "      <td>83139</td>\n",
       "      <td>33459</td>\n",
       "    </tr>\n",
       "    <tr>\n",
       "      <th>191216</th>\n",
       "      <td>5dbaa96bb8a3e545</td>\n",
       "      <td>24814</td>\n",
       "      <td>9991</td>\n",
       "    </tr>\n",
       "  </tbody>\n",
       "</table>\n",
       "<p>74600 rows × 3 columns</p>\n",
       "</div>"
      ]
     },
     "execution_count": 100,
     "metadata": {},
     "output_type": "execute_result"
    }
   ],
   "execution_count": 100
  },
  {
   "metadata": {
    "ExecuteTime": {
     "end_time": "2024-07-02T11:22:33.706651Z",
     "start_time": "2024-07-02T11:22:33.702691Z"
    }
   },
   "cell_type": "code",
   "source": "bg_val_df = val_df[val_df['landmark_id'].isin(bg_landmarks_ids['landmark_id'])]\n",
   "id": "cae0f9bba47a9ac7",
   "outputs": [],
   "execution_count": 104
  },
  {
   "metadata": {
    "ExecuteTime": {
     "end_time": "2024-07-02T11:41:16.017952Z",
     "start_time": "2024-07-02T11:41:16.015294Z"
    }
   },
   "cell_type": "code",
   "source": [
    "bg_val_dataset = CustomCountryDataset(\n",
    "    photo_label_df=bg_val_df,\n",
    "    path=BASE_PATH + '/train',\n",
    "    transform=transform_to_128,\n",
    ")\n",
    "\n",
    "\n",
    "bg_val_dataloader = DataLoader(\n",
    "    dataset=bg_val_dataset,\n",
    "    batch_size=batch_size,\n",
    "    shuffle=False,\n",
    ")"
   ],
   "id": "ce617b35f6e9585e",
   "outputs": [],
   "execution_count": 109
  },
  {
   "metadata": {
    "ExecuteTime": {
     "end_time": "2024-07-02T11:41:26.733096Z",
     "start_time": "2024-07-02T11:41:23.682567Z"
    }
   },
   "cell_type": "code",
   "source": "bg_valid_gap, _ = metrics.calculate_gap(efficient_net, bg_val_dataloader,unique_classes_train, device)",
   "id": "f92e9a5f31e7b6c",
   "outputs": [
    {
     "data": {
      "text/plain": [
       "Evaluating model:   0%|          | 0/9 [00:00<?, ?it/s]"
      ],
      "application/vnd.jupyter.widget-view+json": {
       "version_major": 2,
       "version_minor": 0,
       "model_id": "baae9106d27e4b299691a6d5b9d8d4ce"
      }
     },
     "metadata": {},
     "output_type": "display_data"
    }
   ],
   "execution_count": 111
  },
  {
   "metadata": {
    "ExecuteTime": {
     "end_time": "2024-07-02T11:43:15.686309Z",
     "start_time": "2024-07-02T11:43:15.683331Z"
    }
   },
   "cell_type": "code",
   "source": "f\"Bulgarian val_GAP with model on all EU countries: {bg_valid_gap:.4f} \"",
   "id": "b284ba209c64c69e",
   "outputs": [
    {
     "data": {
      "text/plain": [
       "'Bulgarian val_GAP with model on all EU countries: 0.7272 '"
      ]
     },
     "execution_count": 113,
     "metadata": {},
     "output_type": "execute_result"
    }
   ],
   "execution_count": 113
  },
  {
   "metadata": {
    "ExecuteTime": {
     "end_time": "2024-07-02T11:54:51.581817Z",
     "start_time": "2024-07-02T11:54:51.578267Z"
    }
   },
   "cell_type": "code",
   "source": [
    "bg_landmarks_ids2 = pd.read_csv(\"bg_landmarks_ids.csv\", sep='\\t')\n",
    "print(f\"BG contains {len(bg_landmarks_ids2)} landmarks\")"
   ],
   "id": "bad69c948aeab7c5",
   "outputs": [
    {
     "name": "stdout",
     "output_type": "stream",
     "text": [
      "BG contains 658 landmarks\n"
     ]
    }
   ],
   "execution_count": 117
  },
  {
   "metadata": {
    "ExecuteTime": {
     "end_time": "2024-07-02T11:55:32.615171Z",
     "start_time": "2024-07-02T11:55:32.612152Z"
    }
   },
   "cell_type": "code",
   "source": "bg_landmarks_ids2.equals(bg_landmarks_ids)",
   "id": "aff98e15f2711998",
   "outputs": [
    {
     "data": {
      "text/plain": [
       "True"
      ]
     },
     "execution_count": 118,
     "metadata": {},
     "output_type": "execute_result"
    }
   ],
   "execution_count": 118
  },
  {
   "metadata": {},
   "cell_type": "code",
   "outputs": [],
   "execution_count": null,
   "source": "",
   "id": "26b554e770bb65ee"
  }
 ],
 "metadata": {
  "kernelspec": {
   "display_name": "Python 3",
   "language": "python",
   "name": "python3"
  },
  "language_info": {
   "codemirror_mode": {
    "name": "ipython",
    "version": 2
   },
   "file_extension": ".py",
   "mimetype": "text/x-python",
   "name": "python",
   "nbconvert_exporter": "python",
   "pygments_lexer": "ipython2",
   "version": "2.7.6"
  }
 },
 "nbformat": 4,
 "nbformat_minor": 5
}
